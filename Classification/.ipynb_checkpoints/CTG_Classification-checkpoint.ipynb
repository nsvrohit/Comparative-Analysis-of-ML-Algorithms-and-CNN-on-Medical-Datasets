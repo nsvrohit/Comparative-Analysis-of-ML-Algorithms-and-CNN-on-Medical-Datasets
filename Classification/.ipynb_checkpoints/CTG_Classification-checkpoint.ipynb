{
 "cells": [
  {
   "cell_type": "markdown",
   "metadata": {
    "colab_type": "text",
    "id": "CuYcUuYZLwIw"
   },
   "source": [
    "Importing Necessary Packages"
   ]
  },
  {
   "cell_type": "code",
   "execution_count": 1,
   "metadata": {
    "colab": {
     "base_uri": "https://localhost:8080/",
     "height": 71
    },
    "colab_type": "code",
    "id": "5URzRNXBKsD6",
    "outputId": "b2b49185-47bd-4020-bba3-ba0aa06047f0"
   },
   "outputs": [
    {
     "name": "stderr",
     "output_type": "stream",
     "text": [
      "/usr/local/lib/python3.6/dist-packages/statsmodels/tools/_testing.py:19: FutureWarning: pandas.util.testing is deprecated. Use the functions in the public API at pandas.testing instead.\n",
      "  import pandas.util.testing as tm\n"
     ]
    }
   ],
   "source": [
    "# Importing Support Libraries\n",
    "import numpy as np\n",
    "import pandas as pd\n",
    "import seaborn as sns\n",
    "import matplotlib.pyplot as plt\n",
    "%matplotlib inline"
   ]
  },
  {
   "cell_type": "code",
   "execution_count": 0,
   "metadata": {
    "colab": {},
    "colab_type": "code",
    "id": "1Fed8bdVKsEN"
   },
   "outputs": [],
   "source": [
    "# Importing Preprocessing\n",
    "from sklearn import preprocessing\n",
    "LabelEncoder = preprocessing.LabelEncoder()\n",
    "from sklearn.preprocessing import StandardScaler"
   ]
  },
  {
   "cell_type": "code",
   "execution_count": 0,
   "metadata": {
    "colab": {},
    "colab_type": "code",
    "id": "e_zIcWv3KsEU"
   },
   "outputs": [],
   "source": [
    "# Importing Train-Test Split\n",
    "from sklearn.model_selection import train_test_split"
   ]
  },
  {
   "cell_type": "code",
   "execution_count": 0,
   "metadata": {
    "colab": {},
    "colab_type": "code",
    "id": "U-v2ElL5KsEb"
   },
   "outputs": [],
   "source": [
    "# Importing Metrics\n",
    "from sklearn.metrics import confusion_matrix\n",
    "from sklearn.metrics import accuracy_score\n",
    "from sklearn.metrics import precision_score\n",
    "from sklearn.metrics import recall_score\n",
    "\n",
    "from sklearn.metrics import cohen_kappa_score\n",
    "from sklearn.metrics import f1_score"
   ]
  },
  {
   "cell_type": "code",
   "execution_count": 0,
   "metadata": {
    "colab": {},
    "colab_type": "code",
    "id": "f6WsIgOZKsEi"
   },
   "outputs": [],
   "source": [
    "# Importing Feature Selectors\n",
    "from sklearn.feature_selection import RFE\n",
    "from sklearn.feature_selection import SelectFromModel\n",
    "from sklearn.ensemble import RandomForestClassifier\n",
    "from sklearn.ensemble import ExtraTreesClassifier\n",
    "from sklearn.linear_model import LogisticRegression"
   ]
  },
  {
   "cell_type": "code",
   "execution_count": 0,
   "metadata": {
    "colab": {},
    "colab_type": "code",
    "id": "8O1MeocNKsEo"
   },
   "outputs": [],
   "source": [
    "# Importing Classifiers\n",
    "from sklearn.linear_model import Perceptron\n",
    "from sklearn.svm import SVC\n",
    "from sklearn.neighbors import KNeighborsClassifier\n",
    "from sklearn.naive_bayes import GaussianNB\n",
    "from sklearn.tree import DecisionTreeClassifier"
   ]
  },
  {
   "cell_type": "code",
   "execution_count": 0,
   "metadata": {
    "colab": {},
    "colab_type": "code",
    "id": "GgaflTo5OPts"
   },
   "outputs": [],
   "source": [
    "# Importing Tensorflow\n",
    "import tensorflow as tf\n",
    "from tensorflow import keras\n",
    "from tensorflow.keras import Sequential\n",
    "from tensorflow.keras.layers import Flatten, Dense, BatchNormalization, Dropout\n",
    "from tensorflow.keras.layers import Conv1D, MaxPool1D\n",
    "from tensorflow.keras.optimizers import Adam"
   ]
  },
  {
   "cell_type": "markdown",
   "metadata": {
    "colab_type": "text",
    "id": "HfeyRDr3L9wD"
   },
   "source": [
    "Defining Classification Functions"
   ]
  },
  {
   "cell_type": "code",
   "execution_count": 0,
   "metadata": {
    "colab": {},
    "colab_type": "code",
    "id": "M1PI5T8yKsEu"
   },
   "outputs": [],
   "source": [
    "# Perceptron\n",
    "def runPT(X_train, X_test, y_train, y_test):\n",
    "    PT = Perceptron(tol=1e-3, random_state=0)\n",
    "    PT.fit(X_train, y_train)\n",
    "    y_predict = PT.predict(X_test)\n",
    "    print(\"Perceptron\\n\")\n",
    "    print(confusion_matrix(y_test, y_predict))\n",
    "    print()\n",
    "    print(\"Accuracy Score:   \", accuracy_score(y_test, y_predict))\n",
    "    print(\"Precision Score:  \", precision_score(y_test, y_predict))\n",
    "    print(\"Recall Score:     \", recall_score(y_test, y_predict))\n",
    "    print(\"Kappa Score:      \", cohen_kappa_score(y_test, y_predict))\n",
    "    print(\"F1 Score:         \", f1_score(y_test, y_predict))\n",
    "    \n",
    "# Support Vector Machine - Classifier (SVC)\n",
    "def runSVC(X_train, X_test, y_train, y_test):\n",
    "    SVM_C = SVC()\n",
    "    SVM_C.fit(X_train, y_train)\n",
    "    y_predict = SVM_C.predict(X_test)\n",
    "    print(\"Support Vector Machine - Classifier (SVC)\\n\")\n",
    "    print(confusion_matrix(y_test, y_predict))\n",
    "    print()\n",
    "    print(\"Accuracy Score:   \", accuracy_score(y_test, y_predict))\n",
    "    print(\"Precision Score:  \", precision_score(y_test, y_predict))\n",
    "    print(\"Recall Score:     \", recall_score(y_test, y_predict))\n",
    "    print(\"Kappa Score:      \", cohen_kappa_score(y_test, y_predict))\n",
    "    print(\"F1 Score:         \", f1_score(y_test, y_predict))\n",
    "    \n",
    "# K-Nearest Neighbors Classifier\n",
    "def runKNN(X_train, X_test, y_train, y_test):\n",
    "    KNN = KNeighborsClassifier(n_neighbors=5)\n",
    "    KNN.fit(X_train, y_train)\n",
    "    y_predict = KNN.predict(X_test)\n",
    "    print(\"K-Nearest Neighbors Classifier\\n\")\n",
    "    print(confusion_matrix(y_test, y_predict))\n",
    "    print()\n",
    "    print(\"Accuracy Score:   \", accuracy_score(y_test, y_predict))\n",
    "    print(\"Precision Score:  \", precision_score(y_test, y_predict))\n",
    "    print(\"Recall Score:     \", recall_score(y_test, y_predict))\n",
    "    print(\"Kappa Score:      \", cohen_kappa_score(y_test, y_predict))\n",
    "    print(\"F1 Score:         \", f1_score(y_test, y_predict))\n",
    "    \n",
    "# Gaussian Naive Bayes \n",
    "def runGNB(X_train, X_test, y_train, y_test):\n",
    "    GNB = GaussianNB()\n",
    "    GNB.fit(X_train, y_train)\n",
    "    y_predict = GNB.predict(X_test)\n",
    "    print(\"Gaussian Naive Bayes\\n\")\n",
    "    print(confusion_matrix(y_test, y_predict))\n",
    "    print()\n",
    "    print(\"Accuracy Score:   \", accuracy_score(y_test, y_predict))\n",
    "    print(\"Precision Score:  \", precision_score(y_test, y_predict))\n",
    "    print(\"Recall Score:     \", recall_score(y_test, y_predict))\n",
    "    print(\"Kappa Score:      \", cohen_kappa_score(y_test, y_predict))\n",
    "    print(\"F1 Score:         \", f1_score(y_test, y_predict))\n",
    "    \n",
    "# Decision Tree Classifier\n",
    "def runDTC(X_train, X_test, y_train, y_test):\n",
    "    DTC = DecisionTreeClassifier()\n",
    "    DTC.fit(X_train, y_train)\n",
    "    y_predict = DTC.predict(X_test)\n",
    "    print(\"Decision Tree Classifier\\n\")\n",
    "    print(confusion_matrix(y_test, y_predict))\n",
    "    print()\n",
    "    print(\"Accuracy Score:   \", accuracy_score(y_test, y_predict))\n",
    "    print(\"Precision Score:  \", precision_score(y_test, y_predict))\n",
    "    print(\"Recall Score:     \", recall_score(y_test, y_predict))\n",
    "    print(\"Kappa Score:      \", cohen_kappa_score(y_test, y_predict))\n",
    "    print(\"F1 Score:         \", f1_score(y_test, y_predict))"
   ]
  },
  {
   "cell_type": "markdown",
   "metadata": {
    "colab_type": "text",
    "id": "NdKwdPxr_zx3"
   },
   "source": [
    "Defining CNN Model Function"
   ]
  },
  {
   "cell_type": "code",
   "execution_count": 0,
   "metadata": {
    "colab": {},
    "colab_type": "code",
    "id": "VFlRaX25_yI_"
   },
   "outputs": [],
   "source": [
    "def CNN(features, epochs):\n",
    "  epochs = epochs\n",
    "  model = Sequential()\n",
    "\n",
    "  model.add(Conv1D(filters=32, kernel_size=2, activation='tanh', input_shape=(features,1)))\n",
    "  model.add(BatchNormalization())\n",
    "  model.add(Dropout(0.2))\n",
    "\n",
    "  model.add(Conv1D(filters=64, kernel_size=2, activation='tanh'))\n",
    "  model.add(BatchNormalization())\n",
    "  model.add(Dropout(0.2))\n",
    "\n",
    "  model.add(Flatten())\n",
    "  model.add(Dense(64, activation='tanh'))\n",
    "  model.add(Dropout(0.5))\n",
    "\n",
    "  model.add(Dense(1, activation='sigmoid'))\n",
    "  model.compile(optimizer=Adam(), loss='binary_crossentropy', metrics=['accuracy'])\n",
    "\n",
    "  return model"
   ]
  },
  {
   "cell_type": "markdown",
   "metadata": {
    "colab_type": "text",
    "id": "LRfGOQ9WVEXR"
   },
   "source": [
    "CNN Metrics Function"
   ]
  },
  {
   "cell_type": "code",
   "execution_count": 0,
   "metadata": {
    "colab": {},
    "colab_type": "code",
    "id": "FPUaEzfCVHLr"
   },
   "outputs": [],
   "source": [
    "def CNNMetrics(model, X_test, y_test):\n",
    "    y_predict = model.predict_classes(X_test)\n",
    "    print(\"Convolutional Neural Network\\n\")\n",
    "    print(confusion_matrix(y_test, y_predict))\n",
    "    print()\n",
    "    print(\"Accuracy Score:   \", accuracy_score(y_test, y_predict))\n",
    "    print(\"Precision Score:  \", precision_score(y_test, y_predict))\n",
    "    print(\"Recall Score:     \", recall_score(y_test, y_predict))\n",
    "    print(\"Kappa Score:      \", cohen_kappa_score(y_test, y_predict))\n",
    "    print(\"F1 Score:         \", f1_score(y_test, y_predict))  "
   ]
  },
  {
   "cell_type": "markdown",
   "metadata": {
    "colab_type": "text",
    "id": "bP6SiKVQA3Pj"
   },
   "source": [
    "Plot Learning Curve Function"
   ]
  },
  {
   "cell_type": "code",
   "execution_count": 0,
   "metadata": {
    "colab": {},
    "colab_type": "code",
    "id": "RiolDvU8A99Y"
   },
   "outputs": [],
   "source": [
    "def plotLC(history, epoch):\n",
    "  epoch_range = range(1, epoch+1)\n",
    "  plt.plot(epoch_range, history.history['accuracy'])\n",
    "  plt.plot(epoch_range, history.history['val_accuracy'])\n",
    "  plt.title(\"Model Accuracy\")\n",
    "  plt.xlabel(\"Epochs\")\n",
    "  plt.ylabel(\"Accuracy\")\n",
    "  plt.legend(['Train', 'Validation'], loc='upper left')\n",
    "  plt.show()\n",
    "\n",
    "  plt.plot(epoch_range, history.history['loss'])\n",
    "  plt.plot(epoch_range, history.history['val_loss'])\n",
    "  plt.title(\"Model Loss\")\n",
    "  plt.xlabel(\"Epochs\")\n",
    "  plt.ylabel(\"Loss\")\n",
    "  plt.legend(['Train', 'Validation'], loc='upper left')\n",
    "  plt.show()"
   ]
  },
  {
   "cell_type": "markdown",
   "metadata": {
    "colab_type": "text",
    "id": "Ip9efbP5MDPn"
   },
   "source": [
    "Dataset Preprocessing"
   ]
  },
  {
   "cell_type": "code",
   "execution_count": 0,
   "metadata": {
    "colab": {},
    "colab_type": "code",
    "id": "CX3NeB1_KsEz"
   },
   "outputs": [],
   "source": [
    "# Loading the Dataset\n",
    "dataURL = 'https://archive.ics.uci.edu/ml/machine-learning-databases/00193/CTG.xls'\n",
    "df = pd.read_excel(dataURL, sheet_name = 'Raw Data', header=None)"
   ]
  },
  {
   "cell_type": "code",
   "execution_count": 13,
   "metadata": {
    "colab": {
     "base_uri": "https://localhost:8080/",
     "height": 609
    },
    "colab_type": "code",
    "id": "DK9ya8N_KsE2",
    "outputId": "50ff74eb-607e-4614-94fb-1bf1fe197a84"
   },
   "outputs": [
    {
     "data": {
      "text/html": [
       "<div>\n",
       "<style scoped>\n",
       "    .dataframe tbody tr th:only-of-type {\n",
       "        vertical-align: middle;\n",
       "    }\n",
       "\n",
       "    .dataframe tbody tr th {\n",
       "        vertical-align: top;\n",
       "    }\n",
       "\n",
       "    .dataframe thead th {\n",
       "        text-align: right;\n",
       "    }\n",
       "</style>\n",
       "<table border=\"1\" class=\"dataframe\">\n",
       "  <thead>\n",
       "    <tr style=\"text-align: right;\">\n",
       "      <th></th>\n",
       "      <th>0</th>\n",
       "      <th>1</th>\n",
       "      <th>2</th>\n",
       "      <th>3</th>\n",
       "      <th>4</th>\n",
       "      <th>5</th>\n",
       "      <th>6</th>\n",
       "      <th>7</th>\n",
       "      <th>8</th>\n",
       "      <th>9</th>\n",
       "      <th>10</th>\n",
       "      <th>11</th>\n",
       "      <th>12</th>\n",
       "      <th>13</th>\n",
       "      <th>14</th>\n",
       "      <th>15</th>\n",
       "      <th>16</th>\n",
       "      <th>17</th>\n",
       "      <th>18</th>\n",
       "      <th>19</th>\n",
       "      <th>20</th>\n",
       "      <th>21</th>\n",
       "      <th>22</th>\n",
       "      <th>23</th>\n",
       "      <th>24</th>\n",
       "      <th>25</th>\n",
       "      <th>26</th>\n",
       "      <th>27</th>\n",
       "      <th>28</th>\n",
       "      <th>29</th>\n",
       "      <th>30</th>\n",
       "      <th>31</th>\n",
       "      <th>32</th>\n",
       "      <th>33</th>\n",
       "      <th>34</th>\n",
       "      <th>35</th>\n",
       "      <th>36</th>\n",
       "      <th>37</th>\n",
       "      <th>38</th>\n",
       "      <th>39</th>\n",
       "    </tr>\n",
       "  </thead>\n",
       "  <tbody>\n",
       "    <tr>\n",
       "      <th>0</th>\n",
       "      <td>FileName</td>\n",
       "      <td>Date</td>\n",
       "      <td>SegFile</td>\n",
       "      <td>b</td>\n",
       "      <td>e</td>\n",
       "      <td>LBE</td>\n",
       "      <td>LB</td>\n",
       "      <td>AC</td>\n",
       "      <td>FM</td>\n",
       "      <td>UC</td>\n",
       "      <td>ASTV</td>\n",
       "      <td>MSTV</td>\n",
       "      <td>ALTV</td>\n",
       "      <td>MLTV</td>\n",
       "      <td>DL</td>\n",
       "      <td>DS</td>\n",
       "      <td>DP</td>\n",
       "      <td>DR</td>\n",
       "      <td>Width</td>\n",
       "      <td>Min</td>\n",
       "      <td>Max</td>\n",
       "      <td>Nmax</td>\n",
       "      <td>Nzeros</td>\n",
       "      <td>Mode</td>\n",
       "      <td>Mean</td>\n",
       "      <td>Median</td>\n",
       "      <td>Variance</td>\n",
       "      <td>Tendency</td>\n",
       "      <td>A</td>\n",
       "      <td>B</td>\n",
       "      <td>C</td>\n",
       "      <td>D</td>\n",
       "      <td>E</td>\n",
       "      <td>AD</td>\n",
       "      <td>DE</td>\n",
       "      <td>LD</td>\n",
       "      <td>FS</td>\n",
       "      <td>SUSP</td>\n",
       "      <td>CLASS</td>\n",
       "      <td>NSP</td>\n",
       "    </tr>\n",
       "    <tr>\n",
       "      <th>1</th>\n",
       "      <td>NaN</td>\n",
       "      <td>NaN</td>\n",
       "      <td>NaN</td>\n",
       "      <td>NaN</td>\n",
       "      <td>NaN</td>\n",
       "      <td>NaN</td>\n",
       "      <td>NaN</td>\n",
       "      <td>NaN</td>\n",
       "      <td>NaN</td>\n",
       "      <td>NaN</td>\n",
       "      <td>NaN</td>\n",
       "      <td>NaN</td>\n",
       "      <td>NaN</td>\n",
       "      <td>NaN</td>\n",
       "      <td>NaN</td>\n",
       "      <td>NaN</td>\n",
       "      <td>NaN</td>\n",
       "      <td>NaN</td>\n",
       "      <td>NaN</td>\n",
       "      <td>NaN</td>\n",
       "      <td>NaN</td>\n",
       "      <td>NaN</td>\n",
       "      <td>NaN</td>\n",
       "      <td>NaN</td>\n",
       "      <td>NaN</td>\n",
       "      <td>NaN</td>\n",
       "      <td>NaN</td>\n",
       "      <td>NaN</td>\n",
       "      <td>NaN</td>\n",
       "      <td>NaN</td>\n",
       "      <td>NaN</td>\n",
       "      <td>NaN</td>\n",
       "      <td>NaN</td>\n",
       "      <td>NaN</td>\n",
       "      <td>NaN</td>\n",
       "      <td>NaN</td>\n",
       "      <td>NaN</td>\n",
       "      <td>NaN</td>\n",
       "      <td>NaN</td>\n",
       "      <td>NaN</td>\n",
       "    </tr>\n",
       "    <tr>\n",
       "      <th>2</th>\n",
       "      <td>Variab10.txt</td>\n",
       "      <td>1996-12-01 00:00:00</td>\n",
       "      <td>CTG0001.txt</td>\n",
       "      <td>240</td>\n",
       "      <td>357</td>\n",
       "      <td>120</td>\n",
       "      <td>120</td>\n",
       "      <td>0</td>\n",
       "      <td>0</td>\n",
       "      <td>0</td>\n",
       "      <td>73</td>\n",
       "      <td>0.5</td>\n",
       "      <td>43</td>\n",
       "      <td>2.4</td>\n",
       "      <td>0</td>\n",
       "      <td>0</td>\n",
       "      <td>0</td>\n",
       "      <td>0</td>\n",
       "      <td>64</td>\n",
       "      <td>62</td>\n",
       "      <td>126</td>\n",
       "      <td>2</td>\n",
       "      <td>0</td>\n",
       "      <td>120</td>\n",
       "      <td>137</td>\n",
       "      <td>121</td>\n",
       "      <td>73</td>\n",
       "      <td>1</td>\n",
       "      <td>0</td>\n",
       "      <td>0</td>\n",
       "      <td>0</td>\n",
       "      <td>0</td>\n",
       "      <td>0</td>\n",
       "      <td>0</td>\n",
       "      <td>0</td>\n",
       "      <td>0</td>\n",
       "      <td>1</td>\n",
       "      <td>0</td>\n",
       "      <td>9</td>\n",
       "      <td>2</td>\n",
       "    </tr>\n",
       "    <tr>\n",
       "      <th>3</th>\n",
       "      <td>Fmcs_1.txt</td>\n",
       "      <td>1996-05-03 00:00:00</td>\n",
       "      <td>CTG0002.txt</td>\n",
       "      <td>5</td>\n",
       "      <td>632</td>\n",
       "      <td>132</td>\n",
       "      <td>132</td>\n",
       "      <td>4</td>\n",
       "      <td>0</td>\n",
       "      <td>4</td>\n",
       "      <td>17</td>\n",
       "      <td>2.1</td>\n",
       "      <td>0</td>\n",
       "      <td>10.4</td>\n",
       "      <td>2</td>\n",
       "      <td>0</td>\n",
       "      <td>0</td>\n",
       "      <td>0</td>\n",
       "      <td>130</td>\n",
       "      <td>68</td>\n",
       "      <td>198</td>\n",
       "      <td>6</td>\n",
       "      <td>1</td>\n",
       "      <td>141</td>\n",
       "      <td>136</td>\n",
       "      <td>140</td>\n",
       "      <td>12</td>\n",
       "      <td>0</td>\n",
       "      <td>0</td>\n",
       "      <td>0</td>\n",
       "      <td>0</td>\n",
       "      <td>0</td>\n",
       "      <td>0</td>\n",
       "      <td>1</td>\n",
       "      <td>0</td>\n",
       "      <td>0</td>\n",
       "      <td>0</td>\n",
       "      <td>0</td>\n",
       "      <td>6</td>\n",
       "      <td>1</td>\n",
       "    </tr>\n",
       "    <tr>\n",
       "      <th>4</th>\n",
       "      <td>Fmcs_1.txt</td>\n",
       "      <td>1996-05-03 00:00:00</td>\n",
       "      <td>CTG0003.txt</td>\n",
       "      <td>177</td>\n",
       "      <td>779</td>\n",
       "      <td>133</td>\n",
       "      <td>133</td>\n",
       "      <td>2</td>\n",
       "      <td>0</td>\n",
       "      <td>5</td>\n",
       "      <td>16</td>\n",
       "      <td>2.1</td>\n",
       "      <td>0</td>\n",
       "      <td>13.4</td>\n",
       "      <td>2</td>\n",
       "      <td>0</td>\n",
       "      <td>0</td>\n",
       "      <td>0</td>\n",
       "      <td>130</td>\n",
       "      <td>68</td>\n",
       "      <td>198</td>\n",
       "      <td>5</td>\n",
       "      <td>1</td>\n",
       "      <td>141</td>\n",
       "      <td>135</td>\n",
       "      <td>138</td>\n",
       "      <td>13</td>\n",
       "      <td>0</td>\n",
       "      <td>0</td>\n",
       "      <td>0</td>\n",
       "      <td>0</td>\n",
       "      <td>0</td>\n",
       "      <td>0</td>\n",
       "      <td>1</td>\n",
       "      <td>0</td>\n",
       "      <td>0</td>\n",
       "      <td>0</td>\n",
       "      <td>0</td>\n",
       "      <td>6</td>\n",
       "      <td>1</td>\n",
       "    </tr>\n",
       "    <tr>\n",
       "      <th>...</th>\n",
       "      <td>...</td>\n",
       "      <td>...</td>\n",
       "      <td>...</td>\n",
       "      <td>...</td>\n",
       "      <td>...</td>\n",
       "      <td>...</td>\n",
       "      <td>...</td>\n",
       "      <td>...</td>\n",
       "      <td>...</td>\n",
       "      <td>...</td>\n",
       "      <td>...</td>\n",
       "      <td>...</td>\n",
       "      <td>...</td>\n",
       "      <td>...</td>\n",
       "      <td>...</td>\n",
       "      <td>...</td>\n",
       "      <td>...</td>\n",
       "      <td>...</td>\n",
       "      <td>...</td>\n",
       "      <td>...</td>\n",
       "      <td>...</td>\n",
       "      <td>...</td>\n",
       "      <td>...</td>\n",
       "      <td>...</td>\n",
       "      <td>...</td>\n",
       "      <td>...</td>\n",
       "      <td>...</td>\n",
       "      <td>...</td>\n",
       "      <td>...</td>\n",
       "      <td>...</td>\n",
       "      <td>...</td>\n",
       "      <td>...</td>\n",
       "      <td>...</td>\n",
       "      <td>...</td>\n",
       "      <td>...</td>\n",
       "      <td>...</td>\n",
       "      <td>...</td>\n",
       "      <td>...</td>\n",
       "      <td>...</td>\n",
       "      <td>...</td>\n",
       "    </tr>\n",
       "    <tr>\n",
       "      <th>2126</th>\n",
       "      <td>S8001045.dsp</td>\n",
       "      <td>1998-06-06 00:00:00</td>\n",
       "      <td>CTG2127.txt</td>\n",
       "      <td>1576</td>\n",
       "      <td>3049</td>\n",
       "      <td>140</td>\n",
       "      <td>140</td>\n",
       "      <td>1</td>\n",
       "      <td>0</td>\n",
       "      <td>9</td>\n",
       "      <td>78</td>\n",
       "      <td>0.4</td>\n",
       "      <td>27</td>\n",
       "      <td>7</td>\n",
       "      <td>0</td>\n",
       "      <td>0</td>\n",
       "      <td>0</td>\n",
       "      <td>0</td>\n",
       "      <td>66</td>\n",
       "      <td>103</td>\n",
       "      <td>169</td>\n",
       "      <td>6</td>\n",
       "      <td>0</td>\n",
       "      <td>152</td>\n",
       "      <td>147</td>\n",
       "      <td>151</td>\n",
       "      <td>4</td>\n",
       "      <td>1</td>\n",
       "      <td>0</td>\n",
       "      <td>0</td>\n",
       "      <td>0</td>\n",
       "      <td>0</td>\n",
       "      <td>1</td>\n",
       "      <td>0</td>\n",
       "      <td>0</td>\n",
       "      <td>0</td>\n",
       "      <td>0</td>\n",
       "      <td>0</td>\n",
       "      <td>5</td>\n",
       "      <td>2</td>\n",
       "    </tr>\n",
       "    <tr>\n",
       "      <th>2127</th>\n",
       "      <td>S8001045.dsp</td>\n",
       "      <td>1998-06-06 00:00:00</td>\n",
       "      <td>CTG2128.txt</td>\n",
       "      <td>2796</td>\n",
       "      <td>3415</td>\n",
       "      <td>142</td>\n",
       "      <td>142</td>\n",
       "      <td>1</td>\n",
       "      <td>1</td>\n",
       "      <td>5</td>\n",
       "      <td>74</td>\n",
       "      <td>0.4</td>\n",
       "      <td>36</td>\n",
       "      <td>5</td>\n",
       "      <td>0</td>\n",
       "      <td>0</td>\n",
       "      <td>0</td>\n",
       "      <td>0</td>\n",
       "      <td>42</td>\n",
       "      <td>117</td>\n",
       "      <td>159</td>\n",
       "      <td>2</td>\n",
       "      <td>1</td>\n",
       "      <td>145</td>\n",
       "      <td>143</td>\n",
       "      <td>145</td>\n",
       "      <td>1</td>\n",
       "      <td>0</td>\n",
       "      <td>1</td>\n",
       "      <td>0</td>\n",
       "      <td>0</td>\n",
       "      <td>0</td>\n",
       "      <td>0</td>\n",
       "      <td>0</td>\n",
       "      <td>0</td>\n",
       "      <td>0</td>\n",
       "      <td>0</td>\n",
       "      <td>0</td>\n",
       "      <td>1</td>\n",
       "      <td>1</td>\n",
       "    </tr>\n",
       "    <tr>\n",
       "      <th>2128</th>\n",
       "      <td>NaN</td>\n",
       "      <td>NaN</td>\n",
       "      <td>NaN</td>\n",
       "      <td>NaN</td>\n",
       "      <td>NaN</td>\n",
       "      <td>NaN</td>\n",
       "      <td>NaN</td>\n",
       "      <td>NaN</td>\n",
       "      <td>NaN</td>\n",
       "      <td>NaN</td>\n",
       "      <td>NaN</td>\n",
       "      <td>NaN</td>\n",
       "      <td>NaN</td>\n",
       "      <td>NaN</td>\n",
       "      <td>NaN</td>\n",
       "      <td>NaN</td>\n",
       "      <td>NaN</td>\n",
       "      <td>NaN</td>\n",
       "      <td>NaN</td>\n",
       "      <td>NaN</td>\n",
       "      <td>NaN</td>\n",
       "      <td>NaN</td>\n",
       "      <td>NaN</td>\n",
       "      <td>NaN</td>\n",
       "      <td>NaN</td>\n",
       "      <td>NaN</td>\n",
       "      <td>NaN</td>\n",
       "      <td>NaN</td>\n",
       "      <td>NaN</td>\n",
       "      <td>NaN</td>\n",
       "      <td>NaN</td>\n",
       "      <td>NaN</td>\n",
       "      <td>NaN</td>\n",
       "      <td>NaN</td>\n",
       "      <td>NaN</td>\n",
       "      <td>NaN</td>\n",
       "      <td>NaN</td>\n",
       "      <td>NaN</td>\n",
       "      <td>NaN</td>\n",
       "      <td>NaN</td>\n",
       "    </tr>\n",
       "    <tr>\n",
       "      <th>2129</th>\n",
       "      <td>NaN</td>\n",
       "      <td>NaN</td>\n",
       "      <td>NaN</td>\n",
       "      <td>NaN</td>\n",
       "      <td>NaN</td>\n",
       "      <td>NaN</td>\n",
       "      <td>NaN</td>\n",
       "      <td>NaN</td>\n",
       "      <td>NaN</td>\n",
       "      <td>NaN</td>\n",
       "      <td>NaN</td>\n",
       "      <td>NaN</td>\n",
       "      <td>NaN</td>\n",
       "      <td>NaN</td>\n",
       "      <td>0</td>\n",
       "      <td>0</td>\n",
       "      <td>0</td>\n",
       "      <td>0</td>\n",
       "      <td>NaN</td>\n",
       "      <td>NaN</td>\n",
       "      <td>NaN</td>\n",
       "      <td>NaN</td>\n",
       "      <td>NaN</td>\n",
       "      <td>NaN</td>\n",
       "      <td>NaN</td>\n",
       "      <td>NaN</td>\n",
       "      <td>NaN</td>\n",
       "      <td>NaN</td>\n",
       "      <td>NaN</td>\n",
       "      <td>NaN</td>\n",
       "      <td>NaN</td>\n",
       "      <td>NaN</td>\n",
       "      <td>NaN</td>\n",
       "      <td>NaN</td>\n",
       "      <td>NaN</td>\n",
       "      <td>NaN</td>\n",
       "      <td>NaN</td>\n",
       "      <td>NaN</td>\n",
       "      <td>NaN</td>\n",
       "      <td>NaN</td>\n",
       "    </tr>\n",
       "    <tr>\n",
       "      <th>2130</th>\n",
       "      <td>NaN</td>\n",
       "      <td>NaN</td>\n",
       "      <td>NaN</td>\n",
       "      <td>NaN</td>\n",
       "      <td>NaN</td>\n",
       "      <td>NaN</td>\n",
       "      <td>NaN</td>\n",
       "      <td>NaN</td>\n",
       "      <td>564</td>\n",
       "      <td>23</td>\n",
       "      <td>87</td>\n",
       "      <td>7</td>\n",
       "      <td>91</td>\n",
       "      <td>50.7</td>\n",
       "      <td>16</td>\n",
       "      <td>1</td>\n",
       "      <td>4</td>\n",
       "      <td>0</td>\n",
       "      <td>NaN</td>\n",
       "      <td>NaN</td>\n",
       "      <td>NaN</td>\n",
       "      <td>NaN</td>\n",
       "      <td>NaN</td>\n",
       "      <td>NaN</td>\n",
       "      <td>NaN</td>\n",
       "      <td>NaN</td>\n",
       "      <td>NaN</td>\n",
       "      <td>NaN</td>\n",
       "      <td>NaN</td>\n",
       "      <td>NaN</td>\n",
       "      <td>NaN</td>\n",
       "      <td>NaN</td>\n",
       "      <td>NaN</td>\n",
       "      <td>NaN</td>\n",
       "      <td>NaN</td>\n",
       "      <td>NaN</td>\n",
       "      <td>NaN</td>\n",
       "      <td>NaN</td>\n",
       "      <td>NaN</td>\n",
       "      <td>NaN</td>\n",
       "    </tr>\n",
       "  </tbody>\n",
       "</table>\n",
       "<p>2131 rows × 40 columns</p>\n",
       "</div>"
      ],
      "text/plain": [
       "                0                    1            2   ...    37     38   39\n",
       "0         FileName                 Date      SegFile  ...  SUSP  CLASS  NSP\n",
       "1              NaN                  NaN          NaN  ...   NaN    NaN  NaN\n",
       "2     Variab10.txt  1996-12-01 00:00:00  CTG0001.txt  ...     0      9    2\n",
       "3       Fmcs_1.txt  1996-05-03 00:00:00  CTG0002.txt  ...     0      6    1\n",
       "4       Fmcs_1.txt  1996-05-03 00:00:00  CTG0003.txt  ...     0      6    1\n",
       "...            ...                  ...          ...  ...   ...    ...  ...\n",
       "2126  S8001045.dsp  1998-06-06 00:00:00  CTG2127.txt  ...     0      5    2\n",
       "2127  S8001045.dsp  1998-06-06 00:00:00  CTG2128.txt  ...     0      1    1\n",
       "2128           NaN                  NaN          NaN  ...   NaN    NaN  NaN\n",
       "2129           NaN                  NaN          NaN  ...   NaN    NaN  NaN\n",
       "2130           NaN                  NaN          NaN  ...   NaN    NaN  NaN\n",
       "\n",
       "[2131 rows x 40 columns]"
      ]
     },
     "execution_count": 13,
     "metadata": {
      "tags": []
     },
     "output_type": "execute_result"
    }
   ],
   "source": [
    "df"
   ]
  },
  {
   "cell_type": "code",
   "execution_count": 0,
   "metadata": {
    "colab": {},
    "colab_type": "code",
    "id": "ikGZ4CxNhCMc"
   },
   "outputs": [],
   "source": [
    "df = df.dropna()"
   ]
  },
  {
   "cell_type": "code",
   "execution_count": 0,
   "metadata": {
    "colab": {},
    "colab_type": "code",
    "id": "hJzE2mUejF6B"
   },
   "outputs": [],
   "source": [
    "df.columns = df.iloc[0]"
   ]
  },
  {
   "cell_type": "code",
   "execution_count": 0,
   "metadata": {
    "colab": {},
    "colab_type": "code",
    "id": "c4l-uA5qjNr7"
   },
   "outputs": [],
   "source": [
    "df = df.drop([0])"
   ]
  },
  {
   "cell_type": "code",
   "execution_count": 0,
   "metadata": {
    "colab": {},
    "colab_type": "code",
    "id": "h4L5wD8djpVg"
   },
   "outputs": [],
   "source": [
    "df = df.drop(['FileName', 'Date', 'SegFile'], axis = 1)"
   ]
  },
  {
   "cell_type": "code",
   "execution_count": 0,
   "metadata": {
    "colab": {},
    "colab_type": "code",
    "id": "AZcTx_ImjzoF"
   },
   "outputs": [],
   "source": [
    "df = df.reset_index()"
   ]
  },
  {
   "cell_type": "code",
   "execution_count": 19,
   "metadata": {
    "colab": {
     "base_uri": "https://localhost:8080/",
     "height": 439
    },
    "colab_type": "code",
    "id": "-p3dAiRVkZwZ",
    "outputId": "2c217d73-26e8-4a74-d827-85e8d42dbadf"
   },
   "outputs": [
    {
     "data": {
      "text/html": [
       "<div>\n",
       "<style scoped>\n",
       "    .dataframe tbody tr th:only-of-type {\n",
       "        vertical-align: middle;\n",
       "    }\n",
       "\n",
       "    .dataframe tbody tr th {\n",
       "        vertical-align: top;\n",
       "    }\n",
       "\n",
       "    .dataframe thead th {\n",
       "        text-align: right;\n",
       "    }\n",
       "</style>\n",
       "<table border=\"1\" class=\"dataframe\">\n",
       "  <thead>\n",
       "    <tr style=\"text-align: right;\">\n",
       "      <th></th>\n",
       "      <th>index</th>\n",
       "      <th>b</th>\n",
       "      <th>e</th>\n",
       "      <th>LBE</th>\n",
       "      <th>LB</th>\n",
       "      <th>AC</th>\n",
       "      <th>FM</th>\n",
       "      <th>UC</th>\n",
       "      <th>ASTV</th>\n",
       "      <th>MSTV</th>\n",
       "      <th>ALTV</th>\n",
       "      <th>MLTV</th>\n",
       "      <th>DL</th>\n",
       "      <th>DS</th>\n",
       "      <th>DP</th>\n",
       "      <th>DR</th>\n",
       "      <th>Width</th>\n",
       "      <th>Min</th>\n",
       "      <th>Max</th>\n",
       "      <th>Nmax</th>\n",
       "      <th>Nzeros</th>\n",
       "      <th>Mode</th>\n",
       "      <th>Mean</th>\n",
       "      <th>Median</th>\n",
       "      <th>Variance</th>\n",
       "      <th>Tendency</th>\n",
       "      <th>A</th>\n",
       "      <th>B</th>\n",
       "      <th>C</th>\n",
       "      <th>D</th>\n",
       "      <th>E</th>\n",
       "      <th>AD</th>\n",
       "      <th>DE</th>\n",
       "      <th>LD</th>\n",
       "      <th>FS</th>\n",
       "      <th>SUSP</th>\n",
       "      <th>CLASS</th>\n",
       "      <th>NSP</th>\n",
       "    </tr>\n",
       "  </thead>\n",
       "  <tbody>\n",
       "    <tr>\n",
       "      <th>0</th>\n",
       "      <td>2</td>\n",
       "      <td>240</td>\n",
       "      <td>357</td>\n",
       "      <td>120</td>\n",
       "      <td>120</td>\n",
       "      <td>0</td>\n",
       "      <td>0</td>\n",
       "      <td>0</td>\n",
       "      <td>73</td>\n",
       "      <td>0.5</td>\n",
       "      <td>43</td>\n",
       "      <td>2.4</td>\n",
       "      <td>0</td>\n",
       "      <td>0</td>\n",
       "      <td>0</td>\n",
       "      <td>0</td>\n",
       "      <td>64</td>\n",
       "      <td>62</td>\n",
       "      <td>126</td>\n",
       "      <td>2</td>\n",
       "      <td>0</td>\n",
       "      <td>120</td>\n",
       "      <td>137</td>\n",
       "      <td>121</td>\n",
       "      <td>73</td>\n",
       "      <td>1</td>\n",
       "      <td>0</td>\n",
       "      <td>0</td>\n",
       "      <td>0</td>\n",
       "      <td>0</td>\n",
       "      <td>0</td>\n",
       "      <td>0</td>\n",
       "      <td>0</td>\n",
       "      <td>0</td>\n",
       "      <td>1</td>\n",
       "      <td>0</td>\n",
       "      <td>9</td>\n",
       "      <td>2</td>\n",
       "    </tr>\n",
       "    <tr>\n",
       "      <th>1</th>\n",
       "      <td>3</td>\n",
       "      <td>5</td>\n",
       "      <td>632</td>\n",
       "      <td>132</td>\n",
       "      <td>132</td>\n",
       "      <td>4</td>\n",
       "      <td>0</td>\n",
       "      <td>4</td>\n",
       "      <td>17</td>\n",
       "      <td>2.1</td>\n",
       "      <td>0</td>\n",
       "      <td>10.4</td>\n",
       "      <td>2</td>\n",
       "      <td>0</td>\n",
       "      <td>0</td>\n",
       "      <td>0</td>\n",
       "      <td>130</td>\n",
       "      <td>68</td>\n",
       "      <td>198</td>\n",
       "      <td>6</td>\n",
       "      <td>1</td>\n",
       "      <td>141</td>\n",
       "      <td>136</td>\n",
       "      <td>140</td>\n",
       "      <td>12</td>\n",
       "      <td>0</td>\n",
       "      <td>0</td>\n",
       "      <td>0</td>\n",
       "      <td>0</td>\n",
       "      <td>0</td>\n",
       "      <td>0</td>\n",
       "      <td>1</td>\n",
       "      <td>0</td>\n",
       "      <td>0</td>\n",
       "      <td>0</td>\n",
       "      <td>0</td>\n",
       "      <td>6</td>\n",
       "      <td>1</td>\n",
       "    </tr>\n",
       "    <tr>\n",
       "      <th>2</th>\n",
       "      <td>4</td>\n",
       "      <td>177</td>\n",
       "      <td>779</td>\n",
       "      <td>133</td>\n",
       "      <td>133</td>\n",
       "      <td>2</td>\n",
       "      <td>0</td>\n",
       "      <td>5</td>\n",
       "      <td>16</td>\n",
       "      <td>2.1</td>\n",
       "      <td>0</td>\n",
       "      <td>13.4</td>\n",
       "      <td>2</td>\n",
       "      <td>0</td>\n",
       "      <td>0</td>\n",
       "      <td>0</td>\n",
       "      <td>130</td>\n",
       "      <td>68</td>\n",
       "      <td>198</td>\n",
       "      <td>5</td>\n",
       "      <td>1</td>\n",
       "      <td>141</td>\n",
       "      <td>135</td>\n",
       "      <td>138</td>\n",
       "      <td>13</td>\n",
       "      <td>0</td>\n",
       "      <td>0</td>\n",
       "      <td>0</td>\n",
       "      <td>0</td>\n",
       "      <td>0</td>\n",
       "      <td>0</td>\n",
       "      <td>1</td>\n",
       "      <td>0</td>\n",
       "      <td>0</td>\n",
       "      <td>0</td>\n",
       "      <td>0</td>\n",
       "      <td>6</td>\n",
       "      <td>1</td>\n",
       "    </tr>\n",
       "    <tr>\n",
       "      <th>3</th>\n",
       "      <td>5</td>\n",
       "      <td>411</td>\n",
       "      <td>1192</td>\n",
       "      <td>134</td>\n",
       "      <td>134</td>\n",
       "      <td>2</td>\n",
       "      <td>0</td>\n",
       "      <td>6</td>\n",
       "      <td>16</td>\n",
       "      <td>2.4</td>\n",
       "      <td>0</td>\n",
       "      <td>23</td>\n",
       "      <td>2</td>\n",
       "      <td>0</td>\n",
       "      <td>0</td>\n",
       "      <td>0</td>\n",
       "      <td>117</td>\n",
       "      <td>53</td>\n",
       "      <td>170</td>\n",
       "      <td>11</td>\n",
       "      <td>0</td>\n",
       "      <td>137</td>\n",
       "      <td>134</td>\n",
       "      <td>137</td>\n",
       "      <td>13</td>\n",
       "      <td>1</td>\n",
       "      <td>0</td>\n",
       "      <td>0</td>\n",
       "      <td>0</td>\n",
       "      <td>0</td>\n",
       "      <td>0</td>\n",
       "      <td>1</td>\n",
       "      <td>0</td>\n",
       "      <td>0</td>\n",
       "      <td>0</td>\n",
       "      <td>0</td>\n",
       "      <td>6</td>\n",
       "      <td>1</td>\n",
       "    </tr>\n",
       "    <tr>\n",
       "      <th>4</th>\n",
       "      <td>6</td>\n",
       "      <td>533</td>\n",
       "      <td>1147</td>\n",
       "      <td>132</td>\n",
       "      <td>132</td>\n",
       "      <td>4</td>\n",
       "      <td>0</td>\n",
       "      <td>5</td>\n",
       "      <td>16</td>\n",
       "      <td>2.4</td>\n",
       "      <td>0</td>\n",
       "      <td>19.9</td>\n",
       "      <td>0</td>\n",
       "      <td>0</td>\n",
       "      <td>0</td>\n",
       "      <td>0</td>\n",
       "      <td>117</td>\n",
       "      <td>53</td>\n",
       "      <td>170</td>\n",
       "      <td>9</td>\n",
       "      <td>0</td>\n",
       "      <td>137</td>\n",
       "      <td>136</td>\n",
       "      <td>138</td>\n",
       "      <td>11</td>\n",
       "      <td>1</td>\n",
       "      <td>0</td>\n",
       "      <td>1</td>\n",
       "      <td>0</td>\n",
       "      <td>0</td>\n",
       "      <td>0</td>\n",
       "      <td>0</td>\n",
       "      <td>0</td>\n",
       "      <td>0</td>\n",
       "      <td>0</td>\n",
       "      <td>0</td>\n",
       "      <td>2</td>\n",
       "      <td>1</td>\n",
       "    </tr>\n",
       "    <tr>\n",
       "      <th>...</th>\n",
       "      <td>...</td>\n",
       "      <td>...</td>\n",
       "      <td>...</td>\n",
       "      <td>...</td>\n",
       "      <td>...</td>\n",
       "      <td>...</td>\n",
       "      <td>...</td>\n",
       "      <td>...</td>\n",
       "      <td>...</td>\n",
       "      <td>...</td>\n",
       "      <td>...</td>\n",
       "      <td>...</td>\n",
       "      <td>...</td>\n",
       "      <td>...</td>\n",
       "      <td>...</td>\n",
       "      <td>...</td>\n",
       "      <td>...</td>\n",
       "      <td>...</td>\n",
       "      <td>...</td>\n",
       "      <td>...</td>\n",
       "      <td>...</td>\n",
       "      <td>...</td>\n",
       "      <td>...</td>\n",
       "      <td>...</td>\n",
       "      <td>...</td>\n",
       "      <td>...</td>\n",
       "      <td>...</td>\n",
       "      <td>...</td>\n",
       "      <td>...</td>\n",
       "      <td>...</td>\n",
       "      <td>...</td>\n",
       "      <td>...</td>\n",
       "      <td>...</td>\n",
       "      <td>...</td>\n",
       "      <td>...</td>\n",
       "      <td>...</td>\n",
       "      <td>...</td>\n",
       "      <td>...</td>\n",
       "    </tr>\n",
       "    <tr>\n",
       "      <th>2121</th>\n",
       "      <td>2123</td>\n",
       "      <td>2059</td>\n",
       "      <td>2867</td>\n",
       "      <td>140</td>\n",
       "      <td>140</td>\n",
       "      <td>0</td>\n",
       "      <td>0</td>\n",
       "      <td>6</td>\n",
       "      <td>79</td>\n",
       "      <td>0.2</td>\n",
       "      <td>25</td>\n",
       "      <td>7.2</td>\n",
       "      <td>0</td>\n",
       "      <td>0</td>\n",
       "      <td>0</td>\n",
       "      <td>0</td>\n",
       "      <td>40</td>\n",
       "      <td>137</td>\n",
       "      <td>177</td>\n",
       "      <td>4</td>\n",
       "      <td>0</td>\n",
       "      <td>153</td>\n",
       "      <td>150</td>\n",
       "      <td>152</td>\n",
       "      <td>2</td>\n",
       "      <td>0</td>\n",
       "      <td>0</td>\n",
       "      <td>0</td>\n",
       "      <td>0</td>\n",
       "      <td>0</td>\n",
       "      <td>1</td>\n",
       "      <td>0</td>\n",
       "      <td>0</td>\n",
       "      <td>0</td>\n",
       "      <td>0</td>\n",
       "      <td>0</td>\n",
       "      <td>5</td>\n",
       "      <td>2</td>\n",
       "    </tr>\n",
       "    <tr>\n",
       "      <th>2122</th>\n",
       "      <td>2124</td>\n",
       "      <td>1576</td>\n",
       "      <td>2867</td>\n",
       "      <td>140</td>\n",
       "      <td>140</td>\n",
       "      <td>1</td>\n",
       "      <td>0</td>\n",
       "      <td>9</td>\n",
       "      <td>78</td>\n",
       "      <td>0.4</td>\n",
       "      <td>22</td>\n",
       "      <td>7.1</td>\n",
       "      <td>0</td>\n",
       "      <td>0</td>\n",
       "      <td>0</td>\n",
       "      <td>0</td>\n",
       "      <td>66</td>\n",
       "      <td>103</td>\n",
       "      <td>169</td>\n",
       "      <td>6</td>\n",
       "      <td>0</td>\n",
       "      <td>152</td>\n",
       "      <td>148</td>\n",
       "      <td>151</td>\n",
       "      <td>3</td>\n",
       "      <td>1</td>\n",
       "      <td>0</td>\n",
       "      <td>0</td>\n",
       "      <td>0</td>\n",
       "      <td>0</td>\n",
       "      <td>1</td>\n",
       "      <td>0</td>\n",
       "      <td>0</td>\n",
       "      <td>0</td>\n",
       "      <td>0</td>\n",
       "      <td>0</td>\n",
       "      <td>5</td>\n",
       "      <td>2</td>\n",
       "    </tr>\n",
       "    <tr>\n",
       "      <th>2123</th>\n",
       "      <td>2125</td>\n",
       "      <td>1576</td>\n",
       "      <td>2596</td>\n",
       "      <td>140</td>\n",
       "      <td>140</td>\n",
       "      <td>1</td>\n",
       "      <td>0</td>\n",
       "      <td>7</td>\n",
       "      <td>79</td>\n",
       "      <td>0.4</td>\n",
       "      <td>20</td>\n",
       "      <td>6.1</td>\n",
       "      <td>0</td>\n",
       "      <td>0</td>\n",
       "      <td>0</td>\n",
       "      <td>0</td>\n",
       "      <td>67</td>\n",
       "      <td>103</td>\n",
       "      <td>170</td>\n",
       "      <td>5</td>\n",
       "      <td>0</td>\n",
       "      <td>153</td>\n",
       "      <td>148</td>\n",
       "      <td>152</td>\n",
       "      <td>4</td>\n",
       "      <td>1</td>\n",
       "      <td>0</td>\n",
       "      <td>0</td>\n",
       "      <td>0</td>\n",
       "      <td>0</td>\n",
       "      <td>1</td>\n",
       "      <td>0</td>\n",
       "      <td>0</td>\n",
       "      <td>0</td>\n",
       "      <td>0</td>\n",
       "      <td>0</td>\n",
       "      <td>5</td>\n",
       "      <td>2</td>\n",
       "    </tr>\n",
       "    <tr>\n",
       "      <th>2124</th>\n",
       "      <td>2126</td>\n",
       "      <td>1576</td>\n",
       "      <td>3049</td>\n",
       "      <td>140</td>\n",
       "      <td>140</td>\n",
       "      <td>1</td>\n",
       "      <td>0</td>\n",
       "      <td>9</td>\n",
       "      <td>78</td>\n",
       "      <td>0.4</td>\n",
       "      <td>27</td>\n",
       "      <td>7</td>\n",
       "      <td>0</td>\n",
       "      <td>0</td>\n",
       "      <td>0</td>\n",
       "      <td>0</td>\n",
       "      <td>66</td>\n",
       "      <td>103</td>\n",
       "      <td>169</td>\n",
       "      <td>6</td>\n",
       "      <td>0</td>\n",
       "      <td>152</td>\n",
       "      <td>147</td>\n",
       "      <td>151</td>\n",
       "      <td>4</td>\n",
       "      <td>1</td>\n",
       "      <td>0</td>\n",
       "      <td>0</td>\n",
       "      <td>0</td>\n",
       "      <td>0</td>\n",
       "      <td>1</td>\n",
       "      <td>0</td>\n",
       "      <td>0</td>\n",
       "      <td>0</td>\n",
       "      <td>0</td>\n",
       "      <td>0</td>\n",
       "      <td>5</td>\n",
       "      <td>2</td>\n",
       "    </tr>\n",
       "    <tr>\n",
       "      <th>2125</th>\n",
       "      <td>2127</td>\n",
       "      <td>2796</td>\n",
       "      <td>3415</td>\n",
       "      <td>142</td>\n",
       "      <td>142</td>\n",
       "      <td>1</td>\n",
       "      <td>1</td>\n",
       "      <td>5</td>\n",
       "      <td>74</td>\n",
       "      <td>0.4</td>\n",
       "      <td>36</td>\n",
       "      <td>5</td>\n",
       "      <td>0</td>\n",
       "      <td>0</td>\n",
       "      <td>0</td>\n",
       "      <td>0</td>\n",
       "      <td>42</td>\n",
       "      <td>117</td>\n",
       "      <td>159</td>\n",
       "      <td>2</td>\n",
       "      <td>1</td>\n",
       "      <td>145</td>\n",
       "      <td>143</td>\n",
       "      <td>145</td>\n",
       "      <td>1</td>\n",
       "      <td>0</td>\n",
       "      <td>1</td>\n",
       "      <td>0</td>\n",
       "      <td>0</td>\n",
       "      <td>0</td>\n",
       "      <td>0</td>\n",
       "      <td>0</td>\n",
       "      <td>0</td>\n",
       "      <td>0</td>\n",
       "      <td>0</td>\n",
       "      <td>0</td>\n",
       "      <td>1</td>\n",
       "      <td>1</td>\n",
       "    </tr>\n",
       "  </tbody>\n",
       "</table>\n",
       "<p>2126 rows × 38 columns</p>\n",
       "</div>"
      ],
      "text/plain": [
       "0     index     b     e  LBE   LB AC FM UC  ...  E AD DE LD FS SUSP CLASS NSP\n",
       "0         2   240   357  120  120  0  0  0  ...  0  0  0  0  1    0     9   2\n",
       "1         3     5   632  132  132  4  0  4  ...  0  1  0  0  0    0     6   1\n",
       "2         4   177   779  133  133  2  0  5  ...  0  1  0  0  0    0     6   1\n",
       "3         5   411  1192  134  134  2  0  6  ...  0  1  0  0  0    0     6   1\n",
       "4         6   533  1147  132  132  4  0  5  ...  0  0  0  0  0    0     2   1\n",
       "...     ...   ...   ...  ...  ... .. .. ..  ... .. .. .. .. ..  ...   ...  ..\n",
       "2121   2123  2059  2867  140  140  0  0  6  ...  1  0  0  0  0    0     5   2\n",
       "2122   2124  1576  2867  140  140  1  0  9  ...  1  0  0  0  0    0     5   2\n",
       "2123   2125  1576  2596  140  140  1  0  7  ...  1  0  0  0  0    0     5   2\n",
       "2124   2126  1576  3049  140  140  1  0  9  ...  1  0  0  0  0    0     5   2\n",
       "2125   2127  2796  3415  142  142  1  1  5  ...  0  0  0  0  0    0     1   1\n",
       "\n",
       "[2126 rows x 38 columns]"
      ]
     },
     "execution_count": 19,
     "metadata": {
      "tags": []
     },
     "output_type": "execute_result"
    }
   ],
   "source": [
    "df"
   ]
  },
  {
   "cell_type": "code",
   "execution_count": 0,
   "metadata": {
    "colab": {},
    "colab_type": "code",
    "id": "1INiZkTzvupX"
   },
   "outputs": [],
   "source": [
    "df = df.drop(['index','b', 'e', 'LBE', 'DR', 'A', 'B', 'C', 'D', 'E', 'AD', 'DE', 'LD', 'FS', 'SUSP'], axis = 1)"
   ]
  },
  {
   "cell_type": "code",
   "execution_count": 21,
   "metadata": {
    "colab": {
     "base_uri": "https://localhost:8080/",
     "height": 419
    },
    "colab_type": "code",
    "id": "xUjMdOZJv0LP",
    "outputId": "ce314e68-2b1e-428b-83d1-4f0af84fda96"
   },
   "outputs": [
    {
     "data": {
      "text/html": [
       "<div>\n",
       "<style scoped>\n",
       "    .dataframe tbody tr th:only-of-type {\n",
       "        vertical-align: middle;\n",
       "    }\n",
       "\n",
       "    .dataframe tbody tr th {\n",
       "        vertical-align: top;\n",
       "    }\n",
       "\n",
       "    .dataframe thead th {\n",
       "        text-align: right;\n",
       "    }\n",
       "</style>\n",
       "<table border=\"1\" class=\"dataframe\">\n",
       "  <thead>\n",
       "    <tr style=\"text-align: right;\">\n",
       "      <th></th>\n",
       "      <th>LB</th>\n",
       "      <th>AC</th>\n",
       "      <th>FM</th>\n",
       "      <th>UC</th>\n",
       "      <th>ASTV</th>\n",
       "      <th>MSTV</th>\n",
       "      <th>ALTV</th>\n",
       "      <th>MLTV</th>\n",
       "      <th>DL</th>\n",
       "      <th>DS</th>\n",
       "      <th>DP</th>\n",
       "      <th>Width</th>\n",
       "      <th>Min</th>\n",
       "      <th>Max</th>\n",
       "      <th>Nmax</th>\n",
       "      <th>Nzeros</th>\n",
       "      <th>Mode</th>\n",
       "      <th>Mean</th>\n",
       "      <th>Median</th>\n",
       "      <th>Variance</th>\n",
       "      <th>Tendency</th>\n",
       "      <th>CLASS</th>\n",
       "      <th>NSP</th>\n",
       "    </tr>\n",
       "  </thead>\n",
       "  <tbody>\n",
       "    <tr>\n",
       "      <th>0</th>\n",
       "      <td>120</td>\n",
       "      <td>0</td>\n",
       "      <td>0</td>\n",
       "      <td>0</td>\n",
       "      <td>73</td>\n",
       "      <td>0.5</td>\n",
       "      <td>43</td>\n",
       "      <td>2.4</td>\n",
       "      <td>0</td>\n",
       "      <td>0</td>\n",
       "      <td>0</td>\n",
       "      <td>64</td>\n",
       "      <td>62</td>\n",
       "      <td>126</td>\n",
       "      <td>2</td>\n",
       "      <td>0</td>\n",
       "      <td>120</td>\n",
       "      <td>137</td>\n",
       "      <td>121</td>\n",
       "      <td>73</td>\n",
       "      <td>1</td>\n",
       "      <td>9</td>\n",
       "      <td>2</td>\n",
       "    </tr>\n",
       "    <tr>\n",
       "      <th>1</th>\n",
       "      <td>132</td>\n",
       "      <td>4</td>\n",
       "      <td>0</td>\n",
       "      <td>4</td>\n",
       "      <td>17</td>\n",
       "      <td>2.1</td>\n",
       "      <td>0</td>\n",
       "      <td>10.4</td>\n",
       "      <td>2</td>\n",
       "      <td>0</td>\n",
       "      <td>0</td>\n",
       "      <td>130</td>\n",
       "      <td>68</td>\n",
       "      <td>198</td>\n",
       "      <td>6</td>\n",
       "      <td>1</td>\n",
       "      <td>141</td>\n",
       "      <td>136</td>\n",
       "      <td>140</td>\n",
       "      <td>12</td>\n",
       "      <td>0</td>\n",
       "      <td>6</td>\n",
       "      <td>1</td>\n",
       "    </tr>\n",
       "    <tr>\n",
       "      <th>2</th>\n",
       "      <td>133</td>\n",
       "      <td>2</td>\n",
       "      <td>0</td>\n",
       "      <td>5</td>\n",
       "      <td>16</td>\n",
       "      <td>2.1</td>\n",
       "      <td>0</td>\n",
       "      <td>13.4</td>\n",
       "      <td>2</td>\n",
       "      <td>0</td>\n",
       "      <td>0</td>\n",
       "      <td>130</td>\n",
       "      <td>68</td>\n",
       "      <td>198</td>\n",
       "      <td>5</td>\n",
       "      <td>1</td>\n",
       "      <td>141</td>\n",
       "      <td>135</td>\n",
       "      <td>138</td>\n",
       "      <td>13</td>\n",
       "      <td>0</td>\n",
       "      <td>6</td>\n",
       "      <td>1</td>\n",
       "    </tr>\n",
       "    <tr>\n",
       "      <th>3</th>\n",
       "      <td>134</td>\n",
       "      <td>2</td>\n",
       "      <td>0</td>\n",
       "      <td>6</td>\n",
       "      <td>16</td>\n",
       "      <td>2.4</td>\n",
       "      <td>0</td>\n",
       "      <td>23</td>\n",
       "      <td>2</td>\n",
       "      <td>0</td>\n",
       "      <td>0</td>\n",
       "      <td>117</td>\n",
       "      <td>53</td>\n",
       "      <td>170</td>\n",
       "      <td>11</td>\n",
       "      <td>0</td>\n",
       "      <td>137</td>\n",
       "      <td>134</td>\n",
       "      <td>137</td>\n",
       "      <td>13</td>\n",
       "      <td>1</td>\n",
       "      <td>6</td>\n",
       "      <td>1</td>\n",
       "    </tr>\n",
       "    <tr>\n",
       "      <th>4</th>\n",
       "      <td>132</td>\n",
       "      <td>4</td>\n",
       "      <td>0</td>\n",
       "      <td>5</td>\n",
       "      <td>16</td>\n",
       "      <td>2.4</td>\n",
       "      <td>0</td>\n",
       "      <td>19.9</td>\n",
       "      <td>0</td>\n",
       "      <td>0</td>\n",
       "      <td>0</td>\n",
       "      <td>117</td>\n",
       "      <td>53</td>\n",
       "      <td>170</td>\n",
       "      <td>9</td>\n",
       "      <td>0</td>\n",
       "      <td>137</td>\n",
       "      <td>136</td>\n",
       "      <td>138</td>\n",
       "      <td>11</td>\n",
       "      <td>1</td>\n",
       "      <td>2</td>\n",
       "      <td>1</td>\n",
       "    </tr>\n",
       "    <tr>\n",
       "      <th>...</th>\n",
       "      <td>...</td>\n",
       "      <td>...</td>\n",
       "      <td>...</td>\n",
       "      <td>...</td>\n",
       "      <td>...</td>\n",
       "      <td>...</td>\n",
       "      <td>...</td>\n",
       "      <td>...</td>\n",
       "      <td>...</td>\n",
       "      <td>...</td>\n",
       "      <td>...</td>\n",
       "      <td>...</td>\n",
       "      <td>...</td>\n",
       "      <td>...</td>\n",
       "      <td>...</td>\n",
       "      <td>...</td>\n",
       "      <td>...</td>\n",
       "      <td>...</td>\n",
       "      <td>...</td>\n",
       "      <td>...</td>\n",
       "      <td>...</td>\n",
       "      <td>...</td>\n",
       "      <td>...</td>\n",
       "    </tr>\n",
       "    <tr>\n",
       "      <th>2121</th>\n",
       "      <td>140</td>\n",
       "      <td>0</td>\n",
       "      <td>0</td>\n",
       "      <td>6</td>\n",
       "      <td>79</td>\n",
       "      <td>0.2</td>\n",
       "      <td>25</td>\n",
       "      <td>7.2</td>\n",
       "      <td>0</td>\n",
       "      <td>0</td>\n",
       "      <td>0</td>\n",
       "      <td>40</td>\n",
       "      <td>137</td>\n",
       "      <td>177</td>\n",
       "      <td>4</td>\n",
       "      <td>0</td>\n",
       "      <td>153</td>\n",
       "      <td>150</td>\n",
       "      <td>152</td>\n",
       "      <td>2</td>\n",
       "      <td>0</td>\n",
       "      <td>5</td>\n",
       "      <td>2</td>\n",
       "    </tr>\n",
       "    <tr>\n",
       "      <th>2122</th>\n",
       "      <td>140</td>\n",
       "      <td>1</td>\n",
       "      <td>0</td>\n",
       "      <td>9</td>\n",
       "      <td>78</td>\n",
       "      <td>0.4</td>\n",
       "      <td>22</td>\n",
       "      <td>7.1</td>\n",
       "      <td>0</td>\n",
       "      <td>0</td>\n",
       "      <td>0</td>\n",
       "      <td>66</td>\n",
       "      <td>103</td>\n",
       "      <td>169</td>\n",
       "      <td>6</td>\n",
       "      <td>0</td>\n",
       "      <td>152</td>\n",
       "      <td>148</td>\n",
       "      <td>151</td>\n",
       "      <td>3</td>\n",
       "      <td>1</td>\n",
       "      <td>5</td>\n",
       "      <td>2</td>\n",
       "    </tr>\n",
       "    <tr>\n",
       "      <th>2123</th>\n",
       "      <td>140</td>\n",
       "      <td>1</td>\n",
       "      <td>0</td>\n",
       "      <td>7</td>\n",
       "      <td>79</td>\n",
       "      <td>0.4</td>\n",
       "      <td>20</td>\n",
       "      <td>6.1</td>\n",
       "      <td>0</td>\n",
       "      <td>0</td>\n",
       "      <td>0</td>\n",
       "      <td>67</td>\n",
       "      <td>103</td>\n",
       "      <td>170</td>\n",
       "      <td>5</td>\n",
       "      <td>0</td>\n",
       "      <td>153</td>\n",
       "      <td>148</td>\n",
       "      <td>152</td>\n",
       "      <td>4</td>\n",
       "      <td>1</td>\n",
       "      <td>5</td>\n",
       "      <td>2</td>\n",
       "    </tr>\n",
       "    <tr>\n",
       "      <th>2124</th>\n",
       "      <td>140</td>\n",
       "      <td>1</td>\n",
       "      <td>0</td>\n",
       "      <td>9</td>\n",
       "      <td>78</td>\n",
       "      <td>0.4</td>\n",
       "      <td>27</td>\n",
       "      <td>7</td>\n",
       "      <td>0</td>\n",
       "      <td>0</td>\n",
       "      <td>0</td>\n",
       "      <td>66</td>\n",
       "      <td>103</td>\n",
       "      <td>169</td>\n",
       "      <td>6</td>\n",
       "      <td>0</td>\n",
       "      <td>152</td>\n",
       "      <td>147</td>\n",
       "      <td>151</td>\n",
       "      <td>4</td>\n",
       "      <td>1</td>\n",
       "      <td>5</td>\n",
       "      <td>2</td>\n",
       "    </tr>\n",
       "    <tr>\n",
       "      <th>2125</th>\n",
       "      <td>142</td>\n",
       "      <td>1</td>\n",
       "      <td>1</td>\n",
       "      <td>5</td>\n",
       "      <td>74</td>\n",
       "      <td>0.4</td>\n",
       "      <td>36</td>\n",
       "      <td>5</td>\n",
       "      <td>0</td>\n",
       "      <td>0</td>\n",
       "      <td>0</td>\n",
       "      <td>42</td>\n",
       "      <td>117</td>\n",
       "      <td>159</td>\n",
       "      <td>2</td>\n",
       "      <td>1</td>\n",
       "      <td>145</td>\n",
       "      <td>143</td>\n",
       "      <td>145</td>\n",
       "      <td>1</td>\n",
       "      <td>0</td>\n",
       "      <td>1</td>\n",
       "      <td>1</td>\n",
       "    </tr>\n",
       "  </tbody>\n",
       "</table>\n",
       "<p>2126 rows × 23 columns</p>\n",
       "</div>"
      ],
      "text/plain": [
       "0      LB AC FM UC ASTV MSTV ALTV  ... Mode Mean Median Variance Tendency CLASS NSP\n",
       "0     120  0  0  0   73  0.5   43  ...  120  137    121       73        1     9   2\n",
       "1     132  4  0  4   17  2.1    0  ...  141  136    140       12        0     6   1\n",
       "2     133  2  0  5   16  2.1    0  ...  141  135    138       13        0     6   1\n",
       "3     134  2  0  6   16  2.4    0  ...  137  134    137       13        1     6   1\n",
       "4     132  4  0  5   16  2.4    0  ...  137  136    138       11        1     2   1\n",
       "...   ... .. .. ..  ...  ...  ...  ...  ...  ...    ...      ...      ...   ...  ..\n",
       "2121  140  0  0  6   79  0.2   25  ...  153  150    152        2        0     5   2\n",
       "2122  140  1  0  9   78  0.4   22  ...  152  148    151        3        1     5   2\n",
       "2123  140  1  0  7   79  0.4   20  ...  153  148    152        4        1     5   2\n",
       "2124  140  1  0  9   78  0.4   27  ...  152  147    151        4        1     5   2\n",
       "2125  142  1  1  5   74  0.4   36  ...  145  143    145        1        0     1   1\n",
       "\n",
       "[2126 rows x 23 columns]"
      ]
     },
     "execution_count": 21,
     "metadata": {
      "tags": []
     },
     "output_type": "execute_result"
    }
   ],
   "source": [
    "df"
   ]
  },
  {
   "cell_type": "code",
   "execution_count": 0,
   "metadata": {
    "colab": {},
    "colab_type": "code",
    "id": "Sahk-z64v5Dp"
   },
   "outputs": [],
   "source": [
    "# 0 is Normal, 1 is Suspected/Pathological(i.e, Not Normal)\n",
    "df['NSP'].replace({1: 0, 2: 1, 3: 1}, inplace=True)"
   ]
  },
  {
   "cell_type": "code",
   "execution_count": 0,
   "metadata": {
    "colab": {},
    "colab_type": "code",
    "id": "8Ag_9cbswC52"
   },
   "outputs": [],
   "source": [
    "df.drop(['CLASS'], axis=1, inplace=True)"
   ]
  },
  {
   "cell_type": "code",
   "execution_count": 24,
   "metadata": {
    "colab": {
     "base_uri": "https://localhost:8080/",
     "height": 419
    },
    "colab_type": "code",
    "id": "ostSE3EFwJ5i",
    "outputId": "611e46b5-3b27-45de-820c-19283239d960"
   },
   "outputs": [
    {
     "data": {
      "text/html": [
       "<div>\n",
       "<style scoped>\n",
       "    .dataframe tbody tr th:only-of-type {\n",
       "        vertical-align: middle;\n",
       "    }\n",
       "\n",
       "    .dataframe tbody tr th {\n",
       "        vertical-align: top;\n",
       "    }\n",
       "\n",
       "    .dataframe thead th {\n",
       "        text-align: right;\n",
       "    }\n",
       "</style>\n",
       "<table border=\"1\" class=\"dataframe\">\n",
       "  <thead>\n",
       "    <tr style=\"text-align: right;\">\n",
       "      <th></th>\n",
       "      <th>LB</th>\n",
       "      <th>AC</th>\n",
       "      <th>FM</th>\n",
       "      <th>UC</th>\n",
       "      <th>ASTV</th>\n",
       "      <th>MSTV</th>\n",
       "      <th>ALTV</th>\n",
       "      <th>MLTV</th>\n",
       "      <th>DL</th>\n",
       "      <th>DS</th>\n",
       "      <th>DP</th>\n",
       "      <th>Width</th>\n",
       "      <th>Min</th>\n",
       "      <th>Max</th>\n",
       "      <th>Nmax</th>\n",
       "      <th>Nzeros</th>\n",
       "      <th>Mode</th>\n",
       "      <th>Mean</th>\n",
       "      <th>Median</th>\n",
       "      <th>Variance</th>\n",
       "      <th>Tendency</th>\n",
       "      <th>NSP</th>\n",
       "    </tr>\n",
       "  </thead>\n",
       "  <tbody>\n",
       "    <tr>\n",
       "      <th>0</th>\n",
       "      <td>120</td>\n",
       "      <td>0</td>\n",
       "      <td>0</td>\n",
       "      <td>0</td>\n",
       "      <td>73</td>\n",
       "      <td>0.5</td>\n",
       "      <td>43</td>\n",
       "      <td>2.4</td>\n",
       "      <td>0</td>\n",
       "      <td>0</td>\n",
       "      <td>0</td>\n",
       "      <td>64</td>\n",
       "      <td>62</td>\n",
       "      <td>126</td>\n",
       "      <td>2</td>\n",
       "      <td>0</td>\n",
       "      <td>120</td>\n",
       "      <td>137</td>\n",
       "      <td>121</td>\n",
       "      <td>73</td>\n",
       "      <td>1</td>\n",
       "      <td>1</td>\n",
       "    </tr>\n",
       "    <tr>\n",
       "      <th>1</th>\n",
       "      <td>132</td>\n",
       "      <td>4</td>\n",
       "      <td>0</td>\n",
       "      <td>4</td>\n",
       "      <td>17</td>\n",
       "      <td>2.1</td>\n",
       "      <td>0</td>\n",
       "      <td>10.4</td>\n",
       "      <td>2</td>\n",
       "      <td>0</td>\n",
       "      <td>0</td>\n",
       "      <td>130</td>\n",
       "      <td>68</td>\n",
       "      <td>198</td>\n",
       "      <td>6</td>\n",
       "      <td>1</td>\n",
       "      <td>141</td>\n",
       "      <td>136</td>\n",
       "      <td>140</td>\n",
       "      <td>12</td>\n",
       "      <td>0</td>\n",
       "      <td>0</td>\n",
       "    </tr>\n",
       "    <tr>\n",
       "      <th>2</th>\n",
       "      <td>133</td>\n",
       "      <td>2</td>\n",
       "      <td>0</td>\n",
       "      <td>5</td>\n",
       "      <td>16</td>\n",
       "      <td>2.1</td>\n",
       "      <td>0</td>\n",
       "      <td>13.4</td>\n",
       "      <td>2</td>\n",
       "      <td>0</td>\n",
       "      <td>0</td>\n",
       "      <td>130</td>\n",
       "      <td>68</td>\n",
       "      <td>198</td>\n",
       "      <td>5</td>\n",
       "      <td>1</td>\n",
       "      <td>141</td>\n",
       "      <td>135</td>\n",
       "      <td>138</td>\n",
       "      <td>13</td>\n",
       "      <td>0</td>\n",
       "      <td>0</td>\n",
       "    </tr>\n",
       "    <tr>\n",
       "      <th>3</th>\n",
       "      <td>134</td>\n",
       "      <td>2</td>\n",
       "      <td>0</td>\n",
       "      <td>6</td>\n",
       "      <td>16</td>\n",
       "      <td>2.4</td>\n",
       "      <td>0</td>\n",
       "      <td>23</td>\n",
       "      <td>2</td>\n",
       "      <td>0</td>\n",
       "      <td>0</td>\n",
       "      <td>117</td>\n",
       "      <td>53</td>\n",
       "      <td>170</td>\n",
       "      <td>11</td>\n",
       "      <td>0</td>\n",
       "      <td>137</td>\n",
       "      <td>134</td>\n",
       "      <td>137</td>\n",
       "      <td>13</td>\n",
       "      <td>1</td>\n",
       "      <td>0</td>\n",
       "    </tr>\n",
       "    <tr>\n",
       "      <th>4</th>\n",
       "      <td>132</td>\n",
       "      <td>4</td>\n",
       "      <td>0</td>\n",
       "      <td>5</td>\n",
       "      <td>16</td>\n",
       "      <td>2.4</td>\n",
       "      <td>0</td>\n",
       "      <td>19.9</td>\n",
       "      <td>0</td>\n",
       "      <td>0</td>\n",
       "      <td>0</td>\n",
       "      <td>117</td>\n",
       "      <td>53</td>\n",
       "      <td>170</td>\n",
       "      <td>9</td>\n",
       "      <td>0</td>\n",
       "      <td>137</td>\n",
       "      <td>136</td>\n",
       "      <td>138</td>\n",
       "      <td>11</td>\n",
       "      <td>1</td>\n",
       "      <td>0</td>\n",
       "    </tr>\n",
       "    <tr>\n",
       "      <th>...</th>\n",
       "      <td>...</td>\n",
       "      <td>...</td>\n",
       "      <td>...</td>\n",
       "      <td>...</td>\n",
       "      <td>...</td>\n",
       "      <td>...</td>\n",
       "      <td>...</td>\n",
       "      <td>...</td>\n",
       "      <td>...</td>\n",
       "      <td>...</td>\n",
       "      <td>...</td>\n",
       "      <td>...</td>\n",
       "      <td>...</td>\n",
       "      <td>...</td>\n",
       "      <td>...</td>\n",
       "      <td>...</td>\n",
       "      <td>...</td>\n",
       "      <td>...</td>\n",
       "      <td>...</td>\n",
       "      <td>...</td>\n",
       "      <td>...</td>\n",
       "      <td>...</td>\n",
       "    </tr>\n",
       "    <tr>\n",
       "      <th>2121</th>\n",
       "      <td>140</td>\n",
       "      <td>0</td>\n",
       "      <td>0</td>\n",
       "      <td>6</td>\n",
       "      <td>79</td>\n",
       "      <td>0.2</td>\n",
       "      <td>25</td>\n",
       "      <td>7.2</td>\n",
       "      <td>0</td>\n",
       "      <td>0</td>\n",
       "      <td>0</td>\n",
       "      <td>40</td>\n",
       "      <td>137</td>\n",
       "      <td>177</td>\n",
       "      <td>4</td>\n",
       "      <td>0</td>\n",
       "      <td>153</td>\n",
       "      <td>150</td>\n",
       "      <td>152</td>\n",
       "      <td>2</td>\n",
       "      <td>0</td>\n",
       "      <td>1</td>\n",
       "    </tr>\n",
       "    <tr>\n",
       "      <th>2122</th>\n",
       "      <td>140</td>\n",
       "      <td>1</td>\n",
       "      <td>0</td>\n",
       "      <td>9</td>\n",
       "      <td>78</td>\n",
       "      <td>0.4</td>\n",
       "      <td>22</td>\n",
       "      <td>7.1</td>\n",
       "      <td>0</td>\n",
       "      <td>0</td>\n",
       "      <td>0</td>\n",
       "      <td>66</td>\n",
       "      <td>103</td>\n",
       "      <td>169</td>\n",
       "      <td>6</td>\n",
       "      <td>0</td>\n",
       "      <td>152</td>\n",
       "      <td>148</td>\n",
       "      <td>151</td>\n",
       "      <td>3</td>\n",
       "      <td>1</td>\n",
       "      <td>1</td>\n",
       "    </tr>\n",
       "    <tr>\n",
       "      <th>2123</th>\n",
       "      <td>140</td>\n",
       "      <td>1</td>\n",
       "      <td>0</td>\n",
       "      <td>7</td>\n",
       "      <td>79</td>\n",
       "      <td>0.4</td>\n",
       "      <td>20</td>\n",
       "      <td>6.1</td>\n",
       "      <td>0</td>\n",
       "      <td>0</td>\n",
       "      <td>0</td>\n",
       "      <td>67</td>\n",
       "      <td>103</td>\n",
       "      <td>170</td>\n",
       "      <td>5</td>\n",
       "      <td>0</td>\n",
       "      <td>153</td>\n",
       "      <td>148</td>\n",
       "      <td>152</td>\n",
       "      <td>4</td>\n",
       "      <td>1</td>\n",
       "      <td>1</td>\n",
       "    </tr>\n",
       "    <tr>\n",
       "      <th>2124</th>\n",
       "      <td>140</td>\n",
       "      <td>1</td>\n",
       "      <td>0</td>\n",
       "      <td>9</td>\n",
       "      <td>78</td>\n",
       "      <td>0.4</td>\n",
       "      <td>27</td>\n",
       "      <td>7</td>\n",
       "      <td>0</td>\n",
       "      <td>0</td>\n",
       "      <td>0</td>\n",
       "      <td>66</td>\n",
       "      <td>103</td>\n",
       "      <td>169</td>\n",
       "      <td>6</td>\n",
       "      <td>0</td>\n",
       "      <td>152</td>\n",
       "      <td>147</td>\n",
       "      <td>151</td>\n",
       "      <td>4</td>\n",
       "      <td>1</td>\n",
       "      <td>1</td>\n",
       "    </tr>\n",
       "    <tr>\n",
       "      <th>2125</th>\n",
       "      <td>142</td>\n",
       "      <td>1</td>\n",
       "      <td>1</td>\n",
       "      <td>5</td>\n",
       "      <td>74</td>\n",
       "      <td>0.4</td>\n",
       "      <td>36</td>\n",
       "      <td>5</td>\n",
       "      <td>0</td>\n",
       "      <td>0</td>\n",
       "      <td>0</td>\n",
       "      <td>42</td>\n",
       "      <td>117</td>\n",
       "      <td>159</td>\n",
       "      <td>2</td>\n",
       "      <td>1</td>\n",
       "      <td>145</td>\n",
       "      <td>143</td>\n",
       "      <td>145</td>\n",
       "      <td>1</td>\n",
       "      <td>0</td>\n",
       "      <td>0</td>\n",
       "    </tr>\n",
       "  </tbody>\n",
       "</table>\n",
       "<p>2126 rows × 22 columns</p>\n",
       "</div>"
      ],
      "text/plain": [
       "0      LB AC FM UC ASTV MSTV  ... Mode Mean Median Variance Tendency NSP\n",
       "0     120  0  0  0   73  0.5  ...  120  137    121       73        1   1\n",
       "1     132  4  0  4   17  2.1  ...  141  136    140       12        0   0\n",
       "2     133  2  0  5   16  2.1  ...  141  135    138       13        0   0\n",
       "3     134  2  0  6   16  2.4  ...  137  134    137       13        1   0\n",
       "4     132  4  0  5   16  2.4  ...  137  136    138       11        1   0\n",
       "...   ... .. .. ..  ...  ...  ...  ...  ...    ...      ...      ...  ..\n",
       "2121  140  0  0  6   79  0.2  ...  153  150    152        2        0   1\n",
       "2122  140  1  0  9   78  0.4  ...  152  148    151        3        1   1\n",
       "2123  140  1  0  7   79  0.4  ...  153  148    152        4        1   1\n",
       "2124  140  1  0  9   78  0.4  ...  152  147    151        4        1   1\n",
       "2125  142  1  1  5   74  0.4  ...  145  143    145        1        0   0\n",
       "\n",
       "[2126 rows x 22 columns]"
      ]
     },
     "execution_count": 24,
     "metadata": {
      "tags": []
     },
     "output_type": "execute_result"
    }
   ],
   "source": [
    "df"
   ]
  },
  {
   "cell_type": "code",
   "execution_count": 25,
   "metadata": {
    "colab": {
     "base_uri": "https://localhost:8080/",
     "height": 34
    },
    "colab_type": "code",
    "id": "r_WN_kYHKsE7",
    "outputId": "f6bd89e8-e233-46a2-a34c-f2e87020d81f"
   },
   "outputs": [
    {
     "data": {
      "text/plain": [
       "(2126, 22)"
      ]
     },
     "execution_count": 25,
     "metadata": {
      "tags": []
     },
     "output_type": "execute_result"
    }
   ],
   "source": [
    "df.shape"
   ]
  },
  {
   "cell_type": "code",
   "execution_count": 0,
   "metadata": {
    "colab": {},
    "colab_type": "code",
    "id": "eLPmK9xEKsFI"
   },
   "outputs": [],
   "source": [
    "# Creating Target Vector\n",
    "y = df.NSP"
   ]
  },
  {
   "cell_type": "code",
   "execution_count": 0,
   "metadata": {
    "colab": {},
    "colab_type": "code",
    "id": "770pIHGNKsFM"
   },
   "outputs": [],
   "source": [
    "# Creating Features Dataframe\n",
    "X = df.drop(['NSP'], axis=1)"
   ]
  },
  {
   "cell_type": "code",
   "execution_count": 28,
   "metadata": {
    "colab": {
     "base_uri": "https://localhost:8080/",
     "height": 34
    },
    "colab_type": "code",
    "id": "zvkKuoleKsFP",
    "outputId": "3e3daf8c-301a-4978-e5e4-bf41e5def1f9"
   },
   "outputs": [
    {
     "data": {
      "text/plain": [
       "((2126, 21), (2126,))"
      ]
     },
     "execution_count": 28,
     "metadata": {
      "tags": []
     },
     "output_type": "execute_result"
    }
   ],
   "source": [
    "# Shape of X, y\n",
    "X.shape, y.shape"
   ]
  },
  {
   "cell_type": "code",
   "execution_count": 0,
   "metadata": {
    "colab": {},
    "colab_type": "code",
    "id": "WmBeZ6XFKsFS"
   },
   "outputs": [],
   "source": [
    "# Splitting X, y with a test size of 20%\n",
    "X_train, X_test, y_train, y_test = train_test_split(X, y, test_size = 0.20, random_state=0)"
   ]
  },
  {
   "cell_type": "code",
   "execution_count": 30,
   "metadata": {
    "colab": {
     "base_uri": "https://localhost:8080/",
     "height": 34
    },
    "colab_type": "code",
    "id": "7mnCPk0xKsFV",
    "outputId": "24d1497d-ca17-4250-ce1b-8365023f1cf0"
   },
   "outputs": [
    {
     "data": {
      "text/plain": [
       "((1700, 21), (426, 21), (1700,), (426,))"
      ]
     },
     "execution_count": 30,
     "metadata": {
      "tags": []
     },
     "output_type": "execute_result"
    }
   ],
   "source": [
    "X_train.shape , X_test.shape , y_train.shape, y_test.shape"
   ]
  },
  {
   "cell_type": "code",
   "execution_count": 0,
   "metadata": {
    "colab": {},
    "colab_type": "code",
    "id": "cBrx1ix7KsFY"
   },
   "outputs": [],
   "source": [
    "# Standardising Features\n",
    "scaler = StandardScaler()\n",
    "X_train = scaler.fit_transform(X_train)\n",
    "X_test = scaler.transform(X_test)"
   ]
  },
  {
   "cell_type": "markdown",
   "metadata": {
    "colab_type": "text",
    "id": "lcLW0G17MLY9"
   },
   "source": [
    "Classification using all Features"
   ]
  },
  {
   "cell_type": "code",
   "execution_count": 32,
   "metadata": {
    "colab": {
     "base_uri": "https://localhost:8080/",
     "height": 221
    },
    "colab_type": "code",
    "id": "Dn7LhQFKKsFe",
    "outputId": "34c362dc-5415-4c98-c9ee-5a6092273ceb"
   },
   "outputs": [
    {
     "name": "stdout",
     "output_type": "stream",
     "text": [
      "Perceptron\n",
      "\n",
      "[[304  22]\n",
      " [ 24  76]]\n",
      "\n",
      "Accuracy Score:    0.892018779342723\n",
      "Precision Score:   0.7755102040816326\n",
      "Recall Score:      0.76\n",
      "Kappa Score:       0.6973497250880336\n",
      "F1 Score:          0.7676767676767676\n",
      "CPU times: user 12.7 ms, sys: 2.38 ms, total: 15.1 ms\n",
      "Wall time: 19.6 ms\n"
     ]
    }
   ],
   "source": [
    "%%time\n",
    "runPT(X_train, X_test, y_train, y_test)"
   ]
  },
  {
   "cell_type": "code",
   "execution_count": 33,
   "metadata": {
    "colab": {
     "base_uri": "https://localhost:8080/",
     "height": 221
    },
    "colab_type": "code",
    "id": "H7ePnipJKsFg",
    "outputId": "c57e5215-7467-4f4e-caa7-9cfb6b37eb8a"
   },
   "outputs": [
    {
     "name": "stdout",
     "output_type": "stream",
     "text": [
      "Support Vector Machine - Classifier (SVC)\n",
      "\n",
      "[[312  14]\n",
      " [ 19  81]]\n",
      "\n",
      "Accuracy Score:    0.9225352112676056\n",
      "Precision Score:   0.8526315789473684\n",
      "Recall Score:      0.81\n",
      "Kappa Score:       0.7805837365381614\n",
      "F1 Score:          0.8307692307692308\n",
      "CPU times: user 73.1 ms, sys: 970 µs, total: 74.1 ms\n",
      "Wall time: 77.8 ms\n"
     ]
    }
   ],
   "source": [
    "%%time\n",
    "runSVC(X_train, X_test, y_train, y_test)"
   ]
  },
  {
   "cell_type": "code",
   "execution_count": 34,
   "metadata": {
    "colab": {
     "base_uri": "https://localhost:8080/",
     "height": 221
    },
    "colab_type": "code",
    "id": "FRxhAtR0KsFj",
    "outputId": "da31fdff-8859-4961-d561-f2d9711a5f6c"
   },
   "outputs": [
    {
     "name": "stdout",
     "output_type": "stream",
     "text": [
      "K-Nearest Neighbors Classifier\n",
      "\n",
      "[[314  12]\n",
      " [ 24  76]]\n",
      "\n",
      "Accuracy Score:    0.9154929577464789\n",
      "Precision Score:   0.8636363636363636\n",
      "Recall Score:      0.76\n",
      "Kappa Score:       0.7545768787607221\n",
      "F1 Score:          0.8085106382978724\n",
      "CPU times: user 57.7 ms, sys: 0 ns, total: 57.7 ms\n",
      "Wall time: 67.9 ms\n"
     ]
    }
   ],
   "source": [
    "%%time\n",
    "runKNN(X_train, X_test, y_train, y_test)"
   ]
  },
  {
   "cell_type": "code",
   "execution_count": 35,
   "metadata": {
    "colab": {
     "base_uri": "https://localhost:8080/",
     "height": 221
    },
    "colab_type": "code",
    "id": "i15TZbioKsFl",
    "outputId": "b558995a-5274-4804-8c3a-4f5d6a207767"
   },
   "outputs": [
    {
     "name": "stdout",
     "output_type": "stream",
     "text": [
      "Gaussian Naive Bayes\n",
      "\n",
      "[[294  32]\n",
      " [ 28  72]]\n",
      "\n",
      "Accuracy Score:    0.8591549295774648\n",
      "Precision Score:   0.6923076923076923\n",
      "Recall Score:      0.72\n",
      "Kappa Score:       0.6133365605712211\n",
      "F1 Score:          0.7058823529411765\n",
      "CPU times: user 13.3 ms, sys: 0 ns, total: 13.3 ms\n",
      "Wall time: 17.2 ms\n"
     ]
    }
   ],
   "source": [
    "%%time\n",
    "runGNB(X_train, X_test, y_train, y_test)"
   ]
  },
  {
   "cell_type": "code",
   "execution_count": 36,
   "metadata": {
    "colab": {
     "base_uri": "https://localhost:8080/",
     "height": 221
    },
    "colab_type": "code",
    "id": "X83dmy4UKsFn",
    "outputId": "b6da6bdd-de4c-4d4f-fe06-3abc3ee2941e"
   },
   "outputs": [
    {
     "name": "stdout",
     "output_type": "stream",
     "text": [
      "Decision Tree Classifier\n",
      "\n",
      "[[316  10]\n",
      " [ 14  86]]\n",
      "\n",
      "Accuracy Score:    0.9436619718309859\n",
      "Precision Score:   0.8958333333333334\n",
      "Recall Score:      0.86\n",
      "Kappa Score:       0.8409854423292273\n",
      "F1 Score:          0.8775510204081632\n",
      "CPU times: user 26.7 ms, sys: 910 µs, total: 27.6 ms\n",
      "Wall time: 32.1 ms\n"
     ]
    }
   ],
   "source": [
    "%%time\n",
    "runDTC(X_train, X_test, y_train, y_test)"
   ]
  },
  {
   "cell_type": "markdown",
   "metadata": {
    "colab_type": "text",
    "id": "-ZeIAcoIMakI"
   },
   "source": [
    "Feature Selection using Recursive Feature Elimination"
   ]
  },
  {
   "cell_type": "code",
   "execution_count": 0,
   "metadata": {
    "colab": {},
    "colab_type": "code",
    "id": "kLFtjY9RKsFr"
   },
   "outputs": [],
   "source": [
    "selectorRFE = RFE(RandomForestClassifier(n_estimators=100, random_state=0, n_jobs=-1), n_features_to_select = 18)\n",
    "selectorRFE = selectorRFE.fit(X_train, y_train)\n",
    "X_train_RFE = selectorRFE.transform(X_train)\n",
    "X_test_RFE = selectorRFE.transform(X_test)"
   ]
  },
  {
   "cell_type": "code",
   "execution_count": 38,
   "metadata": {
    "colab": {
     "base_uri": "https://localhost:8080/",
     "height": 68
    },
    "colab_type": "code",
    "id": "xAkqzePmKsFv",
    "outputId": "80af9068-d2ab-4453-be69-dce52d06da29"
   },
   "outputs": [
    {
     "data": {
      "text/plain": [
       "array([ True,  True,  True,  True,  True,  True,  True,  True,  True,\n",
       "       False,  True,  True,  True,  True,  True, False,  True,  True,\n",
       "        True,  True, False])"
      ]
     },
     "execution_count": 38,
     "metadata": {
      "tags": []
     },
     "output_type": "execute_result"
    }
   ],
   "source": [
    "selectorRFE.get_support()"
   ]
  },
  {
   "cell_type": "code",
   "execution_count": 39,
   "metadata": {
    "colab": {
     "base_uri": "https://localhost:8080/",
     "height": 68
    },
    "colab_type": "code",
    "id": "3ZV2m2zZKsFz",
    "outputId": "7337dc37-8730-45ab-ccc6-26972ccc5049",
    "scrolled": true
   },
   "outputs": [
    {
     "data": {
      "text/plain": [
       "Index(['LB', 'AC', 'FM', 'UC', 'ASTV', 'MSTV', 'ALTV', 'MLTV', 'DL', 'DP',\n",
       "       'Width', 'Min', 'Max', 'Nmax', 'Mode', 'Mean', 'Median', 'Variance'],\n",
       "      dtype='object', name=0)"
      ]
     },
     "execution_count": 39,
     "metadata": {
      "tags": []
     },
     "output_type": "execute_result"
    }
   ],
   "source": [
    "# Features selected by RFE\n",
    "featuresRFE = X.columns[selectorRFE.get_support()]\n",
    "featuresRFE"
   ]
  },
  {
   "cell_type": "markdown",
   "metadata": {
    "colab_type": "text",
    "id": "jf3PXeLDMexI"
   },
   "source": [
    "Classification using RFE selected Features"
   ]
  },
  {
   "cell_type": "code",
   "execution_count": 40,
   "metadata": {
    "colab": {
     "base_uri": "https://localhost:8080/",
     "height": 221
    },
    "colab_type": "code",
    "id": "vZQlriNLKsF4",
    "outputId": "b209b7ff-7675-4a82-d26e-e6c84ef35d17"
   },
   "outputs": [
    {
     "name": "stdout",
     "output_type": "stream",
     "text": [
      "Perceptron\n",
      "\n",
      "[[307  19]\n",
      " [ 30  70]]\n",
      "\n",
      "Accuracy Score:    0.8849765258215962\n",
      "Precision Score:   0.7865168539325843\n",
      "Recall Score:      0.7\n",
      "Kappa Score:       0.6671556590235035\n",
      "F1 Score:          0.7407407407407408\n",
      "CPU times: user 14.1 ms, sys: 994 µs, total: 15.1 ms\n",
      "Wall time: 18.1 ms\n"
     ]
    }
   ],
   "source": [
    "%%time\n",
    "runPT(X_train_RFE, X_test_RFE, y_train, y_test)"
   ]
  },
  {
   "cell_type": "code",
   "execution_count": 41,
   "metadata": {
    "colab": {
     "base_uri": "https://localhost:8080/",
     "height": 221
    },
    "colab_type": "code",
    "id": "Fg4VnDmGKsF8",
    "outputId": "3efaa41e-48cd-422e-cd6c-60a35320adad"
   },
   "outputs": [
    {
     "name": "stdout",
     "output_type": "stream",
     "text": [
      "Support Vector Machine - Classifier (SVC)\n",
      "\n",
      "[[311  15]\n",
      " [ 19  81]]\n",
      "\n",
      "Accuracy Score:    0.92018779342723\n",
      "Precision Score:   0.84375\n",
      "Recall Score:      0.81\n",
      "Kappa Score:       0.7747293766330721\n",
      "F1 Score:          0.826530612244898\n",
      "CPU times: user 71.3 ms, sys: 3.75 ms, total: 75.1 ms\n",
      "Wall time: 76.5 ms\n"
     ]
    }
   ],
   "source": [
    "%%time\n",
    "runSVC(X_train_RFE, X_test_RFE, y_train, y_test)"
   ]
  },
  {
   "cell_type": "code",
   "execution_count": 42,
   "metadata": {
    "colab": {
     "base_uri": "https://localhost:8080/",
     "height": 221
    },
    "colab_type": "code",
    "id": "hnNmehVDKsGA",
    "outputId": "52dffed7-753f-40fa-e7d3-2b7d0dabe12d"
   },
   "outputs": [
    {
     "name": "stdout",
     "output_type": "stream",
     "text": [
      "K-Nearest Neighbors Classifier\n",
      "\n",
      "[[315  11]\n",
      " [ 22  78]]\n",
      "\n",
      "Accuracy Score:    0.9225352112676056\n",
      "Precision Score:   0.8764044943820225\n",
      "Recall Score:      0.78\n",
      "Kappa Score:       0.7758395254648085\n",
      "F1 Score:          0.8253968253968254\n",
      "CPU times: user 46.3 ms, sys: 1.09 ms, total: 47.4 ms\n",
      "Wall time: 48.1 ms\n"
     ]
    }
   ],
   "source": [
    "%%time\n",
    "runKNN(X_train_RFE, X_test_RFE, y_train, y_test)"
   ]
  },
  {
   "cell_type": "code",
   "execution_count": 43,
   "metadata": {
    "colab": {
     "base_uri": "https://localhost:8080/",
     "height": 221
    },
    "colab_type": "code",
    "id": "BQIhZAQ8KsGD",
    "outputId": "742eaf96-51ce-4aff-b9ad-1a2e7d5df251",
    "scrolled": true
   },
   "outputs": [
    {
     "name": "stdout",
     "output_type": "stream",
     "text": [
      "Gaussian Naive Bayes\n",
      "\n",
      "[[282  44]\n",
      " [ 21  79]]\n",
      "\n",
      "Accuracy Score:    0.8474178403755869\n",
      "Precision Score:   0.6422764227642277\n",
      "Recall Score:      0.79\n",
      "Kappa Score:       0.6066649620727862\n",
      "F1 Score:          0.7085201793721974\n",
      "CPU times: user 13.1 ms, sys: 0 ns, total: 13.1 ms\n",
      "Wall time: 14.5 ms\n"
     ]
    }
   ],
   "source": [
    "%%time\n",
    "runGNB(X_train_RFE, X_test_RFE, y_train, y_test)"
   ]
  },
  {
   "cell_type": "code",
   "execution_count": 44,
   "metadata": {
    "colab": {
     "base_uri": "https://localhost:8080/",
     "height": 221
    },
    "colab_type": "code",
    "id": "uSHM1EbyKsGF",
    "outputId": "20254fb8-63a9-4250-d4e7-6d292fb750ea"
   },
   "outputs": [
    {
     "name": "stdout",
     "output_type": "stream",
     "text": [
      "Decision Tree Classifier\n",
      "\n",
      "[[315  11]\n",
      " [ 15  85]]\n",
      "\n",
      "Accuracy Score:    0.9389671361502347\n",
      "Precision Score:   0.8854166666666666\n",
      "Recall Score:      0.85\n",
      "Kappa Score:       0.8277342291899963\n",
      "F1 Score:          0.8673469387755102\n",
      "CPU times: user 25.9 ms, sys: 307 µs, total: 26.2 ms\n",
      "Wall time: 27.4 ms\n"
     ]
    }
   ],
   "source": [
    "%%time\n",
    "runDTC(X_train_RFE, X_test_RFE, y_train, y_test)"
   ]
  },
  {
   "cell_type": "markdown",
   "metadata": {
    "colab_type": "text",
    "id": "EGbWhwJDMt_5"
   },
   "source": [
    "Feature Selection using LASSO (L1)"
   ]
  },
  {
   "cell_type": "code",
   "execution_count": 0,
   "metadata": {
    "colab": {},
    "colab_type": "code",
    "id": "p0WezqsLKsGI"
   },
   "outputs": [],
   "source": [
    "selectorL1 = SelectFromModel(LogisticRegression(penalty='l1', C=1,solver = 'liblinear'))\n",
    "selectorL1.fit(X_train, y_train)\n",
    "X_train_L1 = selectorL1.transform(X_train)\n",
    "X_test_L1 = selectorL1.transform(X_test)"
   ]
  },
  {
   "cell_type": "code",
   "execution_count": 46,
   "metadata": {
    "colab": {
     "base_uri": "https://localhost:8080/",
     "height": 68
    },
    "colab_type": "code",
    "id": "38o5H4s7KsGN",
    "outputId": "eab2c3af-b000-48fd-8052-6b114dd30a62"
   },
   "outputs": [
    {
     "data": {
      "text/plain": [
       "array([False,  True,  True,  True,  True,  True,  True,  True,  True,\n",
       "        True,  True, False,  True,  True,  True, False,  True,  True,\n",
       "       False,  True,  True])"
      ]
     },
     "execution_count": 46,
     "metadata": {
      "tags": []
     },
     "output_type": "execute_result"
    }
   ],
   "source": [
    "selectorL1.get_support()"
   ]
  },
  {
   "cell_type": "code",
   "execution_count": 47,
   "metadata": {
    "colab": {
     "base_uri": "https://localhost:8080/",
     "height": 102
    },
    "colab_type": "code",
    "id": "5ZR3j7XEKsGQ",
    "outputId": "26c4da31-14dd-46f6-8282-08127550d060"
   },
   "outputs": [
    {
     "data": {
      "text/plain": [
       "array([[ 0.        , -4.08575144,  0.17985628, -0.64063985,  1.60538675,\n",
       "        -0.4368373 ,  0.6569328 ,  0.17734748, -0.10790377,  0.02422919,\n",
       "         1.51587214,  0.        ,  0.50179779,  0.85486493,  0.12267796,\n",
       "         0.        , -1.00954114,  1.06653032,  0.        ,  1.1412415 ,\n",
       "         0.15422704]])"
      ]
     },
     "execution_count": 47,
     "metadata": {
      "tags": []
     },
     "output_type": "execute_result"
    }
   ],
   "source": [
    "selectorL1.estimator_.coef_"
   ]
  },
  {
   "cell_type": "code",
   "execution_count": 48,
   "metadata": {
    "colab": {
     "base_uri": "https://localhost:8080/",
     "height": 68
    },
    "colab_type": "code",
    "id": "qoRysdXIKsGT",
    "outputId": "87c5b260-d02b-49e8-edf2-b4d1b84cbe6e"
   },
   "outputs": [
    {
     "data": {
      "text/plain": [
       "Index(['AC', 'FM', 'UC', 'ASTV', 'MSTV', 'ALTV', 'MLTV', 'DL', 'DS', 'DP',\n",
       "       'Min', 'Max', 'Nmax', 'Mode', 'Mean', 'Variance', 'Tendency'],\n",
       "      dtype='object', name=0)"
      ]
     },
     "execution_count": 48,
     "metadata": {
      "tags": []
     },
     "output_type": "execute_result"
    }
   ],
   "source": [
    "# Features selected by LASSO (L1)\n",
    "featuresL1 = X.columns[selectorL1.get_support()]\n",
    "featuresL1"
   ]
  },
  {
   "cell_type": "markdown",
   "metadata": {
    "colab_type": "text",
    "id": "LESOFb5_M6Ny"
   },
   "source": [
    "Classification using LASSO (L1) selected Features"
   ]
  },
  {
   "cell_type": "code",
   "execution_count": 49,
   "metadata": {
    "colab": {
     "base_uri": "https://localhost:8080/",
     "height": 221
    },
    "colab_type": "code",
    "id": "2dpeMpO-KsGZ",
    "outputId": "6f14dea2-24cc-4ea5-ea10-d8329473002c"
   },
   "outputs": [
    {
     "name": "stdout",
     "output_type": "stream",
     "text": [
      "Perceptron\n",
      "\n",
      "[[302  24]\n",
      " [ 44  56]]\n",
      "\n",
      "Accuracy Score:    0.8403755868544601\n",
      "Precision Score:   0.7\n",
      "Recall Score:      0.56\n",
      "Kappa Score:       0.5226104152933422\n",
      "F1 Score:          0.6222222222222222\n",
      "CPU times: user 14.9 ms, sys: 78 µs, total: 15 ms\n",
      "Wall time: 15.9 ms\n"
     ]
    }
   ],
   "source": [
    "%%time\n",
    "runPT(X_train_L1, X_test_L1, y_train, y_test)"
   ]
  },
  {
   "cell_type": "code",
   "execution_count": 50,
   "metadata": {
    "colab": {
     "base_uri": "https://localhost:8080/",
     "height": 221
    },
    "colab_type": "code",
    "id": "fIkR1MZiKsGd",
    "outputId": "6eb5b940-8de9-40a9-c840-8ea166052dce"
   },
   "outputs": [
    {
     "name": "stdout",
     "output_type": "stream",
     "text": [
      "Support Vector Machine - Classifier (SVC)\n",
      "\n",
      "[[315  11]\n",
      " [ 21  79]]\n",
      "\n",
      "Accuracy Score:    0.9248826291079812\n",
      "Precision Score:   0.8777777777777778\n",
      "Recall Score:      0.79\n",
      "Kappa Score:       0.7834127740705433\n",
      "F1 Score:          0.831578947368421\n",
      "CPU times: user 68.4 ms, sys: 905 µs, total: 69.3 ms\n",
      "Wall time: 71 ms\n"
     ]
    }
   ],
   "source": [
    "%%time\n",
    "runSVC(X_train_L1, X_test_L1, y_train, y_test)"
   ]
  },
  {
   "cell_type": "code",
   "execution_count": 51,
   "metadata": {
    "colab": {
     "base_uri": "https://localhost:8080/",
     "height": 221
    },
    "colab_type": "code",
    "id": "r11x7M_mKsGh",
    "outputId": "4e935120-21d0-4e0a-fa9e-7372b1387e7f"
   },
   "outputs": [
    {
     "name": "stdout",
     "output_type": "stream",
     "text": [
      "K-Nearest Neighbors Classifier\n",
      "\n",
      "[[316  10]\n",
      " [ 24  76]]\n",
      "\n",
      "Accuracy Score:    0.92018779342723\n",
      "Precision Score:   0.8837209302325582\n",
      "Recall Score:      0.76\n",
      "Kappa Score:       0.7665226642594622\n",
      "F1 Score:          0.8172043010752689\n",
      "CPU times: user 53 ms, sys: 2.65 ms, total: 55.7 ms\n",
      "Wall time: 56.3 ms\n"
     ]
    }
   ],
   "source": [
    "%%time\n",
    "runKNN(X_train_L1, X_test_L1, y_train, y_test)"
   ]
  },
  {
   "cell_type": "code",
   "execution_count": 52,
   "metadata": {
    "colab": {
     "base_uri": "https://localhost:8080/",
     "height": 221
    },
    "colab_type": "code",
    "id": "7HfCJX-rKsGl",
    "outputId": "0aea7e4c-838e-4fe4-e22e-3fa08be15928"
   },
   "outputs": [
    {
     "name": "stdout",
     "output_type": "stream",
     "text": [
      "Gaussian Naive Bayes\n",
      "\n",
      "[[295  31]\n",
      " [ 33  67]]\n",
      "\n",
      "Accuracy Score:    0.8497652582159625\n",
      "Precision Score:   0.6836734693877551\n",
      "Recall Score:      0.67\n",
      "Kappa Score:       0.5789213566442206\n",
      "F1 Score:          0.6767676767676768\n",
      "CPU times: user 12.6 ms, sys: 577 µs, total: 13.2 ms\n",
      "Wall time: 16.2 ms\n"
     ]
    }
   ],
   "source": [
    "%%time\n",
    "runGNB(X_train_L1, X_test_L1, y_train, y_test)"
   ]
  },
  {
   "cell_type": "code",
   "execution_count": 53,
   "metadata": {
    "colab": {
     "base_uri": "https://localhost:8080/",
     "height": 221
    },
    "colab_type": "code",
    "id": "4Mq-Mk1jKsGp",
    "outputId": "5707df3b-fedf-498a-9728-9e40f21a80b0"
   },
   "outputs": [
    {
     "name": "stdout",
     "output_type": "stream",
     "text": [
      "Decision Tree Classifier\n",
      "\n",
      "[[315  11]\n",
      " [ 12  88]]\n",
      "\n",
      "Accuracy Score:    0.9460093896713615\n",
      "Precision Score:   0.8888888888888888\n",
      "Recall Score:      0.88\n",
      "Kappa Score:       0.8492012189491182\n",
      "F1 Score:          0.8844221105527638\n",
      "CPU times: user 22 ms, sys: 3.01 ms, total: 25 ms\n",
      "Wall time: 25.9 ms\n"
     ]
    }
   ],
   "source": [
    "%%time\n",
    "runDTC(X_train_L1, X_test_L1, y_train, y_test)"
   ]
  },
  {
   "cell_type": "markdown",
   "metadata": {
    "colab_type": "text",
    "id": "U17rGFIMNHRx"
   },
   "source": [
    "Feature Selection with Extra Trees Classifier"
   ]
  },
  {
   "cell_type": "code",
   "execution_count": 0,
   "metadata": {
    "colab": {},
    "colab_type": "code",
    "id": "Okp7PDq0KsGs"
   },
   "outputs": [],
   "source": [
    "selectorETC = SelectFromModel(ExtraTreesClassifier(n_estimators=100))\n",
    "selectorETC.fit(X_train, y_train)\n",
    "X_train_ETC = selectorETC.transform(X_train)\n",
    "X_test_ETC = selectorETC.transform(X_test)"
   ]
  },
  {
   "cell_type": "code",
   "execution_count": 55,
   "metadata": {
    "colab": {
     "base_uri": "https://localhost:8080/",
     "height": 68
    },
    "colab_type": "code",
    "id": "lfNH9K1lKsGv",
    "outputId": "0a35ac9c-c70b-423a-fd09-d44da9d378d0"
   },
   "outputs": [
    {
     "data": {
      "text/plain": [
       "array([False,  True, False,  True,  True,  True,  True, False, False,\n",
       "       False,  True, False, False, False, False, False,  True,  True,\n",
       "       False, False, False])"
      ]
     },
     "execution_count": 55,
     "metadata": {
      "tags": []
     },
     "output_type": "execute_result"
    }
   ],
   "source": [
    "selectorETC.get_support()"
   ]
  },
  {
   "cell_type": "code",
   "execution_count": 56,
   "metadata": {
    "colab": {
     "base_uri": "https://localhost:8080/",
     "height": 34
    },
    "colab_type": "code",
    "id": "BwCwuvmqKsGy",
    "outputId": "077dd044-3c30-425e-aff6-30a940591785"
   },
   "outputs": [
    {
     "data": {
      "text/plain": [
       "Index(['AC', 'UC', 'ASTV', 'MSTV', 'ALTV', 'DP', 'Mode', 'Mean'], dtype='object', name=0)"
      ]
     },
     "execution_count": 56,
     "metadata": {
      "tags": []
     },
     "output_type": "execute_result"
    }
   ],
   "source": [
    "# Features selected by ETC\n",
    "featuresETC = X.columns[selectorETC.get_support()]\n",
    "featuresETC"
   ]
  },
  {
   "cell_type": "markdown",
   "metadata": {
    "colab_type": "text",
    "id": "k_sucDigNO3E"
   },
   "source": [
    "Classification using ETC selected Features"
   ]
  },
  {
   "cell_type": "code",
   "execution_count": 57,
   "metadata": {
    "colab": {
     "base_uri": "https://localhost:8080/",
     "height": 221
    },
    "colab_type": "code",
    "id": "-PCX_z-jKsG3",
    "outputId": "b110d67f-0667-4d80-dfa9-ddbce18b70bf"
   },
   "outputs": [
    {
     "name": "stdout",
     "output_type": "stream",
     "text": [
      "Perceptron\n",
      "\n",
      "[[304  22]\n",
      " [ 33  67]]\n",
      "\n",
      "Accuracy Score:    0.8708920187793427\n",
      "Precision Score:   0.7528089887640449\n",
      "Recall Score:      0.67\n",
      "Kappa Score:       0.6263992091080142\n",
      "F1 Score:          0.708994708994709\n",
      "CPU times: user 11.5 ms, sys: 2.07 ms, total: 13.6 ms\n",
      "Wall time: 16.9 ms\n"
     ]
    }
   ],
   "source": [
    "%%time\n",
    "runPT(X_train_ETC, X_test_ETC, y_train, y_test)"
   ]
  },
  {
   "cell_type": "code",
   "execution_count": 58,
   "metadata": {
    "colab": {
     "base_uri": "https://localhost:8080/",
     "height": 221
    },
    "colab_type": "code",
    "id": "8mC-Hp6kKsG8",
    "outputId": "f949424d-d015-4f1f-8dee-e86ad1dd7d5e"
   },
   "outputs": [
    {
     "name": "stdout",
     "output_type": "stream",
     "text": [
      "Support Vector Machine - Classifier (SVC)\n",
      "\n",
      "[[313  13]\n",
      " [ 19  81]]\n",
      "\n",
      "Accuracy Score:    0.9248826291079812\n",
      "Precision Score:   0.8617021276595744\n",
      "Recall Score:      0.81\n",
      "Kappa Score:       0.7864795438882276\n",
      "F1 Score:          0.8350515463917526\n",
      "CPU times: user 45.1 ms, sys: 2.14 ms, total: 47.2 ms\n",
      "Wall time: 49.4 ms\n"
     ]
    }
   ],
   "source": [
    "%%time\n",
    "runSVC(X_train_ETC, X_test_ETC, y_train, y_test)"
   ]
  },
  {
   "cell_type": "code",
   "execution_count": 59,
   "metadata": {
    "colab": {
     "base_uri": "https://localhost:8080/",
     "height": 221
    },
    "colab_type": "code",
    "id": "cY0arpENKsG-",
    "outputId": "602b9c99-7b25-4d08-b46b-56d158a997ab"
   },
   "outputs": [
    {
     "name": "stdout",
     "output_type": "stream",
     "text": [
      "K-Nearest Neighbors Classifier\n",
      "\n",
      "[[314  12]\n",
      " [ 16  84]]\n",
      "\n",
      "Accuracy Score:    0.9342723004694836\n",
      "Precision Score:   0.875\n",
      "Recall Score:      0.84\n",
      "Kappa Score:       0.8144830160507652\n",
      "F1 Score:          0.8571428571428572\n",
      "CPU times: user 39.8 ms, sys: 0 ns, total: 39.8 ms\n",
      "Wall time: 40.4 ms\n"
     ]
    }
   ],
   "source": [
    "%%time\n",
    "runKNN(X_train_ETC, X_test_ETC, y_train, y_test)"
   ]
  },
  {
   "cell_type": "code",
   "execution_count": 60,
   "metadata": {
    "colab": {
     "base_uri": "https://localhost:8080/",
     "height": 221
    },
    "colab_type": "code",
    "id": "zCE4j_oIKsHB",
    "outputId": "2971f70f-7bbc-4d7e-b0b4-ebdb5f147c9e"
   },
   "outputs": [
    {
     "name": "stdout",
     "output_type": "stream",
     "text": [
      "Gaussian Naive Bayes\n",
      "\n",
      "[[288  38]\n",
      " [ 23  77]]\n",
      "\n",
      "Accuracy Score:    0.8568075117370892\n",
      "Precision Score:   0.6695652173913044\n",
      "Recall Score:      0.77\n",
      "Kappa Score:       0.6211401078874472\n",
      "F1 Score:          0.7162790697674418\n",
      "CPU times: user 11.7 ms, sys: 1.08 ms, total: 12.8 ms\n",
      "Wall time: 18.5 ms\n"
     ]
    }
   ],
   "source": [
    "%%time\n",
    "runGNB(X_train_ETC, X_test_ETC, y_train, y_test)"
   ]
  },
  {
   "cell_type": "code",
   "execution_count": 61,
   "metadata": {
    "colab": {
     "base_uri": "https://localhost:8080/",
     "height": 221
    },
    "colab_type": "code",
    "id": "WXFmjs9RKsHE",
    "outputId": "b63f1a95-7d66-4997-e675-189be8cd0e99"
   },
   "outputs": [
    {
     "name": "stdout",
     "output_type": "stream",
     "text": [
      "Decision Tree Classifier\n",
      "\n",
      "[[315  11]\n",
      " [ 16  84]]\n",
      "\n",
      "Accuracy Score:    0.9366197183098591\n",
      "Precision Score:   0.8842105263157894\n",
      "Recall Score:      0.84\n",
      "Kappa Score:       0.8204776026221321\n",
      "F1 Score:          0.8615384615384616\n",
      "CPU times: user 17.5 ms, sys: 856 µs, total: 18.3 ms\n",
      "Wall time: 22.1 ms\n"
     ]
    }
   ],
   "source": [
    "%%time\n",
    "runDTC(X_train_ETC, X_test_ETC, y_train, y_test)"
   ]
  },
  {
   "cell_type": "markdown",
   "metadata": {
    "colab_type": "text",
    "id": "kkgZBQ_CP5I9"
   },
   "source": [
    "CNN Preprocessing"
   ]
  },
  {
   "cell_type": "code",
   "execution_count": 62,
   "metadata": {
    "colab": {
     "base_uri": "https://localhost:8080/",
     "height": 153
    },
    "colab_type": "code",
    "id": "zxl8_wiGP-uZ",
    "outputId": "6df23aaf-912f-43e2-bda6-610b21468a4c"
   },
   "outputs": [
    {
     "data": {
      "text/plain": [
       "((1700, 21),\n",
       " (426, 21),\n",
       " (1700, 18),\n",
       " (426, 18),\n",
       " (1700, 17),\n",
       " (426, 17),\n",
       " (1700, 8),\n",
       " (426, 8))"
      ]
     },
     "execution_count": 62,
     "metadata": {
      "tags": []
     },
     "output_type": "execute_result"
    }
   ],
   "source": [
    "X_train.shape, X_test.shape, X_train_RFE.shape, X_test_RFE.shape, X_train_L1.shape, X_test_L1.shape, X_train_ETC.shape, X_test_ETC.shape"
   ]
  },
  {
   "cell_type": "code",
   "execution_count": 0,
   "metadata": {
    "colab": {},
    "colab_type": "code",
    "id": "EYdiCCzgQpz-"
   },
   "outputs": [],
   "source": [
    "X_train = X_train.reshape(1700, 21, 1)\n",
    "X_test = X_test.reshape(426, 21, 1)"
   ]
  },
  {
   "cell_type": "code",
   "execution_count": 0,
   "metadata": {
    "colab": {},
    "colab_type": "code",
    "id": "i_jVVOX3REXK"
   },
   "outputs": [],
   "source": [
    "X_train_RFE = X_train_RFE.reshape(1700, 18, 1)\n",
    "X_test_RFE = X_test_RFE.reshape(426, 18, 1)"
   ]
  },
  {
   "cell_type": "code",
   "execution_count": 0,
   "metadata": {
    "colab": {},
    "colab_type": "code",
    "id": "Wtplub11RLUJ"
   },
   "outputs": [],
   "source": [
    "X_train_L1 = X_train_L1.reshape(1700, 17, 1)\n",
    "X_test_L1 = X_test_L1.reshape(426, 17, 1)"
   ]
  },
  {
   "cell_type": "code",
   "execution_count": 0,
   "metadata": {
    "colab": {},
    "colab_type": "code",
    "id": "a2snisuQRQ-r"
   },
   "outputs": [],
   "source": [
    "X_train_ETC = X_train_ETC.reshape(1700, 8, 1)\n",
    "X_test_ETC = X_test_ETC.reshape(426, 8, 1)"
   ]
  },
  {
   "cell_type": "code",
   "execution_count": 67,
   "metadata": {
    "colab": {
     "base_uri": "https://localhost:8080/",
     "height": 153
    },
    "colab_type": "code",
    "id": "D7gTQIFdRg3M",
    "outputId": "4b1bcbbf-7d43-46cc-8277-f64c6f802e36"
   },
   "outputs": [
    {
     "data": {
      "text/plain": [
       "((1700, 21, 1),\n",
       " (426, 21, 1),\n",
       " (1700, 18, 1),\n",
       " (426, 18, 1),\n",
       " (1700, 17, 1),\n",
       " (426, 17, 1),\n",
       " (1700, 8, 1),\n",
       " (426, 8, 1))"
      ]
     },
     "execution_count": 67,
     "metadata": {
      "tags": []
     },
     "output_type": "execute_result"
    }
   ],
   "source": [
    "X_train.shape, X_test.shape, X_train_RFE.shape, X_test_RFE.shape, X_train_L1.shape, X_test_L1.shape, X_train_ETC.shape, X_test_ETC.shape"
   ]
  },
  {
   "cell_type": "markdown",
   "metadata": {
    "colab_type": "text",
    "id": "ooVlSXelSu9L"
   },
   "source": [
    "CNN using all Features"
   ]
  },
  {
   "cell_type": "code",
   "execution_count": 0,
   "metadata": {
    "colab": {},
    "colab_type": "code",
    "id": "hOf_DqEJUern"
   },
   "outputs": [],
   "source": [
    "model = CNN(21, 100)"
   ]
  },
  {
   "cell_type": "code",
   "execution_count": 69,
   "metadata": {
    "colab": {
     "base_uri": "https://localhost:8080/",
     "height": 1000
    },
    "colab_type": "code",
    "id": "OQ8N0o26Ugoz",
    "outputId": "cf5d4353-553b-4d4f-db42-acf5302288c9"
   },
   "outputs": [
    {
     "name": "stdout",
     "output_type": "stream",
     "text": [
      "Epoch 1/100\n",
      "54/54 [==============================] - 1s 10ms/step - loss: 0.4760 - accuracy: 0.7935 - val_loss: 0.3817 - val_accuracy: 0.8333\n",
      "Epoch 2/100\n",
      "54/54 [==============================] - 0s 6ms/step - loss: 0.3275 - accuracy: 0.8524 - val_loss: 0.3223 - val_accuracy: 0.8638\n",
      "Epoch 3/100\n",
      "54/54 [==============================] - 0s 6ms/step - loss: 0.2625 - accuracy: 0.9018 - val_loss: 0.3281 - val_accuracy: 0.8638\n",
      "Epoch 4/100\n",
      "54/54 [==============================] - 0s 6ms/step - loss: 0.2680 - accuracy: 0.8882 - val_loss: 0.3461 - val_accuracy: 0.8709\n",
      "Epoch 5/100\n",
      "54/54 [==============================] - 0s 6ms/step - loss: 0.2309 - accuracy: 0.8976 - val_loss: 0.2441 - val_accuracy: 0.9014\n",
      "Epoch 6/100\n",
      "54/54 [==============================] - 0s 6ms/step - loss: 0.2127 - accuracy: 0.9153 - val_loss: 0.2362 - val_accuracy: 0.9085\n",
      "Epoch 7/100\n",
      "54/54 [==============================] - 0s 6ms/step - loss: 0.2163 - accuracy: 0.9135 - val_loss: 0.2253 - val_accuracy: 0.9131\n",
      "Epoch 8/100\n",
      "54/54 [==============================] - 0s 6ms/step - loss: 0.1878 - accuracy: 0.9259 - val_loss: 0.2332 - val_accuracy: 0.8967\n",
      "Epoch 9/100\n",
      "54/54 [==============================] - 0s 6ms/step - loss: 0.1978 - accuracy: 0.9129 - val_loss: 0.2286 - val_accuracy: 0.9202\n",
      "Epoch 10/100\n",
      "54/54 [==============================] - 0s 6ms/step - loss: 0.1958 - accuracy: 0.9059 - val_loss: 0.2328 - val_accuracy: 0.9085\n",
      "Epoch 11/100\n",
      "54/54 [==============================] - 0s 6ms/step - loss: 0.1873 - accuracy: 0.9153 - val_loss: 0.2280 - val_accuracy: 0.9085\n",
      "Epoch 12/100\n",
      "54/54 [==============================] - 0s 6ms/step - loss: 0.1931 - accuracy: 0.9135 - val_loss: 0.2150 - val_accuracy: 0.9296\n",
      "Epoch 13/100\n",
      "54/54 [==============================] - 0s 6ms/step - loss: 0.1975 - accuracy: 0.9176 - val_loss: 0.2273 - val_accuracy: 0.9178\n",
      "Epoch 14/100\n",
      "54/54 [==============================] - 0s 6ms/step - loss: 0.1888 - accuracy: 0.9182 - val_loss: 0.2230 - val_accuracy: 0.9225\n",
      "Epoch 15/100\n",
      "54/54 [==============================] - 0s 6ms/step - loss: 0.1685 - accuracy: 0.9276 - val_loss: 0.2092 - val_accuracy: 0.9272\n",
      "Epoch 16/100\n",
      "54/54 [==============================] - 0s 6ms/step - loss: 0.1740 - accuracy: 0.9218 - val_loss: 0.2194 - val_accuracy: 0.9272\n",
      "Epoch 17/100\n",
      "54/54 [==============================] - 0s 6ms/step - loss: 0.1816 - accuracy: 0.9129 - val_loss: 0.2015 - val_accuracy: 0.9225\n",
      "Epoch 18/100\n",
      "54/54 [==============================] - 0s 6ms/step - loss: 0.1708 - accuracy: 0.9235 - val_loss: 0.2080 - val_accuracy: 0.9272\n",
      "Epoch 19/100\n",
      "54/54 [==============================] - 0s 5ms/step - loss: 0.1656 - accuracy: 0.9288 - val_loss: 0.2126 - val_accuracy: 0.9202\n",
      "Epoch 20/100\n",
      "54/54 [==============================] - 0s 6ms/step - loss: 0.1658 - accuracy: 0.9318 - val_loss: 0.2006 - val_accuracy: 0.9249\n",
      "Epoch 21/100\n",
      "54/54 [==============================] - 0s 6ms/step - loss: 0.1603 - accuracy: 0.9288 - val_loss: 0.2021 - val_accuracy: 0.9319\n",
      "Epoch 22/100\n",
      "54/54 [==============================] - 0s 6ms/step - loss: 0.1485 - accuracy: 0.9347 - val_loss: 0.2163 - val_accuracy: 0.9225\n",
      "Epoch 23/100\n",
      "54/54 [==============================] - 0s 6ms/step - loss: 0.1549 - accuracy: 0.9294 - val_loss: 0.2160 - val_accuracy: 0.9225\n",
      "Epoch 24/100\n",
      "54/54 [==============================] - 0s 6ms/step - loss: 0.1662 - accuracy: 0.9306 - val_loss: 0.2006 - val_accuracy: 0.9249\n",
      "Epoch 25/100\n",
      "54/54 [==============================] - 0s 5ms/step - loss: 0.1565 - accuracy: 0.9288 - val_loss: 0.1972 - val_accuracy: 0.9272\n",
      "Epoch 26/100\n",
      "54/54 [==============================] - 0s 6ms/step - loss: 0.1521 - accuracy: 0.9388 - val_loss: 0.1945 - val_accuracy: 0.9343\n",
      "Epoch 27/100\n",
      "54/54 [==============================] - 0s 6ms/step - loss: 0.1494 - accuracy: 0.9329 - val_loss: 0.1857 - val_accuracy: 0.9296\n",
      "Epoch 28/100\n",
      "54/54 [==============================] - 0s 6ms/step - loss: 0.1486 - accuracy: 0.9371 - val_loss: 0.2004 - val_accuracy: 0.9249\n",
      "Epoch 29/100\n",
      "54/54 [==============================] - 0s 6ms/step - loss: 0.1431 - accuracy: 0.9388 - val_loss: 0.1857 - val_accuracy: 0.9319\n",
      "Epoch 30/100\n",
      "54/54 [==============================] - 0s 6ms/step - loss: 0.1395 - accuracy: 0.9382 - val_loss: 0.1813 - val_accuracy: 0.9366\n",
      "Epoch 31/100\n",
      "54/54 [==============================] - 0s 6ms/step - loss: 0.1522 - accuracy: 0.9288 - val_loss: 0.1805 - val_accuracy: 0.9319\n",
      "Epoch 32/100\n",
      "54/54 [==============================] - 0s 6ms/step - loss: 0.1560 - accuracy: 0.9324 - val_loss: 0.1855 - val_accuracy: 0.9343\n",
      "Epoch 33/100\n",
      "54/54 [==============================] - 0s 6ms/step - loss: 0.1377 - accuracy: 0.9447 - val_loss: 0.1822 - val_accuracy: 0.9437\n",
      "Epoch 34/100\n",
      "54/54 [==============================] - 0s 6ms/step - loss: 0.1545 - accuracy: 0.9318 - val_loss: 0.1904 - val_accuracy: 0.9343\n",
      "Epoch 35/100\n",
      "54/54 [==============================] - 0s 7ms/step - loss: 0.1400 - accuracy: 0.9447 - val_loss: 0.2140 - val_accuracy: 0.9178\n",
      "Epoch 36/100\n",
      "54/54 [==============================] - 0s 6ms/step - loss: 0.1499 - accuracy: 0.9412 - val_loss: 0.2067 - val_accuracy: 0.9178\n",
      "Epoch 37/100\n",
      "54/54 [==============================] - 0s 6ms/step - loss: 0.1502 - accuracy: 0.9406 - val_loss: 0.1813 - val_accuracy: 0.9343\n",
      "Epoch 38/100\n",
      "54/54 [==============================] - 0s 6ms/step - loss: 0.1413 - accuracy: 0.9376 - val_loss: 0.1736 - val_accuracy: 0.9343\n",
      "Epoch 39/100\n",
      "54/54 [==============================] - 0s 6ms/step - loss: 0.1567 - accuracy: 0.9329 - val_loss: 0.1806 - val_accuracy: 0.9390\n",
      "Epoch 40/100\n",
      "54/54 [==============================] - 0s 6ms/step - loss: 0.1355 - accuracy: 0.9394 - val_loss: 0.1838 - val_accuracy: 0.9390\n",
      "Epoch 41/100\n",
      "54/54 [==============================] - 0s 6ms/step - loss: 0.1283 - accuracy: 0.9500 - val_loss: 0.1922 - val_accuracy: 0.9460\n",
      "Epoch 42/100\n",
      "54/54 [==============================] - 0s 6ms/step - loss: 0.1452 - accuracy: 0.9324 - val_loss: 0.1864 - val_accuracy: 0.9413\n",
      "Epoch 43/100\n",
      "54/54 [==============================] - 0s 6ms/step - loss: 0.1295 - accuracy: 0.9435 - val_loss: 0.1920 - val_accuracy: 0.9296\n",
      "Epoch 44/100\n",
      "54/54 [==============================] - 0s 6ms/step - loss: 0.1305 - accuracy: 0.9465 - val_loss: 0.1781 - val_accuracy: 0.9413\n",
      "Epoch 45/100\n",
      "54/54 [==============================] - 0s 6ms/step - loss: 0.1294 - accuracy: 0.9459 - val_loss: 0.1788 - val_accuracy: 0.9437\n",
      "Epoch 46/100\n",
      "54/54 [==============================] - 0s 6ms/step - loss: 0.1136 - accuracy: 0.9524 - val_loss: 0.1855 - val_accuracy: 0.9437\n",
      "Epoch 47/100\n",
      "54/54 [==============================] - 0s 6ms/step - loss: 0.1418 - accuracy: 0.9365 - val_loss: 0.1812 - val_accuracy: 0.9366\n",
      "Epoch 48/100\n",
      "54/54 [==============================] - 0s 6ms/step - loss: 0.1295 - accuracy: 0.9447 - val_loss: 0.1753 - val_accuracy: 0.9390\n",
      "Epoch 49/100\n",
      "54/54 [==============================] - 0s 8ms/step - loss: 0.1331 - accuracy: 0.9424 - val_loss: 0.1731 - val_accuracy: 0.9343\n",
      "Epoch 50/100\n",
      "54/54 [==============================] - 0s 6ms/step - loss: 0.1431 - accuracy: 0.9388 - val_loss: 0.1832 - val_accuracy: 0.9437\n",
      "Epoch 51/100\n",
      "54/54 [==============================] - 0s 6ms/step - loss: 0.1164 - accuracy: 0.9524 - val_loss: 0.1782 - val_accuracy: 0.9437\n",
      "Epoch 52/100\n",
      "54/54 [==============================] - 0s 6ms/step - loss: 0.1105 - accuracy: 0.9465 - val_loss: 0.1834 - val_accuracy: 0.9413\n",
      "Epoch 53/100\n",
      "54/54 [==============================] - 0s 6ms/step - loss: 0.1245 - accuracy: 0.9506 - val_loss: 0.1619 - val_accuracy: 0.9413\n",
      "Epoch 54/100\n",
      "54/54 [==============================] - 0s 6ms/step - loss: 0.1234 - accuracy: 0.9506 - val_loss: 0.1655 - val_accuracy: 0.9484\n",
      "Epoch 55/100\n",
      "54/54 [==============================] - 0s 5ms/step - loss: 0.1338 - accuracy: 0.9406 - val_loss: 0.1824 - val_accuracy: 0.9437\n",
      "Epoch 56/100\n",
      "54/54 [==============================] - 0s 6ms/step - loss: 0.1160 - accuracy: 0.9535 - val_loss: 0.1738 - val_accuracy: 0.9413\n",
      "Epoch 57/100\n",
      "54/54 [==============================] - 0s 6ms/step - loss: 0.1232 - accuracy: 0.9518 - val_loss: 0.1739 - val_accuracy: 0.9437\n",
      "Epoch 58/100\n",
      "54/54 [==============================] - 0s 6ms/step - loss: 0.1358 - accuracy: 0.9447 - val_loss: 0.1821 - val_accuracy: 0.9366\n",
      "Epoch 59/100\n",
      "54/54 [==============================] - 0s 6ms/step - loss: 0.1170 - accuracy: 0.9476 - val_loss: 0.1859 - val_accuracy: 0.9460\n",
      "Epoch 60/100\n",
      "54/54 [==============================] - 0s 6ms/step - loss: 0.1162 - accuracy: 0.9488 - val_loss: 0.1806 - val_accuracy: 0.9437\n",
      "Epoch 61/100\n",
      "54/54 [==============================] - 0s 5ms/step - loss: 0.1294 - accuracy: 0.9453 - val_loss: 0.1861 - val_accuracy: 0.9390\n",
      "Epoch 62/100\n",
      "54/54 [==============================] - 0s 6ms/step - loss: 0.1121 - accuracy: 0.9559 - val_loss: 0.1840 - val_accuracy: 0.9437\n",
      "Epoch 63/100\n",
      "54/54 [==============================] - 0s 6ms/step - loss: 0.1321 - accuracy: 0.9424 - val_loss: 0.1819 - val_accuracy: 0.9413\n",
      "Epoch 64/100\n",
      "54/54 [==============================] - 0s 6ms/step - loss: 0.1245 - accuracy: 0.9482 - val_loss: 0.1794 - val_accuracy: 0.9413\n",
      "Epoch 65/100\n",
      "54/54 [==============================] - 0s 6ms/step - loss: 0.1228 - accuracy: 0.9506 - val_loss: 0.1996 - val_accuracy: 0.9390\n",
      "Epoch 66/100\n",
      "54/54 [==============================] - 0s 6ms/step - loss: 0.1268 - accuracy: 0.9441 - val_loss: 0.1741 - val_accuracy: 0.9437\n",
      "Epoch 67/100\n",
      "54/54 [==============================] - 0s 6ms/step - loss: 0.1183 - accuracy: 0.9459 - val_loss: 0.1744 - val_accuracy: 0.9366\n",
      "Epoch 68/100\n",
      "54/54 [==============================] - 0s 6ms/step - loss: 0.1215 - accuracy: 0.9471 - val_loss: 0.1754 - val_accuracy: 0.9366\n",
      "Epoch 69/100\n",
      "54/54 [==============================] - 0s 6ms/step - loss: 0.1133 - accuracy: 0.9506 - val_loss: 0.1781 - val_accuracy: 0.9413\n",
      "Epoch 70/100\n",
      "54/54 [==============================] - 0s 6ms/step - loss: 0.1343 - accuracy: 0.9447 - val_loss: 0.1734 - val_accuracy: 0.9437\n",
      "Epoch 71/100\n",
      "54/54 [==============================] - 0s 6ms/step - loss: 0.1265 - accuracy: 0.9406 - val_loss: 0.1660 - val_accuracy: 0.9484\n",
      "Epoch 72/100\n",
      "54/54 [==============================] - 0s 6ms/step - loss: 0.1241 - accuracy: 0.9424 - val_loss: 0.1812 - val_accuracy: 0.9437\n",
      "Epoch 73/100\n",
      "54/54 [==============================] - 0s 6ms/step - loss: 0.1220 - accuracy: 0.9500 - val_loss: 0.1758 - val_accuracy: 0.9460\n",
      "Epoch 74/100\n",
      "54/54 [==============================] - 0s 6ms/step - loss: 0.1175 - accuracy: 0.9518 - val_loss: 0.1688 - val_accuracy: 0.9366\n",
      "Epoch 75/100\n",
      "54/54 [==============================] - 0s 6ms/step - loss: 0.1085 - accuracy: 0.9512 - val_loss: 0.1701 - val_accuracy: 0.9437\n",
      "Epoch 76/100\n",
      "54/54 [==============================] - 0s 6ms/step - loss: 0.1200 - accuracy: 0.9500 - val_loss: 0.1753 - val_accuracy: 0.9390\n",
      "Epoch 77/100\n",
      "54/54 [==============================] - 0s 6ms/step - loss: 0.1159 - accuracy: 0.9512 - val_loss: 0.1700 - val_accuracy: 0.9437\n",
      "Epoch 78/100\n",
      "54/54 [==============================] - 0s 6ms/step - loss: 0.1206 - accuracy: 0.9471 - val_loss: 0.1585 - val_accuracy: 0.9531\n",
      "Epoch 79/100\n",
      "54/54 [==============================] - 0s 6ms/step - loss: 0.1156 - accuracy: 0.9494 - val_loss: 0.1662 - val_accuracy: 0.9460\n",
      "Epoch 80/100\n",
      "54/54 [==============================] - 0s 6ms/step - loss: 0.1113 - accuracy: 0.9506 - val_loss: 0.1681 - val_accuracy: 0.9366\n",
      "Epoch 81/100\n",
      "54/54 [==============================] - 0s 6ms/step - loss: 0.1199 - accuracy: 0.9500 - val_loss: 0.1684 - val_accuracy: 0.9413\n",
      "Epoch 82/100\n",
      "54/54 [==============================] - 0s 7ms/step - loss: 0.1106 - accuracy: 0.9529 - val_loss: 0.1788 - val_accuracy: 0.9343\n",
      "Epoch 83/100\n",
      "54/54 [==============================] - 0s 6ms/step - loss: 0.1224 - accuracy: 0.9529 - val_loss: 0.1720 - val_accuracy: 0.9460\n",
      "Epoch 84/100\n",
      "54/54 [==============================] - 0s 6ms/step - loss: 0.1086 - accuracy: 0.9529 - val_loss: 0.1719 - val_accuracy: 0.9460\n",
      "Epoch 85/100\n",
      "54/54 [==============================] - 0s 6ms/step - loss: 0.1146 - accuracy: 0.9488 - val_loss: 0.1726 - val_accuracy: 0.9437\n",
      "Epoch 86/100\n",
      "54/54 [==============================] - 0s 6ms/step - loss: 0.1051 - accuracy: 0.9588 - val_loss: 0.1667 - val_accuracy: 0.9390\n",
      "Epoch 87/100\n",
      "54/54 [==============================] - 0s 6ms/step - loss: 0.1017 - accuracy: 0.9571 - val_loss: 0.1759 - val_accuracy: 0.9413\n",
      "Epoch 88/100\n",
      "54/54 [==============================] - 0s 6ms/step - loss: 0.1130 - accuracy: 0.9482 - val_loss: 0.1798 - val_accuracy: 0.9390\n",
      "Epoch 89/100\n",
      "54/54 [==============================] - 0s 6ms/step - loss: 0.1062 - accuracy: 0.9506 - val_loss: 0.1810 - val_accuracy: 0.9413\n",
      "Epoch 90/100\n",
      "54/54 [==============================] - 0s 6ms/step - loss: 0.1094 - accuracy: 0.9547 - val_loss: 0.1759 - val_accuracy: 0.9390\n",
      "Epoch 91/100\n",
      "54/54 [==============================] - 0s 6ms/step - loss: 0.1068 - accuracy: 0.9594 - val_loss: 0.1800 - val_accuracy: 0.9343\n",
      "Epoch 92/100\n",
      "54/54 [==============================] - 0s 6ms/step - loss: 0.1072 - accuracy: 0.9529 - val_loss: 0.1860 - val_accuracy: 0.9437\n",
      "Epoch 93/100\n",
      "54/54 [==============================] - 0s 6ms/step - loss: 0.1115 - accuracy: 0.9518 - val_loss: 0.1815 - val_accuracy: 0.9413\n",
      "Epoch 94/100\n",
      "54/54 [==============================] - 0s 6ms/step - loss: 0.1117 - accuracy: 0.9529 - val_loss: 0.1715 - val_accuracy: 0.9343\n",
      "Epoch 95/100\n",
      "54/54 [==============================] - 0s 6ms/step - loss: 0.1013 - accuracy: 0.9600 - val_loss: 0.1930 - val_accuracy: 0.9413\n",
      "Epoch 96/100\n",
      "54/54 [==============================] - 0s 6ms/step - loss: 0.1103 - accuracy: 0.9565 - val_loss: 0.1833 - val_accuracy: 0.9437\n",
      "Epoch 97/100\n",
      "54/54 [==============================] - 0s 6ms/step - loss: 0.1121 - accuracy: 0.9541 - val_loss: 0.1808 - val_accuracy: 0.9343\n",
      "Epoch 98/100\n",
      "54/54 [==============================] - 0s 6ms/step - loss: 0.0944 - accuracy: 0.9582 - val_loss: 0.1790 - val_accuracy: 0.9366\n",
      "Epoch 99/100\n",
      "54/54 [==============================] - 0s 6ms/step - loss: 0.1102 - accuracy: 0.9524 - val_loss: 0.1828 - val_accuracy: 0.9413\n",
      "Epoch 100/100\n",
      "54/54 [==============================] - 0s 7ms/step - loss: 0.1064 - accuracy: 0.9571 - val_loss: 0.1840 - val_accuracy: 0.9413\n"
     ]
    }
   ],
   "source": [
    "history = model.fit(X_train, y_train, epochs = 100, validation_data=(X_test, y_test), verbose = 1)"
   ]
  },
  {
   "cell_type": "code",
   "execution_count": 70,
   "metadata": {
    "colab": {
     "base_uri": "https://localhost:8080/",
     "height": 573
    },
    "colab_type": "code",
    "id": "W_25Vfv0eYKS",
    "outputId": "f0022021-9b5a-4741-e7bb-9b254b4a9c27"
   },
   "outputs": [
    {
     "data": {
      "image/png": "[encoded data removed]",
      "text/plain": [
       "<Figure size 432x288 with 1 Axes>"
      ]
     },
     "metadata": {
      "needs_background": "light",
      "tags": []
     },
     "output_type": "display_data"
    },
    {
     "data": {
      "image/png": "[encoded data removed]",
      "text/plain": [
       "<Figure size 432x288 with 1 Axes>"
      ]
     },
     "metadata": {
      "needs_background": "light",
      "tags": []
     },
     "output_type": "display_data"
    }
   ],
   "source": [
    "plotLC(history, 100)"
   ]
  },
  {
   "cell_type": "code",
   "execution_count": 71,
   "metadata": {
    "colab": {
     "base_uri": "https://localhost:8080/",
     "height": 258
    },
    "colab_type": "code",
    "id": "8k6XgOcFkRM3",
    "outputId": "d084ce6b-e9d6-442e-ec4d-7282dbeb0c95"
   },
   "outputs": [
    {
     "name": "stdout",
     "output_type": "stream",
     "text": [
      "WARNING:tensorflow:From <ipython-input-10-1382d32a287b>:2: Sequential.predict_classes (from tensorflow.python.keras.engine.sequential) is deprecated and will be removed after 2021-01-01.\n",
      "Instructions for updating:\n",
      "Please use instead:* `np.argmax(model.predict(x), axis=-1)`,   if your model does multi-class classification   (e.g. if it uses a `softmax` last-layer activation).* `(model.predict(x) > 0.5).astype(\"int32\")`,   if your model does binary classification   (e.g. if it uses a `sigmoid` last-layer activation).\n",
      "Convolutional Neural Network\n",
      "\n",
      "[[320   6]\n",
      " [ 19  81]]\n",
      "\n",
      "Accuracy Score:    0.9413145539906104\n",
      "Precision Score:   0.9310344827586207\n",
      "Recall Score:      0.81\n",
      "Kappa Score:       0.8289486364074395\n",
      "F1 Score:          0.8663101604278076\n"
     ]
    }
   ],
   "source": [
    "CNNMetrics(model, X_test, y_test)"
   ]
  },
  {
   "cell_type": "markdown",
   "metadata": {
    "colab_type": "text",
    "id": "O7-K_O3sN7x2"
   },
   "source": [
    "CNN using RFE selected Features"
   ]
  },
  {
   "cell_type": "code",
   "execution_count": 0,
   "metadata": {
    "colab": {},
    "colab_type": "code",
    "id": "Ygj8nAAvY_RV"
   },
   "outputs": [],
   "source": [
    "modelRFE = CNN(18, 100)"
   ]
  },
  {
   "cell_type": "code",
   "execution_count": 73,
   "metadata": {
    "colab": {
     "base_uri": "https://localhost:8080/",
     "height": 1000
    },
    "colab_type": "code",
    "id": "wV3hdg79VZLy",
    "outputId": "ba4f347a-c6f5-443b-f600-a991d4856af7"
   },
   "outputs": [
    {
     "name": "stdout",
     "output_type": "stream",
     "text": [
      "Epoch 1/100\n",
      "54/54 [==============================] - 0s 7ms/step - loss: 0.4908 - accuracy: 0.7941 - val_loss: 0.3453 - val_accuracy: 0.8310\n",
      "Epoch 2/100\n",
      "54/54 [==============================] - 0s 5ms/step - loss: 0.3668 - accuracy: 0.8429 - val_loss: 0.3092 - val_accuracy: 0.8615\n",
      "Epoch 3/100\n",
      "54/54 [==============================] - 0s 5ms/step - loss: 0.2791 - accuracy: 0.8876 - val_loss: 0.2893 - val_accuracy: 0.8826\n",
      "Epoch 4/100\n",
      "54/54 [==============================] - 0s 5ms/step - loss: 0.2519 - accuracy: 0.8912 - val_loss: 0.2632 - val_accuracy: 0.8850\n",
      "Epoch 5/100\n",
      "54/54 [==============================] - 0s 5ms/step - loss: 0.2498 - accuracy: 0.8929 - val_loss: 0.2652 - val_accuracy: 0.8944\n",
      "Epoch 6/100\n",
      "54/54 [==============================] - 0s 5ms/step - loss: 0.2420 - accuracy: 0.8959 - val_loss: 0.2326 - val_accuracy: 0.9014\n",
      "Epoch 7/100\n",
      "54/54 [==============================] - 0s 5ms/step - loss: 0.2384 - accuracy: 0.8988 - val_loss: 0.2300 - val_accuracy: 0.9155\n",
      "Epoch 8/100\n",
      "54/54 [==============================] - 0s 5ms/step - loss: 0.2172 - accuracy: 0.8988 - val_loss: 0.2170 - val_accuracy: 0.9296\n",
      "Epoch 9/100\n",
      "54/54 [==============================] - 0s 5ms/step - loss: 0.2130 - accuracy: 0.9065 - val_loss: 0.2158 - val_accuracy: 0.9202\n",
      "Epoch 10/100\n",
      "54/54 [==============================] - 0s 5ms/step - loss: 0.2141 - accuracy: 0.9041 - val_loss: 0.2245 - val_accuracy: 0.9249\n",
      "Epoch 11/100\n",
      "54/54 [==============================] - 0s 5ms/step - loss: 0.1982 - accuracy: 0.9112 - val_loss: 0.2163 - val_accuracy: 0.9202\n",
      "Epoch 12/100\n",
      "54/54 [==============================] - 0s 5ms/step - loss: 0.1891 - accuracy: 0.9159 - val_loss: 0.2191 - val_accuracy: 0.9202\n",
      "Epoch 13/100\n",
      "54/54 [==============================] - 0s 6ms/step - loss: 0.1921 - accuracy: 0.9176 - val_loss: 0.2247 - val_accuracy: 0.9178\n",
      "Epoch 14/100\n",
      "54/54 [==============================] - 0s 5ms/step - loss: 0.1882 - accuracy: 0.9165 - val_loss: 0.2095 - val_accuracy: 0.9249\n",
      "Epoch 15/100\n",
      "54/54 [==============================] - 0s 5ms/step - loss: 0.1735 - accuracy: 0.9218 - val_loss: 0.2028 - val_accuracy: 0.9225\n",
      "Epoch 16/100\n",
      "54/54 [==============================] - 0s 5ms/step - loss: 0.1715 - accuracy: 0.9200 - val_loss: 0.1993 - val_accuracy: 0.9343\n",
      "Epoch 17/100\n",
      "54/54 [==============================] - 0s 5ms/step - loss: 0.1914 - accuracy: 0.9182 - val_loss: 0.2057 - val_accuracy: 0.9202\n",
      "Epoch 18/100\n",
      "54/54 [==============================] - 0s 5ms/step - loss: 0.1787 - accuracy: 0.9300 - val_loss: 0.2044 - val_accuracy: 0.9272\n",
      "Epoch 19/100\n",
      "54/54 [==============================] - 0s 5ms/step - loss: 0.1731 - accuracy: 0.9259 - val_loss: 0.1908 - val_accuracy: 0.9319\n",
      "Epoch 20/100\n",
      "54/54 [==============================] - 0s 5ms/step - loss: 0.1644 - accuracy: 0.9341 - val_loss: 0.1992 - val_accuracy: 0.9225\n",
      "Epoch 21/100\n",
      "54/54 [==============================] - 0s 5ms/step - loss: 0.1661 - accuracy: 0.9306 - val_loss: 0.1816 - val_accuracy: 0.9319\n",
      "Epoch 22/100\n",
      "54/54 [==============================] - 0s 6ms/step - loss: 0.1700 - accuracy: 0.9282 - val_loss: 0.1917 - val_accuracy: 0.9272\n",
      "Epoch 23/100\n",
      "54/54 [==============================] - 0s 5ms/step - loss: 0.1660 - accuracy: 0.9318 - val_loss: 0.1874 - val_accuracy: 0.9343\n",
      "Epoch 24/100\n",
      "54/54 [==============================] - 0s 5ms/step - loss: 0.1685 - accuracy: 0.9276 - val_loss: 0.1795 - val_accuracy: 0.9296\n",
      "Epoch 25/100\n",
      "54/54 [==============================] - 0s 5ms/step - loss: 0.1640 - accuracy: 0.9282 - val_loss: 0.1842 - val_accuracy: 0.9413\n",
      "Epoch 26/100\n",
      "54/54 [==============================] - 0s 5ms/step - loss: 0.1637 - accuracy: 0.9265 - val_loss: 0.1835 - val_accuracy: 0.9366\n",
      "Epoch 27/100\n",
      "54/54 [==============================] - 0s 5ms/step - loss: 0.1756 - accuracy: 0.9188 - val_loss: 0.1901 - val_accuracy: 0.9249\n",
      "Epoch 28/100\n",
      "54/54 [==============================] - 0s 5ms/step - loss: 0.1561 - accuracy: 0.9300 - val_loss: 0.1891 - val_accuracy: 0.9319\n",
      "Epoch 29/100\n",
      "54/54 [==============================] - 0s 5ms/step - loss: 0.1553 - accuracy: 0.9324 - val_loss: 0.1890 - val_accuracy: 0.9390\n",
      "Epoch 30/100\n",
      "54/54 [==============================] - 0s 5ms/step - loss: 0.1474 - accuracy: 0.9341 - val_loss: 0.1881 - val_accuracy: 0.9319\n",
      "Epoch 31/100\n",
      "54/54 [==============================] - 0s 5ms/step - loss: 0.1413 - accuracy: 0.9365 - val_loss: 0.1912 - val_accuracy: 0.9343\n",
      "Epoch 32/100\n",
      "54/54 [==============================] - 0s 6ms/step - loss: 0.1433 - accuracy: 0.9359 - val_loss: 0.1921 - val_accuracy: 0.9390\n",
      "Epoch 33/100\n",
      "54/54 [==============================] - 0s 6ms/step - loss: 0.1542 - accuracy: 0.9300 - val_loss: 0.1853 - val_accuracy: 0.9296\n",
      "Epoch 34/100\n",
      "54/54 [==============================] - 0s 6ms/step - loss: 0.1658 - accuracy: 0.9271 - val_loss: 0.1774 - val_accuracy: 0.9319\n",
      "Epoch 35/100\n",
      "54/54 [==============================] - 0s 6ms/step - loss: 0.1596 - accuracy: 0.9353 - val_loss: 0.1936 - val_accuracy: 0.9319\n",
      "Epoch 36/100\n",
      "54/54 [==============================] - 0s 5ms/step - loss: 0.1475 - accuracy: 0.9382 - val_loss: 0.1852 - val_accuracy: 0.9319\n",
      "Epoch 37/100\n",
      "54/54 [==============================] - 0s 5ms/step - loss: 0.1461 - accuracy: 0.9347 - val_loss: 0.1940 - val_accuracy: 0.9366\n",
      "Epoch 38/100\n",
      "54/54 [==============================] - 0s 5ms/step - loss: 0.1496 - accuracy: 0.9347 - val_loss: 0.1865 - val_accuracy: 0.9319\n",
      "Epoch 39/100\n",
      "54/54 [==============================] - 0s 6ms/step - loss: 0.1518 - accuracy: 0.9371 - val_loss: 0.1882 - val_accuracy: 0.9319\n",
      "Epoch 40/100\n",
      "54/54 [==============================] - 0s 5ms/step - loss: 0.1471 - accuracy: 0.9400 - val_loss: 0.1730 - val_accuracy: 0.9343\n",
      "Epoch 41/100\n",
      "54/54 [==============================] - 0s 5ms/step - loss: 0.1501 - accuracy: 0.9318 - val_loss: 0.1752 - val_accuracy: 0.9437\n",
      "Epoch 42/100\n",
      "54/54 [==============================] - 0s 5ms/step - loss: 0.1454 - accuracy: 0.9318 - val_loss: 0.1826 - val_accuracy: 0.9413\n",
      "Epoch 43/100\n",
      "54/54 [==============================] - 0s 5ms/step - loss: 0.1252 - accuracy: 0.9471 - val_loss: 0.1672 - val_accuracy: 0.9413\n",
      "Epoch 44/100\n",
      "54/54 [==============================] - 0s 6ms/step - loss: 0.1513 - accuracy: 0.9371 - val_loss: 0.1875 - val_accuracy: 0.9343\n",
      "Epoch 45/100\n",
      "54/54 [==============================] - 0s 6ms/step - loss: 0.1282 - accuracy: 0.9406 - val_loss: 0.1777 - val_accuracy: 0.9460\n",
      "Epoch 46/100\n",
      "54/54 [==============================] - 0s 5ms/step - loss: 0.1264 - accuracy: 0.9453 - val_loss: 0.1767 - val_accuracy: 0.9319\n",
      "Epoch 47/100\n",
      "54/54 [==============================] - 0s 6ms/step - loss: 0.1278 - accuracy: 0.9465 - val_loss: 0.1667 - val_accuracy: 0.9319\n",
      "Epoch 48/100\n",
      "54/54 [==============================] - 0s 5ms/step - loss: 0.1481 - accuracy: 0.9400 - val_loss: 0.1881 - val_accuracy: 0.9366\n",
      "Epoch 49/100\n",
      "54/54 [==============================] - 0s 5ms/step - loss: 0.1455 - accuracy: 0.9353 - val_loss: 0.1841 - val_accuracy: 0.9390\n",
      "Epoch 50/100\n",
      "54/54 [==============================] - 0s 5ms/step - loss: 0.1286 - accuracy: 0.9459 - val_loss: 0.1811 - val_accuracy: 0.9437\n",
      "Epoch 51/100\n",
      "54/54 [==============================] - 0s 5ms/step - loss: 0.1351 - accuracy: 0.9394 - val_loss: 0.1884 - val_accuracy: 0.9272\n",
      "Epoch 52/100\n",
      "54/54 [==============================] - 0s 5ms/step - loss: 0.1378 - accuracy: 0.9447 - val_loss: 0.1727 - val_accuracy: 0.9319\n",
      "Epoch 53/100\n",
      "54/54 [==============================] - 0s 5ms/step - loss: 0.1406 - accuracy: 0.9388 - val_loss: 0.1708 - val_accuracy: 0.9296\n",
      "Epoch 54/100\n",
      "54/54 [==============================] - 0s 5ms/step - loss: 0.1472 - accuracy: 0.9306 - val_loss: 0.1788 - val_accuracy: 0.9390\n",
      "Epoch 55/100\n",
      "54/54 [==============================] - 0s 5ms/step - loss: 0.1391 - accuracy: 0.9406 - val_loss: 0.1669 - val_accuracy: 0.9390\n",
      "Epoch 56/100\n",
      "54/54 [==============================] - 0s 5ms/step - loss: 0.1379 - accuracy: 0.9424 - val_loss: 0.1725 - val_accuracy: 0.9413\n",
      "Epoch 57/100\n",
      "54/54 [==============================] - 0s 5ms/step - loss: 0.1229 - accuracy: 0.9494 - val_loss: 0.1873 - val_accuracy: 0.9366\n",
      "Epoch 58/100\n",
      "54/54 [==============================] - 0s 6ms/step - loss: 0.1221 - accuracy: 0.9418 - val_loss: 0.1805 - val_accuracy: 0.9390\n",
      "Epoch 59/100\n",
      "54/54 [==============================] - 0s 5ms/step - loss: 0.1233 - accuracy: 0.9500 - val_loss: 0.1742 - val_accuracy: 0.9437\n",
      "Epoch 60/100\n",
      "54/54 [==============================] - 0s 5ms/step - loss: 0.1125 - accuracy: 0.9494 - val_loss: 0.1817 - val_accuracy: 0.9390\n",
      "Epoch 61/100\n",
      "54/54 [==============================] - 0s 5ms/step - loss: 0.1206 - accuracy: 0.9453 - val_loss: 0.1791 - val_accuracy: 0.9319\n",
      "Epoch 62/100\n",
      "54/54 [==============================] - 0s 6ms/step - loss: 0.1140 - accuracy: 0.9518 - val_loss: 0.2040 - val_accuracy: 0.9319\n",
      "Epoch 63/100\n",
      "54/54 [==============================] - 0s 5ms/step - loss: 0.1223 - accuracy: 0.9459 - val_loss: 0.1817 - val_accuracy: 0.9366\n",
      "Epoch 64/100\n",
      "54/54 [==============================] - 0s 5ms/step - loss: 0.1245 - accuracy: 0.9488 - val_loss: 0.1812 - val_accuracy: 0.9390\n",
      "Epoch 65/100\n",
      "54/54 [==============================] - 0s 5ms/step - loss: 0.1280 - accuracy: 0.9482 - val_loss: 0.1751 - val_accuracy: 0.9413\n",
      "Epoch 66/100\n",
      "54/54 [==============================] - 0s 5ms/step - loss: 0.1135 - accuracy: 0.9529 - val_loss: 0.1769 - val_accuracy: 0.9390\n",
      "Epoch 67/100\n",
      "54/54 [==============================] - 0s 5ms/step - loss: 0.1196 - accuracy: 0.9494 - val_loss: 0.1851 - val_accuracy: 0.9366\n",
      "Epoch 68/100\n",
      "54/54 [==============================] - 0s 5ms/step - loss: 0.1155 - accuracy: 0.9535 - val_loss: 0.1812 - val_accuracy: 0.9390\n",
      "Epoch 69/100\n",
      "54/54 [==============================] - 0s 5ms/step - loss: 0.1259 - accuracy: 0.9429 - val_loss: 0.1718 - val_accuracy: 0.9390\n",
      "Epoch 70/100\n",
      "54/54 [==============================] - 0s 5ms/step - loss: 0.1064 - accuracy: 0.9582 - val_loss: 0.1880 - val_accuracy: 0.9319\n",
      "Epoch 71/100\n",
      "54/54 [==============================] - 0s 5ms/step - loss: 0.1296 - accuracy: 0.9441 - val_loss: 0.1699 - val_accuracy: 0.9319\n",
      "Epoch 72/100\n",
      "54/54 [==============================] - 0s 5ms/step - loss: 0.1189 - accuracy: 0.9494 - val_loss: 0.1796 - val_accuracy: 0.9366\n",
      "Epoch 73/100\n",
      "54/54 [==============================] - 0s 5ms/step - loss: 0.1314 - accuracy: 0.9406 - val_loss: 0.1752 - val_accuracy: 0.9366\n",
      "Epoch 74/100\n",
      "54/54 [==============================] - 0s 5ms/step - loss: 0.1203 - accuracy: 0.9465 - val_loss: 0.1774 - val_accuracy: 0.9366\n",
      "Epoch 75/100\n",
      "54/54 [==============================] - 0s 5ms/step - loss: 0.1068 - accuracy: 0.9512 - val_loss: 0.1786 - val_accuracy: 0.9390\n",
      "Epoch 76/100\n",
      "54/54 [==============================] - 0s 5ms/step - loss: 0.1147 - accuracy: 0.9535 - val_loss: 0.1735 - val_accuracy: 0.9390\n",
      "Epoch 77/100\n",
      "54/54 [==============================] - 0s 5ms/step - loss: 0.1132 - accuracy: 0.9494 - val_loss: 0.1718 - val_accuracy: 0.9390\n",
      "Epoch 78/100\n",
      "54/54 [==============================] - 0s 6ms/step - loss: 0.1102 - accuracy: 0.9506 - val_loss: 0.1784 - val_accuracy: 0.9413\n",
      "Epoch 79/100\n",
      "54/54 [==============================] - 0s 6ms/step - loss: 0.1074 - accuracy: 0.9541 - val_loss: 0.1714 - val_accuracy: 0.9390\n",
      "Epoch 80/100\n",
      "54/54 [==============================] - 0s 5ms/step - loss: 0.1141 - accuracy: 0.9506 - val_loss: 0.1734 - val_accuracy: 0.9460\n",
      "Epoch 81/100\n",
      "54/54 [==============================] - 0s 6ms/step - loss: 0.1022 - accuracy: 0.9600 - val_loss: 0.1742 - val_accuracy: 0.9366\n",
      "Epoch 82/100\n",
      "54/54 [==============================] - 0s 6ms/step - loss: 0.1006 - accuracy: 0.9547 - val_loss: 0.1925 - val_accuracy: 0.9413\n",
      "Epoch 83/100\n",
      "54/54 [==============================] - 0s 6ms/step - loss: 0.1126 - accuracy: 0.9529 - val_loss: 0.1823 - val_accuracy: 0.9366\n",
      "Epoch 84/100\n",
      "54/54 [==============================] - 0s 5ms/step - loss: 0.1206 - accuracy: 0.9506 - val_loss: 0.1783 - val_accuracy: 0.9366\n",
      "Epoch 85/100\n",
      "54/54 [==============================] - 0s 5ms/step - loss: 0.1117 - accuracy: 0.9465 - val_loss: 0.1860 - val_accuracy: 0.9343\n",
      "Epoch 86/100\n",
      "54/54 [==============================] - 0s 5ms/step - loss: 0.1197 - accuracy: 0.9500 - val_loss: 0.1747 - val_accuracy: 0.9366\n",
      "Epoch 87/100\n",
      "54/54 [==============================] - 0s 5ms/step - loss: 0.1147 - accuracy: 0.9512 - val_loss: 0.1704 - val_accuracy: 0.9460\n",
      "Epoch 88/100\n",
      "54/54 [==============================] - 0s 6ms/step - loss: 0.0995 - accuracy: 0.9600 - val_loss: 0.1674 - val_accuracy: 0.9319\n",
      "Epoch 89/100\n",
      "54/54 [==============================] - 0s 6ms/step - loss: 0.1060 - accuracy: 0.9553 - val_loss: 0.1641 - val_accuracy: 0.9437\n",
      "Epoch 90/100\n",
      "54/54 [==============================] - 0s 5ms/step - loss: 0.1141 - accuracy: 0.9465 - val_loss: 0.1674 - val_accuracy: 0.9390\n",
      "Epoch 91/100\n",
      "54/54 [==============================] - 0s 6ms/step - loss: 0.0994 - accuracy: 0.9559 - val_loss: 0.1689 - val_accuracy: 0.9413\n",
      "Epoch 92/100\n",
      "54/54 [==============================] - 0s 6ms/step - loss: 0.0999 - accuracy: 0.9606 - val_loss: 0.1668 - val_accuracy: 0.9343\n",
      "Epoch 93/100\n",
      "54/54 [==============================] - 0s 5ms/step - loss: 0.1026 - accuracy: 0.9594 - val_loss: 0.1642 - val_accuracy: 0.9413\n",
      "Epoch 94/100\n",
      "54/54 [==============================] - 0s 5ms/step - loss: 0.1069 - accuracy: 0.9547 - val_loss: 0.1739 - val_accuracy: 0.9437\n",
      "Epoch 95/100\n",
      "54/54 [==============================] - 0s 5ms/step - loss: 0.1085 - accuracy: 0.9535 - val_loss: 0.1683 - val_accuracy: 0.9390\n",
      "Epoch 96/100\n",
      "54/54 [==============================] - 0s 5ms/step - loss: 0.1173 - accuracy: 0.9506 - val_loss: 0.1621 - val_accuracy: 0.9437\n",
      "Epoch 97/100\n",
      "54/54 [==============================] - 0s 6ms/step - loss: 0.1055 - accuracy: 0.9541 - val_loss: 0.1727 - val_accuracy: 0.9296\n",
      "Epoch 98/100\n",
      "54/54 [==============================] - 0s 5ms/step - loss: 0.0981 - accuracy: 0.9559 - val_loss: 0.1722 - val_accuracy: 0.9390\n",
      "Epoch 99/100\n",
      "54/54 [==============================] - 0s 5ms/step - loss: 0.1112 - accuracy: 0.9529 - val_loss: 0.1710 - val_accuracy: 0.9437\n",
      "Epoch 100/100\n",
      "54/54 [==============================] - 0s 5ms/step - loss: 0.1040 - accuracy: 0.9582 - val_loss: 0.1713 - val_accuracy: 0.9319\n"
     ]
    }
   ],
   "source": [
    "historyRFE = modelRFE.fit(X_train_RFE, y_train, epochs = 100, validation_data=(X_test_RFE, y_test), verbose = 1)"
   ]
  },
  {
   "cell_type": "code",
   "execution_count": 74,
   "metadata": {
    "colab": {
     "base_uri": "https://localhost:8080/",
     "height": 573
    },
    "colab_type": "code",
    "id": "c7zFBDK8Yqd4",
    "outputId": "99a6b254-d993-4454-f466-556ee29e7e9d"
   },
   "outputs": [
    {
     "data": {
      "image/png": "[encoded data removed]",
      "text/plain": [
       "<Figure size 432x288 with 1 Axes>"
      ]
     },
     "metadata": {
      "needs_background": "light",
      "tags": []
     },
     "output_type": "display_data"
    },
    {
     "data": {
      "image/png": "[encoded data removed]",
      "text/plain": [
       "<Figure size 432x288 with 1 Axes>"
      ]
     },
     "metadata": {
      "needs_background": "light",
      "tags": []
     },
     "output_type": "display_data"
    }
   ],
   "source": [
    "plotLC(historyRFE, 100)"
   ]
  },
  {
   "cell_type": "code",
   "execution_count": 75,
   "metadata": {
    "colab": {
     "base_uri": "https://localhost:8080/",
     "height": 187
    },
    "colab_type": "code",
    "id": "RGzaE2MOk7iU",
    "outputId": "253dcf78-8d40-4048-d922-348c366a5c62"
   },
   "outputs": [
    {
     "name": "stdout",
     "output_type": "stream",
     "text": [
      "Convolutional Neural Network\n",
      "\n",
      "[[311  15]\n",
      " [ 14  86]]\n",
      "\n",
      "Accuracy Score:    0.931924882629108\n",
      "Precision Score:   0.8514851485148515\n",
      "Recall Score:      0.86\n",
      "Kappa Score:       0.8111759850823832\n",
      "F1 Score:          0.8557213930348259\n"
     ]
    }
   ],
   "source": [
    "CNNMetrics(modelRFE, X_test_RFE, y_test)"
   ]
  },
  {
   "cell_type": "markdown",
   "metadata": {
    "colab_type": "text",
    "id": "PvZfPa56OFuS"
   },
   "source": [
    "CNN using LASSO (L1) selected Features"
   ]
  },
  {
   "cell_type": "code",
   "execution_count": 0,
   "metadata": {
    "colab": {},
    "colab_type": "code",
    "id": "fIRZrBpCgOKb"
   },
   "outputs": [],
   "source": [
    "modelL1 = CNN(17, 100)"
   ]
  },
  {
   "cell_type": "code",
   "execution_count": 77,
   "metadata": {
    "colab": {
     "base_uri": "https://localhost:8080/",
     "height": 1000
    },
    "colab_type": "code",
    "id": "LsouCzNfhJJF",
    "outputId": "fa7704ab-de43-4041-d161-7c37fe39dd08"
   },
   "outputs": [
    {
     "name": "stdout",
     "output_type": "stream",
     "text": [
      "Epoch 1/100\n",
      "54/54 [==============================] - 0s 8ms/step - loss: 0.4852 - accuracy: 0.7865 - val_loss: 0.3188 - val_accuracy: 0.8474\n",
      "Epoch 2/100\n",
      "54/54 [==============================] - 0s 6ms/step - loss: 0.3339 - accuracy: 0.8571 - val_loss: 0.3134 - val_accuracy: 0.8756\n",
      "Epoch 3/100\n",
      "54/54 [==============================] - 0s 5ms/step - loss: 0.2835 - accuracy: 0.8812 - val_loss: 0.3554 - val_accuracy: 0.8732\n",
      "Epoch 4/100\n",
      "54/54 [==============================] - 0s 5ms/step - loss: 0.2449 - accuracy: 0.8953 - val_loss: 0.3819 - val_accuracy: 0.8850\n",
      "Epoch 5/100\n",
      "54/54 [==============================] - 0s 5ms/step - loss: 0.2380 - accuracy: 0.8959 - val_loss: 0.2915 - val_accuracy: 0.8944\n",
      "Epoch 6/100\n",
      "54/54 [==============================] - 0s 5ms/step - loss: 0.2367 - accuracy: 0.9000 - val_loss: 0.2786 - val_accuracy: 0.9014\n",
      "Epoch 7/100\n",
      "54/54 [==============================] - 0s 5ms/step - loss: 0.2301 - accuracy: 0.8965 - val_loss: 0.3440 - val_accuracy: 0.8685\n",
      "Epoch 8/100\n",
      "54/54 [==============================] - 0s 5ms/step - loss: 0.2141 - accuracy: 0.9059 - val_loss: 0.2840 - val_accuracy: 0.8873\n",
      "Epoch 9/100\n",
      "54/54 [==============================] - 0s 5ms/step - loss: 0.1950 - accuracy: 0.9135 - val_loss: 0.2420 - val_accuracy: 0.9155\n",
      "Epoch 10/100\n",
      "54/54 [==============================] - 0s 5ms/step - loss: 0.2089 - accuracy: 0.9088 - val_loss: 0.2596 - val_accuracy: 0.8920\n",
      "Epoch 11/100\n",
      "54/54 [==============================] - 0s 5ms/step - loss: 0.2130 - accuracy: 0.9029 - val_loss: 0.2233 - val_accuracy: 0.9225\n",
      "Epoch 12/100\n",
      "54/54 [==============================] - 0s 5ms/step - loss: 0.1838 - accuracy: 0.9235 - val_loss: 0.2102 - val_accuracy: 0.9296\n",
      "Epoch 13/100\n",
      "54/54 [==============================] - 0s 5ms/step - loss: 0.1833 - accuracy: 0.9218 - val_loss: 0.2300 - val_accuracy: 0.9108\n",
      "Epoch 14/100\n",
      "54/54 [==============================] - 0s 5ms/step - loss: 0.1738 - accuracy: 0.9229 - val_loss: 0.2590 - val_accuracy: 0.8967\n",
      "Epoch 15/100\n",
      "54/54 [==============================] - 0s 5ms/step - loss: 0.1790 - accuracy: 0.9229 - val_loss: 0.2387 - val_accuracy: 0.9178\n",
      "Epoch 16/100\n",
      "54/54 [==============================] - 0s 5ms/step - loss: 0.1767 - accuracy: 0.9200 - val_loss: 0.2572 - val_accuracy: 0.8920\n",
      "Epoch 17/100\n",
      "54/54 [==============================] - 0s 5ms/step - loss: 0.1739 - accuracy: 0.9206 - val_loss: 0.2151 - val_accuracy: 0.9225\n",
      "Epoch 18/100\n",
      "54/54 [==============================] - 0s 5ms/step - loss: 0.1720 - accuracy: 0.9241 - val_loss: 0.2596 - val_accuracy: 0.8897\n",
      "Epoch 19/100\n",
      "54/54 [==============================] - 0s 5ms/step - loss: 0.1763 - accuracy: 0.9200 - val_loss: 0.2345 - val_accuracy: 0.9038\n",
      "Epoch 20/100\n",
      "54/54 [==============================] - 0s 5ms/step - loss: 0.1716 - accuracy: 0.9206 - val_loss: 0.2795 - val_accuracy: 0.8873\n",
      "Epoch 21/100\n",
      "54/54 [==============================] - 0s 5ms/step - loss: 0.1620 - accuracy: 0.9276 - val_loss: 0.2224 - val_accuracy: 0.9108\n",
      "Epoch 22/100\n",
      "54/54 [==============================] - 0s 5ms/step - loss: 0.1702 - accuracy: 0.9276 - val_loss: 0.1952 - val_accuracy: 0.9296\n",
      "Epoch 23/100\n",
      "54/54 [==============================] - 0s 5ms/step - loss: 0.1680 - accuracy: 0.9294 - val_loss: 0.1988 - val_accuracy: 0.9202\n",
      "Epoch 24/100\n",
      "54/54 [==============================] - 0s 5ms/step - loss: 0.1663 - accuracy: 0.9294 - val_loss: 0.1953 - val_accuracy: 0.9319\n",
      "Epoch 25/100\n",
      "54/54 [==============================] - 0s 5ms/step - loss: 0.1552 - accuracy: 0.9312 - val_loss: 0.1993 - val_accuracy: 0.9249\n",
      "Epoch 26/100\n",
      "54/54 [==============================] - 0s 5ms/step - loss: 0.1487 - accuracy: 0.9371 - val_loss: 0.2090 - val_accuracy: 0.9249\n",
      "Epoch 27/100\n",
      "54/54 [==============================] - 0s 5ms/step - loss: 0.1530 - accuracy: 0.9329 - val_loss: 0.2070 - val_accuracy: 0.9202\n",
      "Epoch 28/100\n",
      "54/54 [==============================] - 0s 5ms/step - loss: 0.1557 - accuracy: 0.9306 - val_loss: 0.2097 - val_accuracy: 0.9249\n",
      "Epoch 29/100\n",
      "54/54 [==============================] - 0s 5ms/step - loss: 0.1423 - accuracy: 0.9341 - val_loss: 0.2030 - val_accuracy: 0.9272\n",
      "Epoch 30/100\n",
      "54/54 [==============================] - 0s 5ms/step - loss: 0.1453 - accuracy: 0.9359 - val_loss: 0.1954 - val_accuracy: 0.9366\n",
      "Epoch 31/100\n",
      "54/54 [==============================] - 0s 5ms/step - loss: 0.1453 - accuracy: 0.9394 - val_loss: 0.1923 - val_accuracy: 0.9131\n",
      "Epoch 32/100\n",
      "54/54 [==============================] - 0s 8ms/step - loss: 0.1476 - accuracy: 0.9371 - val_loss: 0.2001 - val_accuracy: 0.9225\n",
      "Epoch 33/100\n",
      "54/54 [==============================] - 0s 5ms/step - loss: 0.1603 - accuracy: 0.9294 - val_loss: 0.1844 - val_accuracy: 0.9249\n",
      "Epoch 34/100\n",
      "54/54 [==============================] - 0s 5ms/step - loss: 0.1422 - accuracy: 0.9453 - val_loss: 0.1857 - val_accuracy: 0.9343\n",
      "Epoch 35/100\n",
      "54/54 [==============================] - 0s 5ms/step - loss: 0.1471 - accuracy: 0.9365 - val_loss: 0.1884 - val_accuracy: 0.9272\n",
      "Epoch 36/100\n",
      "54/54 [==============================] - 0s 5ms/step - loss: 0.1464 - accuracy: 0.9371 - val_loss: 0.1849 - val_accuracy: 0.9343\n",
      "Epoch 37/100\n",
      "54/54 [==============================] - 0s 6ms/step - loss: 0.1349 - accuracy: 0.9435 - val_loss: 0.1819 - val_accuracy: 0.9343\n",
      "Epoch 38/100\n",
      "54/54 [==============================] - 0s 5ms/step - loss: 0.1418 - accuracy: 0.9353 - val_loss: 0.1892 - val_accuracy: 0.9319\n",
      "Epoch 39/100\n",
      "54/54 [==============================] - 0s 5ms/step - loss: 0.1452 - accuracy: 0.9465 - val_loss: 0.1813 - val_accuracy: 0.9343\n",
      "Epoch 40/100\n",
      "54/54 [==============================] - 0s 6ms/step - loss: 0.1469 - accuracy: 0.9429 - val_loss: 0.1864 - val_accuracy: 0.9366\n",
      "Epoch 41/100\n",
      "54/54 [==============================] - 0s 5ms/step - loss: 0.1399 - accuracy: 0.9394 - val_loss: 0.1980 - val_accuracy: 0.9272\n",
      "Epoch 42/100\n",
      "54/54 [==============================] - 0s 5ms/step - loss: 0.1406 - accuracy: 0.9376 - val_loss: 0.1970 - val_accuracy: 0.9249\n",
      "Epoch 43/100\n",
      "54/54 [==============================] - 0s 5ms/step - loss: 0.1361 - accuracy: 0.9424 - val_loss: 0.2090 - val_accuracy: 0.9178\n",
      "Epoch 44/100\n",
      "54/54 [==============================] - 0s 5ms/step - loss: 0.1300 - accuracy: 0.9471 - val_loss: 0.1937 - val_accuracy: 0.9296\n",
      "Epoch 45/100\n",
      "54/54 [==============================] - 0s 5ms/step - loss: 0.1457 - accuracy: 0.9359 - val_loss: 0.1944 - val_accuracy: 0.9390\n",
      "Epoch 46/100\n",
      "54/54 [==============================] - 0s 5ms/step - loss: 0.1444 - accuracy: 0.9376 - val_loss: 0.1982 - val_accuracy: 0.9272\n",
      "Epoch 47/100\n",
      "54/54 [==============================] - 0s 5ms/step - loss: 0.1459 - accuracy: 0.9376 - val_loss: 0.1820 - val_accuracy: 0.9390\n",
      "Epoch 48/100\n",
      "54/54 [==============================] - 0s 5ms/step - loss: 0.1389 - accuracy: 0.9418 - val_loss: 0.1729 - val_accuracy: 0.9366\n",
      "Epoch 49/100\n",
      "54/54 [==============================] - 0s 5ms/step - loss: 0.1337 - accuracy: 0.9418 - val_loss: 0.1840 - val_accuracy: 0.9343\n",
      "Epoch 50/100\n",
      "54/54 [==============================] - 0s 5ms/step - loss: 0.1407 - accuracy: 0.9400 - val_loss: 0.1823 - val_accuracy: 0.9272\n",
      "Epoch 51/100\n",
      "54/54 [==============================] - 0s 5ms/step - loss: 0.1274 - accuracy: 0.9476 - val_loss: 0.1921 - val_accuracy: 0.9249\n",
      "Epoch 52/100\n",
      "54/54 [==============================] - 0s 5ms/step - loss: 0.1385 - accuracy: 0.9441 - val_loss: 0.2053 - val_accuracy: 0.9319\n",
      "Epoch 53/100\n",
      "54/54 [==============================] - 0s 5ms/step - loss: 0.1392 - accuracy: 0.9424 - val_loss: 0.1825 - val_accuracy: 0.9319\n",
      "Epoch 54/100\n",
      "54/54 [==============================] - 0s 5ms/step - loss: 0.1383 - accuracy: 0.9412 - val_loss: 0.1912 - val_accuracy: 0.9366\n",
      "Epoch 55/100\n",
      "54/54 [==============================] - 0s 5ms/step - loss: 0.1412 - accuracy: 0.9371 - val_loss: 0.1765 - val_accuracy: 0.9319\n",
      "Epoch 56/100\n",
      "54/54 [==============================] - 0s 5ms/step - loss: 0.1256 - accuracy: 0.9447 - val_loss: 0.2145 - val_accuracy: 0.9225\n",
      "Epoch 57/100\n",
      "54/54 [==============================] - 0s 5ms/step - loss: 0.1291 - accuracy: 0.9459 - val_loss: 0.2030 - val_accuracy: 0.9249\n",
      "Epoch 58/100\n",
      "54/54 [==============================] - 0s 5ms/step - loss: 0.1398 - accuracy: 0.9376 - val_loss: 0.1930 - val_accuracy: 0.9390\n",
      "Epoch 59/100\n",
      "54/54 [==============================] - 0s 5ms/step - loss: 0.1269 - accuracy: 0.9424 - val_loss: 0.1693 - val_accuracy: 0.9390\n",
      "Epoch 60/100\n",
      "54/54 [==============================] - 0s 5ms/step - loss: 0.1248 - accuracy: 0.9435 - val_loss: 0.1741 - val_accuracy: 0.9390\n",
      "Epoch 61/100\n",
      "54/54 [==============================] - 0s 5ms/step - loss: 0.1342 - accuracy: 0.9429 - val_loss: 0.1760 - val_accuracy: 0.9343\n",
      "Epoch 62/100\n",
      "54/54 [==============================] - 0s 5ms/step - loss: 0.1128 - accuracy: 0.9465 - val_loss: 0.1937 - val_accuracy: 0.9343\n",
      "Epoch 63/100\n",
      "54/54 [==============================] - 0s 5ms/step - loss: 0.1250 - accuracy: 0.9482 - val_loss: 0.1751 - val_accuracy: 0.9343\n",
      "Epoch 64/100\n",
      "54/54 [==============================] - 0s 5ms/step - loss: 0.1089 - accuracy: 0.9541 - val_loss: 0.1868 - val_accuracy: 0.9390\n",
      "Epoch 65/100\n",
      "54/54 [==============================] - 0s 5ms/step - loss: 0.1120 - accuracy: 0.9447 - val_loss: 0.1789 - val_accuracy: 0.9343\n",
      "Epoch 66/100\n",
      "54/54 [==============================] - 0s 5ms/step - loss: 0.1224 - accuracy: 0.9488 - val_loss: 0.1822 - val_accuracy: 0.9319\n",
      "Epoch 67/100\n",
      "54/54 [==============================] - 0s 5ms/step - loss: 0.1262 - accuracy: 0.9512 - val_loss: 0.1836 - val_accuracy: 0.9319\n",
      "Epoch 68/100\n",
      "54/54 [==============================] - 0s 6ms/step - loss: 0.1309 - accuracy: 0.9400 - val_loss: 0.1880 - val_accuracy: 0.9249\n",
      "Epoch 69/100\n",
      "54/54 [==============================] - 0s 5ms/step - loss: 0.1143 - accuracy: 0.9512 - val_loss: 0.1834 - val_accuracy: 0.9319\n",
      "Epoch 70/100\n",
      "54/54 [==============================] - 0s 6ms/step - loss: 0.1175 - accuracy: 0.9506 - val_loss: 0.1868 - val_accuracy: 0.9272\n",
      "Epoch 71/100\n",
      "54/54 [==============================] - 0s 6ms/step - loss: 0.1280 - accuracy: 0.9541 - val_loss: 0.1735 - val_accuracy: 0.9343\n",
      "Epoch 72/100\n",
      "54/54 [==============================] - 0s 5ms/step - loss: 0.1347 - accuracy: 0.9424 - val_loss: 0.1909 - val_accuracy: 0.9272\n",
      "Epoch 73/100\n",
      "54/54 [==============================] - 0s 6ms/step - loss: 0.1299 - accuracy: 0.9441 - val_loss: 0.1826 - val_accuracy: 0.9272\n",
      "Epoch 74/100\n",
      "54/54 [==============================] - 0s 6ms/step - loss: 0.1251 - accuracy: 0.9412 - val_loss: 0.1827 - val_accuracy: 0.9296\n",
      "Epoch 75/100\n",
      "54/54 [==============================] - 0s 5ms/step - loss: 0.1254 - accuracy: 0.9488 - val_loss: 0.1747 - val_accuracy: 0.9343\n",
      "Epoch 76/100\n",
      "54/54 [==============================] - 0s 5ms/step - loss: 0.1260 - accuracy: 0.9441 - val_loss: 0.1818 - val_accuracy: 0.9319\n",
      "Epoch 77/100\n",
      "54/54 [==============================] - 0s 5ms/step - loss: 0.1181 - accuracy: 0.9553 - val_loss: 0.1811 - val_accuracy: 0.9413\n",
      "Epoch 78/100\n",
      "54/54 [==============================] - 0s 6ms/step - loss: 0.1215 - accuracy: 0.9447 - val_loss: 0.1783 - val_accuracy: 0.9272\n",
      "Epoch 79/100\n",
      "54/54 [==============================] - 0s 5ms/step - loss: 0.1180 - accuracy: 0.9476 - val_loss: 0.1732 - val_accuracy: 0.9413\n",
      "Epoch 80/100\n",
      "54/54 [==============================] - 0s 5ms/step - loss: 0.1193 - accuracy: 0.9494 - val_loss: 0.1762 - val_accuracy: 0.9366\n",
      "Epoch 81/100\n",
      "54/54 [==============================] - 0s 5ms/step - loss: 0.1245 - accuracy: 0.9453 - val_loss: 0.1752 - val_accuracy: 0.9343\n",
      "Epoch 82/100\n",
      "54/54 [==============================] - 0s 5ms/step - loss: 0.1273 - accuracy: 0.9482 - val_loss: 0.1659 - val_accuracy: 0.9343\n",
      "Epoch 83/100\n",
      "54/54 [==============================] - 0s 5ms/step - loss: 0.1211 - accuracy: 0.9465 - val_loss: 0.1683 - val_accuracy: 0.9366\n",
      "Epoch 84/100\n",
      "54/54 [==============================] - 0s 5ms/step - loss: 0.1173 - accuracy: 0.9488 - val_loss: 0.1650 - val_accuracy: 0.9366\n",
      "Epoch 85/100\n",
      "54/54 [==============================] - 0s 5ms/step - loss: 0.1127 - accuracy: 0.9547 - val_loss: 0.1765 - val_accuracy: 0.9319\n",
      "Epoch 86/100\n",
      "54/54 [==============================] - 0s 5ms/step - loss: 0.1080 - accuracy: 0.9535 - val_loss: 0.1661 - val_accuracy: 0.9413\n",
      "Epoch 87/100\n",
      "54/54 [==============================] - 0s 5ms/step - loss: 0.1147 - accuracy: 0.9541 - val_loss: 0.1648 - val_accuracy: 0.9390\n",
      "Epoch 88/100\n",
      "54/54 [==============================] - 0s 5ms/step - loss: 0.1205 - accuracy: 0.9488 - val_loss: 0.1690 - val_accuracy: 0.9296\n",
      "Epoch 89/100\n",
      "54/54 [==============================] - 0s 5ms/step - loss: 0.1119 - accuracy: 0.9565 - val_loss: 0.1743 - val_accuracy: 0.9390\n",
      "Epoch 90/100\n",
      "54/54 [==============================] - 0s 5ms/step - loss: 0.1264 - accuracy: 0.9471 - val_loss: 0.1607 - val_accuracy: 0.9413\n",
      "Epoch 91/100\n",
      "54/54 [==============================] - 0s 5ms/step - loss: 0.1088 - accuracy: 0.9535 - val_loss: 0.1679 - val_accuracy: 0.9390\n",
      "Epoch 92/100\n",
      "54/54 [==============================] - 0s 5ms/step - loss: 0.1106 - accuracy: 0.9571 - val_loss: 0.1638 - val_accuracy: 0.9296\n",
      "Epoch 93/100\n",
      "54/54 [==============================] - 0s 5ms/step - loss: 0.1096 - accuracy: 0.9541 - val_loss: 0.1707 - val_accuracy: 0.9343\n",
      "Epoch 94/100\n",
      "54/54 [==============================] - 0s 6ms/step - loss: 0.1151 - accuracy: 0.9559 - val_loss: 0.1784 - val_accuracy: 0.9343\n",
      "Epoch 95/100\n",
      "54/54 [==============================] - 0s 5ms/step - loss: 0.1195 - accuracy: 0.9441 - val_loss: 0.1732 - val_accuracy: 0.9319\n",
      "Epoch 96/100\n",
      "54/54 [==============================] - 0s 5ms/step - loss: 0.1159 - accuracy: 0.9524 - val_loss: 0.1688 - val_accuracy: 0.9343\n",
      "Epoch 97/100\n",
      "54/54 [==============================] - 0s 6ms/step - loss: 0.1144 - accuracy: 0.9553 - val_loss: 0.1738 - val_accuracy: 0.9296\n",
      "Epoch 98/100\n",
      "54/54 [==============================] - 0s 6ms/step - loss: 0.1112 - accuracy: 0.9547 - val_loss: 0.1669 - val_accuracy: 0.9296\n",
      "Epoch 99/100\n",
      "54/54 [==============================] - 0s 5ms/step - loss: 0.1077 - accuracy: 0.9559 - val_loss: 0.1682 - val_accuracy: 0.9366\n",
      "Epoch 100/100\n",
      "54/54 [==============================] - 0s 5ms/step - loss: 0.1056 - accuracy: 0.9541 - val_loss: 0.1604 - val_accuracy: 0.9437\n"
     ]
    }
   ],
   "source": [
    "historyL1 = modelL1.fit(X_train_L1, y_train, epochs = 100, validation_data=(X_test_L1, y_test), verbose = 1)"
   ]
  },
  {
   "cell_type": "code",
   "execution_count": 78,
   "metadata": {
    "colab": {
     "base_uri": "https://localhost:8080/",
     "height": 573
    },
    "colab_type": "code",
    "id": "Iq4vI3LohTV0",
    "outputId": "c0ab75ee-bc25-4494-f1f4-3be9794354db"
   },
   "outputs": [
    {
     "data": {
      "image/png": "[encoded data removed]",
      "text/plain": [
       "<Figure size 432x288 with 1 Axes>"
      ]
     },
     "metadata": {
      "needs_background": "light",
      "tags": []
     },
     "output_type": "display_data"
    },
    {
     "data": {
      "image/png": "[encoded data removed]",
      "text/plain": [
       "<Figure size 432x288 with 1 Axes>"
      ]
     },
     "metadata": {
      "needs_background": "light",
      "tags": []
     },
     "output_type": "display_data"
    }
   ],
   "source": [
    "plotLC(historyL1, 100)"
   ]
  },
  {
   "cell_type": "code",
   "execution_count": 79,
   "metadata": {
    "colab": {
     "base_uri": "https://localhost:8080/",
     "height": 187
    },
    "colab_type": "code",
    "id": "NI96CRqolJ-X",
    "outputId": "393bc62d-2bda-4c0a-f7fc-21168e7b3fdd"
   },
   "outputs": [
    {
     "name": "stdout",
     "output_type": "stream",
     "text": [
      "Convolutional Neural Network\n",
      "\n",
      "[[319   7]\n",
      " [ 17  83]]\n",
      "\n",
      "Accuracy Score:    0.9436619718309859\n",
      "Precision Score:   0.9222222222222223\n",
      "Recall Score:      0.83\n",
      "Kappa Score:       0.8375595805529075\n",
      "F1 Score:          0.8736842105263158\n"
     ]
    }
   ],
   "source": [
    "CNNMetrics(modelL1, X_test_L1, y_test)"
   ]
  },
  {
   "cell_type": "markdown",
   "metadata": {
    "colab_type": "text",
    "id": "TDkSSbG3OKez"
   },
   "source": [
    "CNN using ETC selected Features"
   ]
  },
  {
   "cell_type": "code",
   "execution_count": 0,
   "metadata": {
    "colab": {},
    "colab_type": "code",
    "id": "DRNSQfRDhT3O"
   },
   "outputs": [],
   "source": [
    "modelETC = CNN(8, 100)"
   ]
  },
  {
   "cell_type": "code",
   "execution_count": 81,
   "metadata": {
    "colab": {
     "base_uri": "https://localhost:8080/",
     "height": 1000
    },
    "colab_type": "code",
    "id": "aKeVNLOAhrr-",
    "outputId": "6d09884a-5724-4ff7-fada-8ca8930cd54d"
   },
   "outputs": [
    {
     "name": "stdout",
     "output_type": "stream",
     "text": [
      "Epoch 1/100\n",
      "54/54 [==============================] - 0s 6ms/step - loss: 0.4637 - accuracy: 0.7976 - val_loss: 0.3634 - val_accuracy: 0.8333\n",
      "Epoch 2/100\n",
      "54/54 [==============================] - 0s 3ms/step - loss: 0.3335 - accuracy: 0.8529 - val_loss: 0.3366 - val_accuracy: 0.8451\n",
      "Epoch 3/100\n",
      "54/54 [==============================] - 0s 3ms/step - loss: 0.2781 - accuracy: 0.8865 - val_loss: 0.3454 - val_accuracy: 0.8568\n",
      "Epoch 4/100\n",
      "54/54 [==============================] - 0s 4ms/step - loss: 0.2693 - accuracy: 0.8912 - val_loss: 0.3164 - val_accuracy: 0.8615\n",
      "Epoch 5/100\n",
      "54/54 [==============================] - 0s 4ms/step - loss: 0.2490 - accuracy: 0.8976 - val_loss: 0.2905 - val_accuracy: 0.8873\n",
      "Epoch 6/100\n",
      "54/54 [==============================] - 0s 4ms/step - loss: 0.2424 - accuracy: 0.8982 - val_loss: 0.2528 - val_accuracy: 0.8826\n",
      "Epoch 7/100\n",
      "54/54 [==============================] - 0s 4ms/step - loss: 0.2503 - accuracy: 0.8894 - val_loss: 0.2452 - val_accuracy: 0.8944\n",
      "Epoch 8/100\n",
      "54/54 [==============================] - 0s 4ms/step - loss: 0.2228 - accuracy: 0.8982 - val_loss: 0.2262 - val_accuracy: 0.8967\n",
      "Epoch 9/100\n",
      "54/54 [==============================] - 0s 3ms/step - loss: 0.2201 - accuracy: 0.9088 - val_loss: 0.2296 - val_accuracy: 0.9038\n",
      "Epoch 10/100\n",
      "54/54 [==============================] - 0s 3ms/step - loss: 0.2179 - accuracy: 0.9088 - val_loss: 0.2117 - val_accuracy: 0.9108\n",
      "Epoch 11/100\n",
      "54/54 [==============================] - 0s 4ms/step - loss: 0.2162 - accuracy: 0.9000 - val_loss: 0.2192 - val_accuracy: 0.9085\n",
      "Epoch 12/100\n",
      "54/54 [==============================] - 0s 3ms/step - loss: 0.2042 - accuracy: 0.9082 - val_loss: 0.2058 - val_accuracy: 0.9155\n",
      "Epoch 13/100\n",
      "54/54 [==============================] - 0s 4ms/step - loss: 0.1975 - accuracy: 0.9071 - val_loss: 0.2108 - val_accuracy: 0.9085\n",
      "Epoch 14/100\n",
      "54/54 [==============================] - 0s 4ms/step - loss: 0.1947 - accuracy: 0.9100 - val_loss: 0.2178 - val_accuracy: 0.9038\n",
      "Epoch 15/100\n",
      "54/54 [==============================] - 0s 4ms/step - loss: 0.1889 - accuracy: 0.9241 - val_loss: 0.2056 - val_accuracy: 0.9085\n",
      "Epoch 16/100\n",
      "54/54 [==============================] - 0s 4ms/step - loss: 0.1994 - accuracy: 0.9100 - val_loss: 0.1995 - val_accuracy: 0.9178\n",
      "Epoch 17/100\n",
      "54/54 [==============================] - 0s 4ms/step - loss: 0.2115 - accuracy: 0.9147 - val_loss: 0.1970 - val_accuracy: 0.9225\n",
      "Epoch 18/100\n",
      "54/54 [==============================] - 0s 4ms/step - loss: 0.1923 - accuracy: 0.9265 - val_loss: 0.1956 - val_accuracy: 0.9178\n",
      "Epoch 19/100\n",
      "54/54 [==============================] - 0s 4ms/step - loss: 0.1905 - accuracy: 0.9135 - val_loss: 0.2046 - val_accuracy: 0.9225\n",
      "Epoch 20/100\n",
      "54/54 [==============================] - 0s 3ms/step - loss: 0.1920 - accuracy: 0.9165 - val_loss: 0.1917 - val_accuracy: 0.9225\n",
      "Epoch 21/100\n",
      "54/54 [==============================] - 0s 4ms/step - loss: 0.1833 - accuracy: 0.9176 - val_loss: 0.1943 - val_accuracy: 0.9296\n",
      "Epoch 22/100\n",
      "54/54 [==============================] - 0s 4ms/step - loss: 0.1802 - accuracy: 0.9241 - val_loss: 0.1919 - val_accuracy: 0.9225\n",
      "Epoch 23/100\n",
      "54/54 [==============================] - 0s 3ms/step - loss: 0.1826 - accuracy: 0.9218 - val_loss: 0.1877 - val_accuracy: 0.9225\n",
      "Epoch 24/100\n",
      "54/54 [==============================] - 0s 3ms/step - loss: 0.1736 - accuracy: 0.9259 - val_loss: 0.1874 - val_accuracy: 0.9202\n",
      "Epoch 25/100\n",
      "54/54 [==============================] - 0s 3ms/step - loss: 0.1765 - accuracy: 0.9247 - val_loss: 0.1812 - val_accuracy: 0.9296\n",
      "Epoch 26/100\n",
      "54/54 [==============================] - 0s 4ms/step - loss: 0.1739 - accuracy: 0.9341 - val_loss: 0.1859 - val_accuracy: 0.9343\n",
      "Epoch 27/100\n",
      "54/54 [==============================] - 0s 4ms/step - loss: 0.1778 - accuracy: 0.9259 - val_loss: 0.1931 - val_accuracy: 0.9272\n",
      "Epoch 28/100\n",
      "54/54 [==============================] - 0s 4ms/step - loss: 0.1673 - accuracy: 0.9329 - val_loss: 0.1898 - val_accuracy: 0.9296\n",
      "Epoch 29/100\n",
      "54/54 [==============================] - 0s 4ms/step - loss: 0.1743 - accuracy: 0.9259 - val_loss: 0.1871 - val_accuracy: 0.9296\n",
      "Epoch 30/100\n",
      "54/54 [==============================] - 0s 4ms/step - loss: 0.1827 - accuracy: 0.9235 - val_loss: 0.1981 - val_accuracy: 0.9131\n",
      "Epoch 31/100\n",
      "54/54 [==============================] - 0s 4ms/step - loss: 0.1633 - accuracy: 0.9329 - val_loss: 0.2012 - val_accuracy: 0.9155\n",
      "Epoch 32/100\n",
      "54/54 [==============================] - 0s 4ms/step - loss: 0.1758 - accuracy: 0.9212 - val_loss: 0.1898 - val_accuracy: 0.9108\n",
      "Epoch 33/100\n",
      "54/54 [==============================] - 0s 3ms/step - loss: 0.1717 - accuracy: 0.9271 - val_loss: 0.1887 - val_accuracy: 0.9178\n",
      "Epoch 34/100\n",
      "54/54 [==============================] - 0s 3ms/step - loss: 0.1708 - accuracy: 0.9306 - val_loss: 0.1872 - val_accuracy: 0.9131\n",
      "Epoch 35/100\n",
      "54/54 [==============================] - 0s 4ms/step - loss: 0.1803 - accuracy: 0.9235 - val_loss: 0.1864 - val_accuracy: 0.9202\n",
      "Epoch 36/100\n",
      "54/54 [==============================] - 0s 4ms/step - loss: 0.1789 - accuracy: 0.9224 - val_loss: 0.1826 - val_accuracy: 0.9178\n",
      "Epoch 37/100\n",
      "54/54 [==============================] - 0s 4ms/step - loss: 0.1725 - accuracy: 0.9276 - val_loss: 0.1907 - val_accuracy: 0.9108\n",
      "Epoch 38/100\n",
      "54/54 [==============================] - 0s 4ms/step - loss: 0.1582 - accuracy: 0.9294 - val_loss: 0.1894 - val_accuracy: 0.9225\n",
      "Epoch 39/100\n",
      "54/54 [==============================] - 0s 4ms/step - loss: 0.1669 - accuracy: 0.9229 - val_loss: 0.1842 - val_accuracy: 0.9249\n",
      "Epoch 40/100\n",
      "54/54 [==============================] - 0s 4ms/step - loss: 0.1574 - accuracy: 0.9318 - val_loss: 0.1817 - val_accuracy: 0.9155\n",
      "Epoch 41/100\n",
      "54/54 [==============================] - 0s 4ms/step - loss: 0.1623 - accuracy: 0.9235 - val_loss: 0.1793 - val_accuracy: 0.9296\n",
      "Epoch 42/100\n",
      "54/54 [==============================] - 0s 4ms/step - loss: 0.1580 - accuracy: 0.9341 - val_loss: 0.1881 - val_accuracy: 0.9202\n",
      "Epoch 43/100\n",
      "54/54 [==============================] - 0s 4ms/step - loss: 0.1625 - accuracy: 0.9312 - val_loss: 0.1895 - val_accuracy: 0.9225\n",
      "Epoch 44/100\n",
      "54/54 [==============================] - 0s 3ms/step - loss: 0.1563 - accuracy: 0.9306 - val_loss: 0.1850 - val_accuracy: 0.9225\n",
      "Epoch 45/100\n",
      "54/54 [==============================] - 0s 3ms/step - loss: 0.1633 - accuracy: 0.9288 - val_loss: 0.1839 - val_accuracy: 0.9202\n",
      "Epoch 46/100\n",
      "54/54 [==============================] - 0s 4ms/step - loss: 0.1502 - accuracy: 0.9353 - val_loss: 0.1863 - val_accuracy: 0.9272\n",
      "Epoch 47/100\n",
      "54/54 [==============================] - 0s 3ms/step - loss: 0.1613 - accuracy: 0.9353 - val_loss: 0.1815 - val_accuracy: 0.9272\n",
      "Epoch 48/100\n",
      "54/54 [==============================] - 0s 3ms/step - loss: 0.1564 - accuracy: 0.9300 - val_loss: 0.1864 - val_accuracy: 0.9202\n",
      "Epoch 49/100\n",
      "54/54 [==============================] - 0s 4ms/step - loss: 0.1573 - accuracy: 0.9271 - val_loss: 0.1819 - val_accuracy: 0.9249\n",
      "Epoch 50/100\n",
      "54/54 [==============================] - 0s 4ms/step - loss: 0.1693 - accuracy: 0.9341 - val_loss: 0.1847 - val_accuracy: 0.9178\n",
      "Epoch 51/100\n",
      "54/54 [==============================] - 0s 4ms/step - loss: 0.1462 - accuracy: 0.9418 - val_loss: 0.1843 - val_accuracy: 0.9202\n",
      "Epoch 52/100\n",
      "54/54 [==============================] - 0s 4ms/step - loss: 0.1493 - accuracy: 0.9359 - val_loss: 0.1862 - val_accuracy: 0.9225\n",
      "Epoch 53/100\n",
      "54/54 [==============================] - 0s 3ms/step - loss: 0.1502 - accuracy: 0.9400 - val_loss: 0.1848 - val_accuracy: 0.9272\n",
      "Epoch 54/100\n",
      "54/54 [==============================] - 0s 4ms/step - loss: 0.1447 - accuracy: 0.9400 - val_loss: 0.1894 - val_accuracy: 0.9249\n",
      "Epoch 55/100\n",
      "54/54 [==============================] - 0s 3ms/step - loss: 0.1428 - accuracy: 0.9424 - val_loss: 0.1911 - val_accuracy: 0.9249\n",
      "Epoch 56/100\n",
      "54/54 [==============================] - 0s 4ms/step - loss: 0.1551 - accuracy: 0.9341 - val_loss: 0.1813 - val_accuracy: 0.9296\n",
      "Epoch 57/100\n",
      "54/54 [==============================] - 0s 4ms/step - loss: 0.1473 - accuracy: 0.9400 - val_loss: 0.1794 - val_accuracy: 0.9202\n",
      "Epoch 58/100\n",
      "54/54 [==============================] - 0s 3ms/step - loss: 0.1446 - accuracy: 0.9424 - val_loss: 0.1812 - val_accuracy: 0.9249\n",
      "Epoch 59/100\n",
      "54/54 [==============================] - 0s 4ms/step - loss: 0.1504 - accuracy: 0.9371 - val_loss: 0.1861 - val_accuracy: 0.9249\n",
      "Epoch 60/100\n",
      "54/54 [==============================] - 0s 3ms/step - loss: 0.1529 - accuracy: 0.9329 - val_loss: 0.1840 - val_accuracy: 0.9225\n",
      "Epoch 61/100\n",
      "54/54 [==============================] - 0s 4ms/step - loss: 0.1539 - accuracy: 0.9276 - val_loss: 0.1845 - val_accuracy: 0.9225\n",
      "Epoch 62/100\n",
      "54/54 [==============================] - 0s 4ms/step - loss: 0.1522 - accuracy: 0.9365 - val_loss: 0.1958 - val_accuracy: 0.9202\n",
      "Epoch 63/100\n",
      "54/54 [==============================] - 0s 4ms/step - loss: 0.1408 - accuracy: 0.9347 - val_loss: 0.1800 - val_accuracy: 0.9296\n",
      "Epoch 64/100\n",
      "54/54 [==============================] - 0s 3ms/step - loss: 0.1497 - accuracy: 0.9353 - val_loss: 0.1828 - val_accuracy: 0.9249\n",
      "Epoch 65/100\n",
      "54/54 [==============================] - 0s 3ms/step - loss: 0.1593 - accuracy: 0.9259 - val_loss: 0.1846 - val_accuracy: 0.9272\n",
      "Epoch 66/100\n",
      "54/54 [==============================] - 0s 4ms/step - loss: 0.1472 - accuracy: 0.9400 - val_loss: 0.1851 - val_accuracy: 0.9272\n",
      "Epoch 67/100\n",
      "54/54 [==============================] - 0s 4ms/step - loss: 0.1401 - accuracy: 0.9406 - val_loss: 0.1764 - val_accuracy: 0.9249\n",
      "Epoch 68/100\n",
      "54/54 [==============================] - 0s 4ms/step - loss: 0.1348 - accuracy: 0.9447 - val_loss: 0.1813 - val_accuracy: 0.9249\n",
      "Epoch 69/100\n",
      "54/54 [==============================] - 0s 4ms/step - loss: 0.1408 - accuracy: 0.9371 - val_loss: 0.1846 - val_accuracy: 0.9272\n",
      "Epoch 70/100\n",
      "54/54 [==============================] - 0s 3ms/step - loss: 0.1381 - accuracy: 0.9394 - val_loss: 0.1795 - val_accuracy: 0.9272\n",
      "Epoch 71/100\n",
      "54/54 [==============================] - 0s 4ms/step - loss: 0.1470 - accuracy: 0.9382 - val_loss: 0.1852 - val_accuracy: 0.9225\n",
      "Epoch 72/100\n",
      "54/54 [==============================] - 0s 4ms/step - loss: 0.1509 - accuracy: 0.9282 - val_loss: 0.1774 - val_accuracy: 0.9296\n",
      "Epoch 73/100\n",
      "54/54 [==============================] - 0s 3ms/step - loss: 0.1403 - accuracy: 0.9429 - val_loss: 0.1810 - val_accuracy: 0.9319\n",
      "Epoch 74/100\n",
      "54/54 [==============================] - 0s 4ms/step - loss: 0.1373 - accuracy: 0.9376 - val_loss: 0.1822 - val_accuracy: 0.9343\n",
      "Epoch 75/100\n",
      "54/54 [==============================] - 0s 4ms/step - loss: 0.1497 - accuracy: 0.9353 - val_loss: 0.1762 - val_accuracy: 0.9296\n",
      "Epoch 76/100\n",
      "54/54 [==============================] - 0s 4ms/step - loss: 0.1264 - accuracy: 0.9429 - val_loss: 0.1868 - val_accuracy: 0.9296\n",
      "Epoch 77/100\n",
      "54/54 [==============================] - 0s 3ms/step - loss: 0.1477 - accuracy: 0.9400 - val_loss: 0.1848 - val_accuracy: 0.9249\n",
      "Epoch 78/100\n",
      "54/54 [==============================] - 0s 4ms/step - loss: 0.1466 - accuracy: 0.9300 - val_loss: 0.1802 - val_accuracy: 0.9319\n",
      "Epoch 79/100\n",
      "54/54 [==============================] - 0s 4ms/step - loss: 0.1332 - accuracy: 0.9435 - val_loss: 0.1803 - val_accuracy: 0.9202\n",
      "Epoch 80/100\n",
      "54/54 [==============================] - 0s 4ms/step - loss: 0.1419 - accuracy: 0.9394 - val_loss: 0.1820 - val_accuracy: 0.9272\n",
      "Epoch 81/100\n",
      "54/54 [==============================] - 0s 4ms/step - loss: 0.1417 - accuracy: 0.9371 - val_loss: 0.1772 - val_accuracy: 0.9272\n",
      "Epoch 82/100\n",
      "54/54 [==============================] - 0s 4ms/step - loss: 0.1291 - accuracy: 0.9400 - val_loss: 0.1808 - val_accuracy: 0.9272\n",
      "Epoch 83/100\n",
      "54/54 [==============================] - 0s 4ms/step - loss: 0.1322 - accuracy: 0.9441 - val_loss: 0.1814 - val_accuracy: 0.9249\n",
      "Epoch 84/100\n",
      "54/54 [==============================] - 0s 4ms/step - loss: 0.1374 - accuracy: 0.9371 - val_loss: 0.1907 - val_accuracy: 0.9272\n",
      "Epoch 85/100\n",
      "54/54 [==============================] - 0s 4ms/step - loss: 0.1277 - accuracy: 0.9453 - val_loss: 0.1890 - val_accuracy: 0.9249\n",
      "Epoch 86/100\n",
      "54/54 [==============================] - 0s 4ms/step - loss: 0.1502 - accuracy: 0.9388 - val_loss: 0.1924 - val_accuracy: 0.9272\n",
      "Epoch 87/100\n",
      "54/54 [==============================] - 0s 4ms/step - loss: 0.1348 - accuracy: 0.9412 - val_loss: 0.1841 - val_accuracy: 0.9249\n",
      "Epoch 88/100\n",
      "54/54 [==============================] - 0s 3ms/step - loss: 0.1393 - accuracy: 0.9388 - val_loss: 0.1846 - val_accuracy: 0.9249\n",
      "Epoch 89/100\n",
      "54/54 [==============================] - 0s 4ms/step - loss: 0.1447 - accuracy: 0.9312 - val_loss: 0.1878 - val_accuracy: 0.9178\n",
      "Epoch 90/100\n",
      "54/54 [==============================] - 0s 3ms/step - loss: 0.1393 - accuracy: 0.9347 - val_loss: 0.1887 - val_accuracy: 0.9202\n",
      "Epoch 91/100\n",
      "54/54 [==============================] - 0s 4ms/step - loss: 0.1260 - accuracy: 0.9424 - val_loss: 0.1871 - val_accuracy: 0.9272\n",
      "Epoch 92/100\n",
      "54/54 [==============================] - 0s 4ms/step - loss: 0.1368 - accuracy: 0.9424 - val_loss: 0.1712 - val_accuracy: 0.9296\n",
      "Epoch 93/100\n",
      "54/54 [==============================] - 0s 4ms/step - loss: 0.1397 - accuracy: 0.9382 - val_loss: 0.1745 - val_accuracy: 0.9296\n",
      "Epoch 94/100\n",
      "54/54 [==============================] - 0s 3ms/step - loss: 0.1449 - accuracy: 0.9388 - val_loss: 0.1754 - val_accuracy: 0.9319\n",
      "Epoch 95/100\n",
      "54/54 [==============================] - 0s 4ms/step - loss: 0.1391 - accuracy: 0.9329 - val_loss: 0.1780 - val_accuracy: 0.9319\n",
      "Epoch 96/100\n",
      "54/54 [==============================] - 0s 4ms/step - loss: 0.1438 - accuracy: 0.9424 - val_loss: 0.1797 - val_accuracy: 0.9343\n",
      "Epoch 97/100\n",
      "54/54 [==============================] - 0s 4ms/step - loss: 0.1444 - accuracy: 0.9376 - val_loss: 0.1830 - val_accuracy: 0.9296\n",
      "Epoch 98/100\n",
      "54/54 [==============================] - 0s 3ms/step - loss: 0.1268 - accuracy: 0.9429 - val_loss: 0.1813 - val_accuracy: 0.9296\n",
      "Epoch 99/100\n",
      "54/54 [==============================] - 0s 3ms/step - loss: 0.1399 - accuracy: 0.9424 - val_loss: 0.1867 - val_accuracy: 0.9249\n",
      "Epoch 100/100\n",
      "54/54 [==============================] - 0s 3ms/step - loss: 0.1374 - accuracy: 0.9418 - val_loss: 0.1839 - val_accuracy: 0.9296\n"
     ]
    }
   ],
   "source": [
    "historyETC = modelETC.fit(X_train_ETC, y_train, epochs = 100, validation_data=(X_test_ETC, y_test), verbose = 1)"
   ]
  },
  {
   "cell_type": "code",
   "execution_count": 82,
   "metadata": {
    "colab": {
     "base_uri": "https://localhost:8080/",
     "height": 573
    },
    "colab_type": "code",
    "id": "7iNkL0Nrh0aG",
    "outputId": "931f60de-1570-4241-baf4-7fbe1f811329"
   },
   "outputs": [
    {
     "data": {
      "image/png": "[encoded data removed]",
      "text/plain": [
       "<Figure size 432x288 with 1 Axes>"
      ]
     },
     "metadata": {
      "needs_background": "light",
      "tags": []
     },
     "output_type": "display_data"
    },
    {
     "data": {
      "image/png": "[encoded data removed]",
      "text/plain": [
       "<Figure size 432x288 with 1 Axes>"
      ]
     },
     "metadata": {
      "needs_background": "light",
      "tags": []
     },
     "output_type": "display_data"
    }
   ],
   "source": [
    "plotLC(historyETC, 100)"
   ]
  },
  {
   "cell_type": "code",
   "execution_count": 83,
   "metadata": {
    "colab": {
     "base_uri": "https://localhost:8080/",
     "height": 187
    },
    "colab_type": "code",
    "id": "PVtSVZ_ulTZ1",
    "outputId": "6376579d-3547-4feb-8885-5b90e82bddb3"
   },
   "outputs": [
    {
     "name": "stdout",
     "output_type": "stream",
     "text": [
      "Convolutional Neural Network\n",
      "\n",
      "[[315  11]\n",
      " [ 19  81]]\n",
      "\n",
      "Accuracy Score:    0.9295774647887324\n",
      "Precision Score:   0.8804347826086957\n",
      "Recall Score:      0.81\n",
      "Kappa Score:       0.7983972741039879\n",
      "F1 Score:          0.84375\n"
     ]
    }
   ],
   "source": [
    "CNNMetrics(modelETC, X_test_ETC, y_test)"
   ]
  }
 ],
 "metadata": {
  "colab": {
   "collapsed_sections": [],
   "name": "CTG Classification.ipynb",
   "provenance": []
  },
  "kernelspec": {
   "display_name": "Python 3",
   "language": "python",
   "name": "python3"
  },
  "language_info": {
   "codemirror_mode": {
    "name": "ipython",
    "version": 3
   },
   "file_extension": ".py",
   "mimetype": "text/x-python",
   "name": "python",
   "nbconvert_exporter": "python",
   "pygments_lexer": "ipython3",
   "version": "3.7.6"
  }
 },
 "nbformat": 4,
 "nbformat_minor": 0
}
