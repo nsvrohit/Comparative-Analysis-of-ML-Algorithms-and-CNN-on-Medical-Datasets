{
 "cells": [
  {
   "cell_type": "markdown",
   "metadata": {
    "colab_type": "text",
    "id": "CuYcUuYZLwIw"
   },
   "source": [
    "Importing Necessary Packages"
   ]
  },
  {
   "cell_type": "code",
   "execution_count": 1,
   "metadata": {
    "colab": {
     "base_uri": "https://localhost:8080/",
     "height": 71
    },
    "colab_type": "code",
    "id": "5URzRNXBKsD6",
    "outputId": "7b3eb72d-37f2-467b-a8c8-d0e055fcb847"
   },
   "outputs": [
    {
     "name": "stderr",
     "output_type": "stream",
     "text": [
      "/usr/local/lib/python3.6/dist-packages/statsmodels/tools/_testing.py:19: FutureWarning: pandas.util.testing is deprecated. Use the functions in the public API at pandas.testing instead.\n",
      "  import pandas.util.testing as tm\n"
     ]
    }
   ],
   "source": [
    "# Importing Support Libraries\n",
    "import numpy as np\n",
    "import pandas as pd\n",
    "import seaborn as sns\n",
    "import matplotlib.pyplot as plt\n",
    "%matplotlib inline"
   ]
  },
  {
   "cell_type": "code",
   "execution_count": 0,
   "metadata": {
    "colab": {},
    "colab_type": "code",
    "id": "1Fed8bdVKsEN"
   },
   "outputs": [],
   "source": [
    "# Importing Preprocessing\n",
    "from sklearn import preprocessing\n",
    "LabelEncoder = preprocessing.LabelEncoder()\n",
    "from sklearn.preprocessing import StandardScaler"
   ]
  },
  {
   "cell_type": "code",
   "execution_count": 0,
   "metadata": {
    "colab": {},
    "colab_type": "code",
    "id": "e_zIcWv3KsEU"
   },
   "outputs": [],
   "source": [
    "# Importing Train-Test Split\n",
    "from sklearn.model_selection import train_test_split"
   ]
  },
  {
   "cell_type": "code",
   "execution_count": 0,
   "metadata": {
    "colab": {},
    "colab_type": "code",
    "id": "U-v2ElL5KsEb"
   },
   "outputs": [],
   "source": [
    "# Importing Metrics\n",
    "from sklearn.metrics import confusion_matrix\n",
    "from sklearn.metrics import accuracy_score\n",
    "from sklearn.metrics import precision_score\n",
    "from sklearn.metrics import recall_score\n",
    "\n",
    "from sklearn.metrics import cohen_kappa_score\n",
    "from sklearn.metrics import f1_score"
   ]
  },
  {
   "cell_type": "code",
   "execution_count": 0,
   "metadata": {
    "colab": {},
    "colab_type": "code",
    "id": "f6WsIgOZKsEi"
   },
   "outputs": [],
   "source": [
    "# Importing Feature Selectors\n",
    "from sklearn.feature_selection import RFE\n",
    "from sklearn.feature_selection import SelectFromModel\n",
    "from sklearn.ensemble import RandomForestClassifier\n",
    "from sklearn.ensemble import ExtraTreesClassifier\n",
    "from sklearn.linear_model import LogisticRegression"
   ]
  },
  {
   "cell_type": "code",
   "execution_count": 0,
   "metadata": {
    "colab": {},
    "colab_type": "code",
    "id": "8O1MeocNKsEo"
   },
   "outputs": [],
   "source": [
    "# Importing Classifiers\n",
    "from sklearn.linear_model import Perceptron\n",
    "from sklearn.svm import SVC\n",
    "from sklearn.neighbors import KNeighborsClassifier\n",
    "from sklearn.naive_bayes import GaussianNB\n",
    "from sklearn.tree import DecisionTreeClassifier"
   ]
  },
  {
   "cell_type": "code",
   "execution_count": 0,
   "metadata": {
    "colab": {},
    "colab_type": "code",
    "id": "GgaflTo5OPts"
   },
   "outputs": [],
   "source": [
    "# Importing Tensorflow\n",
    "import tensorflow as tf\n",
    "from tensorflow import keras\n",
    "from tensorflow.keras import Sequential\n",
    "from tensorflow.keras.layers import Flatten, Dense, BatchNormalization, Dropout\n",
    "from tensorflow.keras.layers import Conv1D, MaxPool1D\n",
    "from tensorflow.keras.optimizers import Adam"
   ]
  },
  {
   "cell_type": "markdown",
   "metadata": {
    "colab_type": "text",
    "id": "HfeyRDr3L9wD"
   },
   "source": [
    "Defining Classification Functions"
   ]
  },
  {
   "cell_type": "code",
   "execution_count": 0,
   "metadata": {
    "colab": {},
    "colab_type": "code",
    "id": "M1PI5T8yKsEu"
   },
   "outputs": [],
   "source": [
    "# Perceptron\n",
    "def runPT(X_train, X_test, y_train, y_test):\n",
    "    PT = Perceptron(tol=1e-3, random_state=0)\n",
    "    PT.fit(X_train, y_train)\n",
    "    y_predict = PT.predict(X_test)\n",
    "    print(\"Perceptron\\n\")\n",
    "    print(confusion_matrix(y_test, y_predict))\n",
    "    print()\n",
    "    print(\"Accuracy Score:   \", accuracy_score(y_test, y_predict))\n",
    "    print(\"Precision Score:  \", precision_score(y_test, y_predict))\n",
    "    print(\"Recall Score:     \", recall_score(y_test, y_predict))\n",
    "    print(\"Kappa Score:      \", cohen_kappa_score(y_test, y_predict))\n",
    "    print(\"F1 Score:         \", f1_score(y_test, y_predict))\n",
    "    \n",
    "# Support Vector Machine - Classifier (SVC)\n",
    "def runSVC(X_train, X_test, y_train, y_test):\n",
    "    SVM_C = SVC()\n",
    "    SVM_C.fit(X_train, y_train)\n",
    "    y_predict = SVM_C.predict(X_test)\n",
    "    print(\"Support Vector Machine - Classifier (SVC)\\n\")\n",
    "    print(confusion_matrix(y_test, y_predict))\n",
    "    print()\n",
    "    print(\"Accuracy Score:   \", accuracy_score(y_test, y_predict))\n",
    "    print(\"Precision Score:  \", precision_score(y_test, y_predict))\n",
    "    print(\"Recall Score:     \", recall_score(y_test, y_predict))\n",
    "    print(\"Kappa Score:      \", cohen_kappa_score(y_test, y_predict))\n",
    "    print(\"F1 Score:         \", f1_score(y_test, y_predict))\n",
    "    \n",
    "# K-Nearest Neighbors Classifier\n",
    "def runKNN(X_train, X_test, y_train, y_test):\n",
    "    KNN = KNeighborsClassifier(n_neighbors=5)\n",
    "    KNN.fit(X_train, y_train)\n",
    "    y_predict = KNN.predict(X_test)\n",
    "    print(\"K-Nearest Neighbors Classifier\\n\")\n",
    "    print(confusion_matrix(y_test, y_predict))\n",
    "    print()\n",
    "    print(\"Accuracy Score:   \", accuracy_score(y_test, y_predict))\n",
    "    print(\"Precision Score:  \", precision_score(y_test, y_predict))\n",
    "    print(\"Recall Score:     \", recall_score(y_test, y_predict))\n",
    "    print(\"Kappa Score:      \", cohen_kappa_score(y_test, y_predict))\n",
    "    print(\"F1 Score:         \", f1_score(y_test, y_predict))\n",
    "    \n",
    "# Gaussian Naive Bayes \n",
    "def runGNB(X_train, X_test, y_train, y_test):\n",
    "    GNB = GaussianNB()\n",
    "    GNB.fit(X_train, y_train)\n",
    "    y_predict = GNB.predict(X_test)\n",
    "    print(\"Gaussian Naive Bayes\\n\")\n",
    "    print(confusion_matrix(y_test, y_predict))\n",
    "    print()\n",
    "    print(\"Accuracy Score:   \", accuracy_score(y_test, y_predict))\n",
    "    print(\"Precision Score:  \", precision_score(y_test, y_predict))\n",
    "    print(\"Recall Score:     \", recall_score(y_test, y_predict))\n",
    "    print(\"Kappa Score:      \", cohen_kappa_score(y_test, y_predict))\n",
    "    print(\"F1 Score:         \", f1_score(y_test, y_predict))\n",
    "    \n",
    "# Decision Tree Classifier\n",
    "def runDTC(X_train, X_test, y_train, y_test):\n",
    "    DTC = DecisionTreeClassifier()\n",
    "    DTC.fit(X_train, y_train)\n",
    "    y_predict = DTC.predict(X_test)\n",
    "    print(\"Decision Tree Classifier\\n\")\n",
    "    print(confusion_matrix(y_test, y_predict))\n",
    "    print()\n",
    "    print(\"Accuracy Score:   \", accuracy_score(y_test, y_predict))\n",
    "    print(\"Precision Score:  \", precision_score(y_test, y_predict))\n",
    "    print(\"Recall Score:     \", recall_score(y_test, y_predict))\n",
    "    print(\"Kappa Score:      \", cohen_kappa_score(y_test, y_predict))\n",
    "    print(\"F1 Score:         \", f1_score(y_test, y_predict))"
   ]
  },
  {
   "cell_type": "markdown",
   "metadata": {
    "colab_type": "text",
    "id": "NdKwdPxr_zx3"
   },
   "source": [
    "Defining CNN Model Function"
   ]
  },
  {
   "cell_type": "code",
   "execution_count": 0,
   "metadata": {
    "colab": {},
    "colab_type": "code",
    "id": "VFlRaX25_yI_"
   },
   "outputs": [],
   "source": [
    "def CNN(features, epochs):\n",
    "  epochs = epochs\n",
    "  model = Sequential()\n",
    "\n",
    "  model.add(Conv1D(filters=32, kernel_size=2, activation='tanh', input_shape=(features,1)))\n",
    "  model.add(BatchNormalization())\n",
    "  model.add(Dropout(0.2))\n",
    "\n",
    "  model.add(Conv1D(filters=64, kernel_size=2, activation='tanh'))\n",
    "  model.add(BatchNormalization())\n",
    "  model.add(Dropout(0.2))\n",
    "\n",
    "  model.add(Flatten())\n",
    "  model.add(Dense(64, activation='tanh'))\n",
    "  model.add(Dropout(0.5))\n",
    "\n",
    "  model.add(Dense(1, activation='sigmoid'))\n",
    "  model.compile(optimizer=Adam(), loss='binary_crossentropy', metrics=['accuracy'])\n",
    "\n",
    "  return model"
   ]
  },
  {
   "cell_type": "markdown",
   "metadata": {
    "colab_type": "text",
    "id": "LRfGOQ9WVEXR"
   },
   "source": [
    "CNN Metrics Function"
   ]
  },
  {
   "cell_type": "code",
   "execution_count": 0,
   "metadata": {
    "colab": {},
    "colab_type": "code",
    "id": "FPUaEzfCVHLr"
   },
   "outputs": [],
   "source": [
    "def CNNMetrics(model, X_test, y_test):\n",
    "    y_predict = model.predict_classes(X_test)\n",
    "    print(\"Convolutional Neural Network\\n\")\n",
    "    print(confusion_matrix(y_test, y_predict))\n",
    "    print()\n",
    "    print(\"Accuracy Score:   \", accuracy_score(y_test, y_predict))\n",
    "    print(\"Precision Score:  \", precision_score(y_test, y_predict))\n",
    "    print(\"Recall Score:     \", recall_score(y_test, y_predict))\n",
    "    print(\"Kappa Score:      \", cohen_kappa_score(y_test, y_predict))\n",
    "    print(\"F1 Score:         \", f1_score(y_test, y_predict))  "
   ]
  },
  {
   "cell_type": "markdown",
   "metadata": {
    "colab_type": "text",
    "id": "bP6SiKVQA3Pj"
   },
   "source": [
    "Plot Learning Curve Function"
   ]
  },
  {
   "cell_type": "code",
   "execution_count": 0,
   "metadata": {
    "colab": {},
    "colab_type": "code",
    "id": "RiolDvU8A99Y"
   },
   "outputs": [],
   "source": [
    "def plotLC(history, epoch):\n",
    "  epoch_range = range(1, epoch+1)\n",
    "  plt.plot(epoch_range, history.history['accuracy'])\n",
    "  plt.plot(epoch_range, history.history['val_accuracy'])\n",
    "  plt.title(\"Model Accuracy\")\n",
    "  plt.xlabel(\"Epochs\")\n",
    "  plt.ylabel(\"Accuracy\")\n",
    "  plt.legend(['Train', 'Validation'], loc='upper left')\n",
    "  plt.show()\n",
    "\n",
    "  plt.plot(epoch_range, history.history['loss'])\n",
    "  plt.plot(epoch_range, history.history['val_loss'])\n",
    "  plt.title(\"Model Loss\")\n",
    "  plt.xlabel(\"Epochs\")\n",
    "  plt.ylabel(\"Loss\")\n",
    "  plt.legend(['Train', 'Validation'], loc='upper left')\n",
    "  plt.show()"
   ]
  },
  {
   "cell_type": "markdown",
   "metadata": {
    "colab_type": "text",
    "id": "Ip9efbP5MDPn"
   },
   "source": [
    "Dataset Preprocessing"
   ]
  },
  {
   "cell_type": "code",
   "execution_count": 0,
   "metadata": {
    "colab": {},
    "colab_type": "code",
    "id": "CX3NeB1_KsEz"
   },
   "outputs": [],
   "source": [
    "# Loading the Dataset\n",
    "dataURL = 'https://archive.ics.uci.edu/ml/machine-learning-databases/breast-cancer-wisconsin/wdbc.data'\n",
    "columnNames = ['ID', 'Diagnosis', 'MeanRadius', 'MeanTexture', 'MeanPerimeter', 'MeanArea', 'MeanSmoothness', \n",
    "               'MeanCompactness', 'MeanConcavity', 'MeanConcavePoints', 'MeanSymmetry', 'MeanFractalDimension', \n",
    "               'RadiusSE', 'TextureSE', 'PerimeterSE', 'AreaSE', 'SmoothnessSE', 'CompactnessSE', 'ConcavitySE', \n",
    "               'ConcavePointsSE', 'SymmetrySE', 'FractalDimensionSE', 'WorstRadius', 'WorstTexture', \n",
    "               'WorstPerimeter', 'WorstArea', 'WorstSmoothness', 'WorstCompactness', 'WorstConcavity', \n",
    "               'WorstConcavePoints', 'WorstSymmetry', 'WorstFractalDimension']\n",
    "df = pd.read_csv(dataURL, header=None, names=columnNames)"
   ]
  },
  {
   "cell_type": "code",
   "execution_count": 13,
   "metadata": {
    "colab": {
     "base_uri": "https://localhost:8080/",
     "height": 439
    },
    "colab_type": "code",
    "id": "DK9ya8N_KsE2",
    "outputId": "b5a1a0a7-e67d-452c-900a-ec0e547c67e4"
   },
   "outputs": [
    {
     "data": {
      "text/html": [
       "<div>\n",
       "<style scoped>\n",
       "    .dataframe tbody tr th:only-of-type {\n",
       "        vertical-align: middle;\n",
       "    }\n",
       "\n",
       "    .dataframe tbody tr th {\n",
       "        vertical-align: top;\n",
       "    }\n",
       "\n",
       "    .dataframe thead th {\n",
       "        text-align: right;\n",
       "    }\n",
       "</style>\n",
       "<table border=\"1\" class=\"dataframe\">\n",
       "  <thead>\n",
       "    <tr style=\"text-align: right;\">\n",
       "      <th></th>\n",
       "      <th>ID</th>\n",
       "      <th>Diagnosis</th>\n",
       "      <th>MeanRadius</th>\n",
       "      <th>MeanTexture</th>\n",
       "      <th>MeanPerimeter</th>\n",
       "      <th>MeanArea</th>\n",
       "      <th>MeanSmoothness</th>\n",
       "      <th>MeanCompactness</th>\n",
       "      <th>MeanConcavity</th>\n",
       "      <th>MeanConcavePoints</th>\n",
       "      <th>MeanSymmetry</th>\n",
       "      <th>MeanFractalDimension</th>\n",
       "      <th>RadiusSE</th>\n",
       "      <th>TextureSE</th>\n",
       "      <th>PerimeterSE</th>\n",
       "      <th>AreaSE</th>\n",
       "      <th>SmoothnessSE</th>\n",
       "      <th>CompactnessSE</th>\n",
       "      <th>ConcavitySE</th>\n",
       "      <th>ConcavePointsSE</th>\n",
       "      <th>SymmetrySE</th>\n",
       "      <th>FractalDimensionSE</th>\n",
       "      <th>WorstRadius</th>\n",
       "      <th>WorstTexture</th>\n",
       "      <th>WorstPerimeter</th>\n",
       "      <th>WorstArea</th>\n",
       "      <th>WorstSmoothness</th>\n",
       "      <th>WorstCompactness</th>\n",
       "      <th>WorstConcavity</th>\n",
       "      <th>WorstConcavePoints</th>\n",
       "      <th>WorstSymmetry</th>\n",
       "      <th>WorstFractalDimension</th>\n",
       "    </tr>\n",
       "  </thead>\n",
       "  <tbody>\n",
       "    <tr>\n",
       "      <th>0</th>\n",
       "      <td>842302</td>\n",
       "      <td>M</td>\n",
       "      <td>17.99</td>\n",
       "      <td>10.38</td>\n",
       "      <td>122.80</td>\n",
       "      <td>1001.0</td>\n",
       "      <td>0.11840</td>\n",
       "      <td>0.27760</td>\n",
       "      <td>0.30010</td>\n",
       "      <td>0.14710</td>\n",
       "      <td>0.2419</td>\n",
       "      <td>0.07871</td>\n",
       "      <td>1.0950</td>\n",
       "      <td>0.9053</td>\n",
       "      <td>8.589</td>\n",
       "      <td>153.40</td>\n",
       "      <td>0.006399</td>\n",
       "      <td>0.04904</td>\n",
       "      <td>0.05373</td>\n",
       "      <td>0.01587</td>\n",
       "      <td>0.03003</td>\n",
       "      <td>0.006193</td>\n",
       "      <td>25.380</td>\n",
       "      <td>17.33</td>\n",
       "      <td>184.60</td>\n",
       "      <td>2019.0</td>\n",
       "      <td>0.16220</td>\n",
       "      <td>0.66560</td>\n",
       "      <td>0.7119</td>\n",
       "      <td>0.2654</td>\n",
       "      <td>0.4601</td>\n",
       "      <td>0.11890</td>\n",
       "    </tr>\n",
       "    <tr>\n",
       "      <th>1</th>\n",
       "      <td>842517</td>\n",
       "      <td>M</td>\n",
       "      <td>20.57</td>\n",
       "      <td>17.77</td>\n",
       "      <td>132.90</td>\n",
       "      <td>1326.0</td>\n",
       "      <td>0.08474</td>\n",
       "      <td>0.07864</td>\n",
       "      <td>0.08690</td>\n",
       "      <td>0.07017</td>\n",
       "      <td>0.1812</td>\n",
       "      <td>0.05667</td>\n",
       "      <td>0.5435</td>\n",
       "      <td>0.7339</td>\n",
       "      <td>3.398</td>\n",
       "      <td>74.08</td>\n",
       "      <td>0.005225</td>\n",
       "      <td>0.01308</td>\n",
       "      <td>0.01860</td>\n",
       "      <td>0.01340</td>\n",
       "      <td>0.01389</td>\n",
       "      <td>0.003532</td>\n",
       "      <td>24.990</td>\n",
       "      <td>23.41</td>\n",
       "      <td>158.80</td>\n",
       "      <td>1956.0</td>\n",
       "      <td>0.12380</td>\n",
       "      <td>0.18660</td>\n",
       "      <td>0.2416</td>\n",
       "      <td>0.1860</td>\n",
       "      <td>0.2750</td>\n",
       "      <td>0.08902</td>\n",
       "    </tr>\n",
       "    <tr>\n",
       "      <th>2</th>\n",
       "      <td>84300903</td>\n",
       "      <td>M</td>\n",
       "      <td>19.69</td>\n",
       "      <td>21.25</td>\n",
       "      <td>130.00</td>\n",
       "      <td>1203.0</td>\n",
       "      <td>0.10960</td>\n",
       "      <td>0.15990</td>\n",
       "      <td>0.19740</td>\n",
       "      <td>0.12790</td>\n",
       "      <td>0.2069</td>\n",
       "      <td>0.05999</td>\n",
       "      <td>0.7456</td>\n",
       "      <td>0.7869</td>\n",
       "      <td>4.585</td>\n",
       "      <td>94.03</td>\n",
       "      <td>0.006150</td>\n",
       "      <td>0.04006</td>\n",
       "      <td>0.03832</td>\n",
       "      <td>0.02058</td>\n",
       "      <td>0.02250</td>\n",
       "      <td>0.004571</td>\n",
       "      <td>23.570</td>\n",
       "      <td>25.53</td>\n",
       "      <td>152.50</td>\n",
       "      <td>1709.0</td>\n",
       "      <td>0.14440</td>\n",
       "      <td>0.42450</td>\n",
       "      <td>0.4504</td>\n",
       "      <td>0.2430</td>\n",
       "      <td>0.3613</td>\n",
       "      <td>0.08758</td>\n",
       "    </tr>\n",
       "    <tr>\n",
       "      <th>3</th>\n",
       "      <td>84348301</td>\n",
       "      <td>M</td>\n",
       "      <td>11.42</td>\n",
       "      <td>20.38</td>\n",
       "      <td>77.58</td>\n",
       "      <td>386.1</td>\n",
       "      <td>0.14250</td>\n",
       "      <td>0.28390</td>\n",
       "      <td>0.24140</td>\n",
       "      <td>0.10520</td>\n",
       "      <td>0.2597</td>\n",
       "      <td>0.09744</td>\n",
       "      <td>0.4956</td>\n",
       "      <td>1.1560</td>\n",
       "      <td>3.445</td>\n",
       "      <td>27.23</td>\n",
       "      <td>0.009110</td>\n",
       "      <td>0.07458</td>\n",
       "      <td>0.05661</td>\n",
       "      <td>0.01867</td>\n",
       "      <td>0.05963</td>\n",
       "      <td>0.009208</td>\n",
       "      <td>14.910</td>\n",
       "      <td>26.50</td>\n",
       "      <td>98.87</td>\n",
       "      <td>567.7</td>\n",
       "      <td>0.20980</td>\n",
       "      <td>0.86630</td>\n",
       "      <td>0.6869</td>\n",
       "      <td>0.2575</td>\n",
       "      <td>0.6638</td>\n",
       "      <td>0.17300</td>\n",
       "    </tr>\n",
       "    <tr>\n",
       "      <th>4</th>\n",
       "      <td>84358402</td>\n",
       "      <td>M</td>\n",
       "      <td>20.29</td>\n",
       "      <td>14.34</td>\n",
       "      <td>135.10</td>\n",
       "      <td>1297.0</td>\n",
       "      <td>0.10030</td>\n",
       "      <td>0.13280</td>\n",
       "      <td>0.19800</td>\n",
       "      <td>0.10430</td>\n",
       "      <td>0.1809</td>\n",
       "      <td>0.05883</td>\n",
       "      <td>0.7572</td>\n",
       "      <td>0.7813</td>\n",
       "      <td>5.438</td>\n",
       "      <td>94.44</td>\n",
       "      <td>0.011490</td>\n",
       "      <td>0.02461</td>\n",
       "      <td>0.05688</td>\n",
       "      <td>0.01885</td>\n",
       "      <td>0.01756</td>\n",
       "      <td>0.005115</td>\n",
       "      <td>22.540</td>\n",
       "      <td>16.67</td>\n",
       "      <td>152.20</td>\n",
       "      <td>1575.0</td>\n",
       "      <td>0.13740</td>\n",
       "      <td>0.20500</td>\n",
       "      <td>0.4000</td>\n",
       "      <td>0.1625</td>\n",
       "      <td>0.2364</td>\n",
       "      <td>0.07678</td>\n",
       "    </tr>\n",
       "    <tr>\n",
       "      <th>...</th>\n",
       "      <td>...</td>\n",
       "      <td>...</td>\n",
       "      <td>...</td>\n",
       "      <td>...</td>\n",
       "      <td>...</td>\n",
       "      <td>...</td>\n",
       "      <td>...</td>\n",
       "      <td>...</td>\n",
       "      <td>...</td>\n",
       "      <td>...</td>\n",
       "      <td>...</td>\n",
       "      <td>...</td>\n",
       "      <td>...</td>\n",
       "      <td>...</td>\n",
       "      <td>...</td>\n",
       "      <td>...</td>\n",
       "      <td>...</td>\n",
       "      <td>...</td>\n",
       "      <td>...</td>\n",
       "      <td>...</td>\n",
       "      <td>...</td>\n",
       "      <td>...</td>\n",
       "      <td>...</td>\n",
       "      <td>...</td>\n",
       "      <td>...</td>\n",
       "      <td>...</td>\n",
       "      <td>...</td>\n",
       "      <td>...</td>\n",
       "      <td>...</td>\n",
       "      <td>...</td>\n",
       "      <td>...</td>\n",
       "      <td>...</td>\n",
       "    </tr>\n",
       "    <tr>\n",
       "      <th>564</th>\n",
       "      <td>926424</td>\n",
       "      <td>M</td>\n",
       "      <td>21.56</td>\n",
       "      <td>22.39</td>\n",
       "      <td>142.00</td>\n",
       "      <td>1479.0</td>\n",
       "      <td>0.11100</td>\n",
       "      <td>0.11590</td>\n",
       "      <td>0.24390</td>\n",
       "      <td>0.13890</td>\n",
       "      <td>0.1726</td>\n",
       "      <td>0.05623</td>\n",
       "      <td>1.1760</td>\n",
       "      <td>1.2560</td>\n",
       "      <td>7.673</td>\n",
       "      <td>158.70</td>\n",
       "      <td>0.010300</td>\n",
       "      <td>0.02891</td>\n",
       "      <td>0.05198</td>\n",
       "      <td>0.02454</td>\n",
       "      <td>0.01114</td>\n",
       "      <td>0.004239</td>\n",
       "      <td>25.450</td>\n",
       "      <td>26.40</td>\n",
       "      <td>166.10</td>\n",
       "      <td>2027.0</td>\n",
       "      <td>0.14100</td>\n",
       "      <td>0.21130</td>\n",
       "      <td>0.4107</td>\n",
       "      <td>0.2216</td>\n",
       "      <td>0.2060</td>\n",
       "      <td>0.07115</td>\n",
       "    </tr>\n",
       "    <tr>\n",
       "      <th>565</th>\n",
       "      <td>926682</td>\n",
       "      <td>M</td>\n",
       "      <td>20.13</td>\n",
       "      <td>28.25</td>\n",
       "      <td>131.20</td>\n",
       "      <td>1261.0</td>\n",
       "      <td>0.09780</td>\n",
       "      <td>0.10340</td>\n",
       "      <td>0.14400</td>\n",
       "      <td>0.09791</td>\n",
       "      <td>0.1752</td>\n",
       "      <td>0.05533</td>\n",
       "      <td>0.7655</td>\n",
       "      <td>2.4630</td>\n",
       "      <td>5.203</td>\n",
       "      <td>99.04</td>\n",
       "      <td>0.005769</td>\n",
       "      <td>0.02423</td>\n",
       "      <td>0.03950</td>\n",
       "      <td>0.01678</td>\n",
       "      <td>0.01898</td>\n",
       "      <td>0.002498</td>\n",
       "      <td>23.690</td>\n",
       "      <td>38.25</td>\n",
       "      <td>155.00</td>\n",
       "      <td>1731.0</td>\n",
       "      <td>0.11660</td>\n",
       "      <td>0.19220</td>\n",
       "      <td>0.3215</td>\n",
       "      <td>0.1628</td>\n",
       "      <td>0.2572</td>\n",
       "      <td>0.06637</td>\n",
       "    </tr>\n",
       "    <tr>\n",
       "      <th>566</th>\n",
       "      <td>926954</td>\n",
       "      <td>M</td>\n",
       "      <td>16.60</td>\n",
       "      <td>28.08</td>\n",
       "      <td>108.30</td>\n",
       "      <td>858.1</td>\n",
       "      <td>0.08455</td>\n",
       "      <td>0.10230</td>\n",
       "      <td>0.09251</td>\n",
       "      <td>0.05302</td>\n",
       "      <td>0.1590</td>\n",
       "      <td>0.05648</td>\n",
       "      <td>0.4564</td>\n",
       "      <td>1.0750</td>\n",
       "      <td>3.425</td>\n",
       "      <td>48.55</td>\n",
       "      <td>0.005903</td>\n",
       "      <td>0.03731</td>\n",
       "      <td>0.04730</td>\n",
       "      <td>0.01557</td>\n",
       "      <td>0.01318</td>\n",
       "      <td>0.003892</td>\n",
       "      <td>18.980</td>\n",
       "      <td>34.12</td>\n",
       "      <td>126.70</td>\n",
       "      <td>1124.0</td>\n",
       "      <td>0.11390</td>\n",
       "      <td>0.30940</td>\n",
       "      <td>0.3403</td>\n",
       "      <td>0.1418</td>\n",
       "      <td>0.2218</td>\n",
       "      <td>0.07820</td>\n",
       "    </tr>\n",
       "    <tr>\n",
       "      <th>567</th>\n",
       "      <td>927241</td>\n",
       "      <td>M</td>\n",
       "      <td>20.60</td>\n",
       "      <td>29.33</td>\n",
       "      <td>140.10</td>\n",
       "      <td>1265.0</td>\n",
       "      <td>0.11780</td>\n",
       "      <td>0.27700</td>\n",
       "      <td>0.35140</td>\n",
       "      <td>0.15200</td>\n",
       "      <td>0.2397</td>\n",
       "      <td>0.07016</td>\n",
       "      <td>0.7260</td>\n",
       "      <td>1.5950</td>\n",
       "      <td>5.772</td>\n",
       "      <td>86.22</td>\n",
       "      <td>0.006522</td>\n",
       "      <td>0.06158</td>\n",
       "      <td>0.07117</td>\n",
       "      <td>0.01664</td>\n",
       "      <td>0.02324</td>\n",
       "      <td>0.006185</td>\n",
       "      <td>25.740</td>\n",
       "      <td>39.42</td>\n",
       "      <td>184.60</td>\n",
       "      <td>1821.0</td>\n",
       "      <td>0.16500</td>\n",
       "      <td>0.86810</td>\n",
       "      <td>0.9387</td>\n",
       "      <td>0.2650</td>\n",
       "      <td>0.4087</td>\n",
       "      <td>0.12400</td>\n",
       "    </tr>\n",
       "    <tr>\n",
       "      <th>568</th>\n",
       "      <td>92751</td>\n",
       "      <td>B</td>\n",
       "      <td>7.76</td>\n",
       "      <td>24.54</td>\n",
       "      <td>47.92</td>\n",
       "      <td>181.0</td>\n",
       "      <td>0.05263</td>\n",
       "      <td>0.04362</td>\n",
       "      <td>0.00000</td>\n",
       "      <td>0.00000</td>\n",
       "      <td>0.1587</td>\n",
       "      <td>0.05884</td>\n",
       "      <td>0.3857</td>\n",
       "      <td>1.4280</td>\n",
       "      <td>2.548</td>\n",
       "      <td>19.15</td>\n",
       "      <td>0.007189</td>\n",
       "      <td>0.00466</td>\n",
       "      <td>0.00000</td>\n",
       "      <td>0.00000</td>\n",
       "      <td>0.02676</td>\n",
       "      <td>0.002783</td>\n",
       "      <td>9.456</td>\n",
       "      <td>30.37</td>\n",
       "      <td>59.16</td>\n",
       "      <td>268.6</td>\n",
       "      <td>0.08996</td>\n",
       "      <td>0.06444</td>\n",
       "      <td>0.0000</td>\n",
       "      <td>0.0000</td>\n",
       "      <td>0.2871</td>\n",
       "      <td>0.07039</td>\n",
       "    </tr>\n",
       "  </tbody>\n",
       "</table>\n",
       "<p>569 rows × 32 columns</p>\n",
       "</div>"
      ],
      "text/plain": [
       "           ID Diagnosis  ...  WorstSymmetry  WorstFractalDimension\n",
       "0      842302         M  ...         0.4601                0.11890\n",
       "1      842517         M  ...         0.2750                0.08902\n",
       "2    84300903         M  ...         0.3613                0.08758\n",
       "3    84348301         M  ...         0.6638                0.17300\n",
       "4    84358402         M  ...         0.2364                0.07678\n",
       "..        ...       ...  ...            ...                    ...\n",
       "564    926424         M  ...         0.2060                0.07115\n",
       "565    926682         M  ...         0.2572                0.06637\n",
       "566    926954         M  ...         0.2218                0.07820\n",
       "567    927241         M  ...         0.4087                0.12400\n",
       "568     92751         B  ...         0.2871                0.07039\n",
       "\n",
       "[569 rows x 32 columns]"
      ]
     },
     "execution_count": 13,
     "metadata": {
      "tags": []
     },
     "output_type": "execute_result"
    }
   ],
   "source": [
    "df"
   ]
  },
  {
   "cell_type": "code",
   "execution_count": 0,
   "metadata": {
    "colab": {},
    "colab_type": "code",
    "id": "r_WN_kYHKsE7"
   },
   "outputs": [],
   "source": [
    "# Encoding Categorical Data\n",
    "df['Diagnosis'] = LabelEncoder.fit_transform(df['Diagnosis'])"
   ]
  },
  {
   "cell_type": "code",
   "execution_count": 0,
   "metadata": {
    "colab": {},
    "colab_type": "code",
    "id": "H22p1qXcKsE-"
   },
   "outputs": [],
   "source": [
    "# We are dropping the irrelevant attribute 'ID'\n",
    "df = df.drop(['ID'],axis=1)"
   ]
  },
  {
   "cell_type": "code",
   "execution_count": 16,
   "metadata": {
    "colab": {
     "base_uri": "https://localhost:8080/",
     "height": 439
    },
    "colab_type": "code",
    "id": "K6yVfwVmKsFE",
    "outputId": "2a96843a-8d44-442e-dc1b-97d07dbeb058"
   },
   "outputs": [
    {
     "data": {
      "text/html": [
       "<div>\n",
       "<style scoped>\n",
       "    .dataframe tbody tr th:only-of-type {\n",
       "        vertical-align: middle;\n",
       "    }\n",
       "\n",
       "    .dataframe tbody tr th {\n",
       "        vertical-align: top;\n",
       "    }\n",
       "\n",
       "    .dataframe thead th {\n",
       "        text-align: right;\n",
       "    }\n",
       "</style>\n",
       "<table border=\"1\" class=\"dataframe\">\n",
       "  <thead>\n",
       "    <tr style=\"text-align: right;\">\n",
       "      <th></th>\n",
       "      <th>Diagnosis</th>\n",
       "      <th>MeanRadius</th>\n",
       "      <th>MeanTexture</th>\n",
       "      <th>MeanPerimeter</th>\n",
       "      <th>MeanArea</th>\n",
       "      <th>MeanSmoothness</th>\n",
       "      <th>MeanCompactness</th>\n",
       "      <th>MeanConcavity</th>\n",
       "      <th>MeanConcavePoints</th>\n",
       "      <th>MeanSymmetry</th>\n",
       "      <th>MeanFractalDimension</th>\n",
       "      <th>RadiusSE</th>\n",
       "      <th>TextureSE</th>\n",
       "      <th>PerimeterSE</th>\n",
       "      <th>AreaSE</th>\n",
       "      <th>SmoothnessSE</th>\n",
       "      <th>CompactnessSE</th>\n",
       "      <th>ConcavitySE</th>\n",
       "      <th>ConcavePointsSE</th>\n",
       "      <th>SymmetrySE</th>\n",
       "      <th>FractalDimensionSE</th>\n",
       "      <th>WorstRadius</th>\n",
       "      <th>WorstTexture</th>\n",
       "      <th>WorstPerimeter</th>\n",
       "      <th>WorstArea</th>\n",
       "      <th>WorstSmoothness</th>\n",
       "      <th>WorstCompactness</th>\n",
       "      <th>WorstConcavity</th>\n",
       "      <th>WorstConcavePoints</th>\n",
       "      <th>WorstSymmetry</th>\n",
       "      <th>WorstFractalDimension</th>\n",
       "    </tr>\n",
       "  </thead>\n",
       "  <tbody>\n",
       "    <tr>\n",
       "      <th>0</th>\n",
       "      <td>1</td>\n",
       "      <td>17.99</td>\n",
       "      <td>10.38</td>\n",
       "      <td>122.80</td>\n",
       "      <td>1001.0</td>\n",
       "      <td>0.11840</td>\n",
       "      <td>0.27760</td>\n",
       "      <td>0.30010</td>\n",
       "      <td>0.14710</td>\n",
       "      <td>0.2419</td>\n",
       "      <td>0.07871</td>\n",
       "      <td>1.0950</td>\n",
       "      <td>0.9053</td>\n",
       "      <td>8.589</td>\n",
       "      <td>153.40</td>\n",
       "      <td>0.006399</td>\n",
       "      <td>0.04904</td>\n",
       "      <td>0.05373</td>\n",
       "      <td>0.01587</td>\n",
       "      <td>0.03003</td>\n",
       "      <td>0.006193</td>\n",
       "      <td>25.380</td>\n",
       "      <td>17.33</td>\n",
       "      <td>184.60</td>\n",
       "      <td>2019.0</td>\n",
       "      <td>0.16220</td>\n",
       "      <td>0.66560</td>\n",
       "      <td>0.7119</td>\n",
       "      <td>0.2654</td>\n",
       "      <td>0.4601</td>\n",
       "      <td>0.11890</td>\n",
       "    </tr>\n",
       "    <tr>\n",
       "      <th>1</th>\n",
       "      <td>1</td>\n",
       "      <td>20.57</td>\n",
       "      <td>17.77</td>\n",
       "      <td>132.90</td>\n",
       "      <td>1326.0</td>\n",
       "      <td>0.08474</td>\n",
       "      <td>0.07864</td>\n",
       "      <td>0.08690</td>\n",
       "      <td>0.07017</td>\n",
       "      <td>0.1812</td>\n",
       "      <td>0.05667</td>\n",
       "      <td>0.5435</td>\n",
       "      <td>0.7339</td>\n",
       "      <td>3.398</td>\n",
       "      <td>74.08</td>\n",
       "      <td>0.005225</td>\n",
       "      <td>0.01308</td>\n",
       "      <td>0.01860</td>\n",
       "      <td>0.01340</td>\n",
       "      <td>0.01389</td>\n",
       "      <td>0.003532</td>\n",
       "      <td>24.990</td>\n",
       "      <td>23.41</td>\n",
       "      <td>158.80</td>\n",
       "      <td>1956.0</td>\n",
       "      <td>0.12380</td>\n",
       "      <td>0.18660</td>\n",
       "      <td>0.2416</td>\n",
       "      <td>0.1860</td>\n",
       "      <td>0.2750</td>\n",
       "      <td>0.08902</td>\n",
       "    </tr>\n",
       "    <tr>\n",
       "      <th>2</th>\n",
       "      <td>1</td>\n",
       "      <td>19.69</td>\n",
       "      <td>21.25</td>\n",
       "      <td>130.00</td>\n",
       "      <td>1203.0</td>\n",
       "      <td>0.10960</td>\n",
       "      <td>0.15990</td>\n",
       "      <td>0.19740</td>\n",
       "      <td>0.12790</td>\n",
       "      <td>0.2069</td>\n",
       "      <td>0.05999</td>\n",
       "      <td>0.7456</td>\n",
       "      <td>0.7869</td>\n",
       "      <td>4.585</td>\n",
       "      <td>94.03</td>\n",
       "      <td>0.006150</td>\n",
       "      <td>0.04006</td>\n",
       "      <td>0.03832</td>\n",
       "      <td>0.02058</td>\n",
       "      <td>0.02250</td>\n",
       "      <td>0.004571</td>\n",
       "      <td>23.570</td>\n",
       "      <td>25.53</td>\n",
       "      <td>152.50</td>\n",
       "      <td>1709.0</td>\n",
       "      <td>0.14440</td>\n",
       "      <td>0.42450</td>\n",
       "      <td>0.4504</td>\n",
       "      <td>0.2430</td>\n",
       "      <td>0.3613</td>\n",
       "      <td>0.08758</td>\n",
       "    </tr>\n",
       "    <tr>\n",
       "      <th>3</th>\n",
       "      <td>1</td>\n",
       "      <td>11.42</td>\n",
       "      <td>20.38</td>\n",
       "      <td>77.58</td>\n",
       "      <td>386.1</td>\n",
       "      <td>0.14250</td>\n",
       "      <td>0.28390</td>\n",
       "      <td>0.24140</td>\n",
       "      <td>0.10520</td>\n",
       "      <td>0.2597</td>\n",
       "      <td>0.09744</td>\n",
       "      <td>0.4956</td>\n",
       "      <td>1.1560</td>\n",
       "      <td>3.445</td>\n",
       "      <td>27.23</td>\n",
       "      <td>0.009110</td>\n",
       "      <td>0.07458</td>\n",
       "      <td>0.05661</td>\n",
       "      <td>0.01867</td>\n",
       "      <td>0.05963</td>\n",
       "      <td>0.009208</td>\n",
       "      <td>14.910</td>\n",
       "      <td>26.50</td>\n",
       "      <td>98.87</td>\n",
       "      <td>567.7</td>\n",
       "      <td>0.20980</td>\n",
       "      <td>0.86630</td>\n",
       "      <td>0.6869</td>\n",
       "      <td>0.2575</td>\n",
       "      <td>0.6638</td>\n",
       "      <td>0.17300</td>\n",
       "    </tr>\n",
       "    <tr>\n",
       "      <th>4</th>\n",
       "      <td>1</td>\n",
       "      <td>20.29</td>\n",
       "      <td>14.34</td>\n",
       "      <td>135.10</td>\n",
       "      <td>1297.0</td>\n",
       "      <td>0.10030</td>\n",
       "      <td>0.13280</td>\n",
       "      <td>0.19800</td>\n",
       "      <td>0.10430</td>\n",
       "      <td>0.1809</td>\n",
       "      <td>0.05883</td>\n",
       "      <td>0.7572</td>\n",
       "      <td>0.7813</td>\n",
       "      <td>5.438</td>\n",
       "      <td>94.44</td>\n",
       "      <td>0.011490</td>\n",
       "      <td>0.02461</td>\n",
       "      <td>0.05688</td>\n",
       "      <td>0.01885</td>\n",
       "      <td>0.01756</td>\n",
       "      <td>0.005115</td>\n",
       "      <td>22.540</td>\n",
       "      <td>16.67</td>\n",
       "      <td>152.20</td>\n",
       "      <td>1575.0</td>\n",
       "      <td>0.13740</td>\n",
       "      <td>0.20500</td>\n",
       "      <td>0.4000</td>\n",
       "      <td>0.1625</td>\n",
       "      <td>0.2364</td>\n",
       "      <td>0.07678</td>\n",
       "    </tr>\n",
       "    <tr>\n",
       "      <th>...</th>\n",
       "      <td>...</td>\n",
       "      <td>...</td>\n",
       "      <td>...</td>\n",
       "      <td>...</td>\n",
       "      <td>...</td>\n",
       "      <td>...</td>\n",
       "      <td>...</td>\n",
       "      <td>...</td>\n",
       "      <td>...</td>\n",
       "      <td>...</td>\n",
       "      <td>...</td>\n",
       "      <td>...</td>\n",
       "      <td>...</td>\n",
       "      <td>...</td>\n",
       "      <td>...</td>\n",
       "      <td>...</td>\n",
       "      <td>...</td>\n",
       "      <td>...</td>\n",
       "      <td>...</td>\n",
       "      <td>...</td>\n",
       "      <td>...</td>\n",
       "      <td>...</td>\n",
       "      <td>...</td>\n",
       "      <td>...</td>\n",
       "      <td>...</td>\n",
       "      <td>...</td>\n",
       "      <td>...</td>\n",
       "      <td>...</td>\n",
       "      <td>...</td>\n",
       "      <td>...</td>\n",
       "      <td>...</td>\n",
       "    </tr>\n",
       "    <tr>\n",
       "      <th>564</th>\n",
       "      <td>1</td>\n",
       "      <td>21.56</td>\n",
       "      <td>22.39</td>\n",
       "      <td>142.00</td>\n",
       "      <td>1479.0</td>\n",
       "      <td>0.11100</td>\n",
       "      <td>0.11590</td>\n",
       "      <td>0.24390</td>\n",
       "      <td>0.13890</td>\n",
       "      <td>0.1726</td>\n",
       "      <td>0.05623</td>\n",
       "      <td>1.1760</td>\n",
       "      <td>1.2560</td>\n",
       "      <td>7.673</td>\n",
       "      <td>158.70</td>\n",
       "      <td>0.010300</td>\n",
       "      <td>0.02891</td>\n",
       "      <td>0.05198</td>\n",
       "      <td>0.02454</td>\n",
       "      <td>0.01114</td>\n",
       "      <td>0.004239</td>\n",
       "      <td>25.450</td>\n",
       "      <td>26.40</td>\n",
       "      <td>166.10</td>\n",
       "      <td>2027.0</td>\n",
       "      <td>0.14100</td>\n",
       "      <td>0.21130</td>\n",
       "      <td>0.4107</td>\n",
       "      <td>0.2216</td>\n",
       "      <td>0.2060</td>\n",
       "      <td>0.07115</td>\n",
       "    </tr>\n",
       "    <tr>\n",
       "      <th>565</th>\n",
       "      <td>1</td>\n",
       "      <td>20.13</td>\n",
       "      <td>28.25</td>\n",
       "      <td>131.20</td>\n",
       "      <td>1261.0</td>\n",
       "      <td>0.09780</td>\n",
       "      <td>0.10340</td>\n",
       "      <td>0.14400</td>\n",
       "      <td>0.09791</td>\n",
       "      <td>0.1752</td>\n",
       "      <td>0.05533</td>\n",
       "      <td>0.7655</td>\n",
       "      <td>2.4630</td>\n",
       "      <td>5.203</td>\n",
       "      <td>99.04</td>\n",
       "      <td>0.005769</td>\n",
       "      <td>0.02423</td>\n",
       "      <td>0.03950</td>\n",
       "      <td>0.01678</td>\n",
       "      <td>0.01898</td>\n",
       "      <td>0.002498</td>\n",
       "      <td>23.690</td>\n",
       "      <td>38.25</td>\n",
       "      <td>155.00</td>\n",
       "      <td>1731.0</td>\n",
       "      <td>0.11660</td>\n",
       "      <td>0.19220</td>\n",
       "      <td>0.3215</td>\n",
       "      <td>0.1628</td>\n",
       "      <td>0.2572</td>\n",
       "      <td>0.06637</td>\n",
       "    </tr>\n",
       "    <tr>\n",
       "      <th>566</th>\n",
       "      <td>1</td>\n",
       "      <td>16.60</td>\n",
       "      <td>28.08</td>\n",
       "      <td>108.30</td>\n",
       "      <td>858.1</td>\n",
       "      <td>0.08455</td>\n",
       "      <td>0.10230</td>\n",
       "      <td>0.09251</td>\n",
       "      <td>0.05302</td>\n",
       "      <td>0.1590</td>\n",
       "      <td>0.05648</td>\n",
       "      <td>0.4564</td>\n",
       "      <td>1.0750</td>\n",
       "      <td>3.425</td>\n",
       "      <td>48.55</td>\n",
       "      <td>0.005903</td>\n",
       "      <td>0.03731</td>\n",
       "      <td>0.04730</td>\n",
       "      <td>0.01557</td>\n",
       "      <td>0.01318</td>\n",
       "      <td>0.003892</td>\n",
       "      <td>18.980</td>\n",
       "      <td>34.12</td>\n",
       "      <td>126.70</td>\n",
       "      <td>1124.0</td>\n",
       "      <td>0.11390</td>\n",
       "      <td>0.30940</td>\n",
       "      <td>0.3403</td>\n",
       "      <td>0.1418</td>\n",
       "      <td>0.2218</td>\n",
       "      <td>0.07820</td>\n",
       "    </tr>\n",
       "    <tr>\n",
       "      <th>567</th>\n",
       "      <td>1</td>\n",
       "      <td>20.60</td>\n",
       "      <td>29.33</td>\n",
       "      <td>140.10</td>\n",
       "      <td>1265.0</td>\n",
       "      <td>0.11780</td>\n",
       "      <td>0.27700</td>\n",
       "      <td>0.35140</td>\n",
       "      <td>0.15200</td>\n",
       "      <td>0.2397</td>\n",
       "      <td>0.07016</td>\n",
       "      <td>0.7260</td>\n",
       "      <td>1.5950</td>\n",
       "      <td>5.772</td>\n",
       "      <td>86.22</td>\n",
       "      <td>0.006522</td>\n",
       "      <td>0.06158</td>\n",
       "      <td>0.07117</td>\n",
       "      <td>0.01664</td>\n",
       "      <td>0.02324</td>\n",
       "      <td>0.006185</td>\n",
       "      <td>25.740</td>\n",
       "      <td>39.42</td>\n",
       "      <td>184.60</td>\n",
       "      <td>1821.0</td>\n",
       "      <td>0.16500</td>\n",
       "      <td>0.86810</td>\n",
       "      <td>0.9387</td>\n",
       "      <td>0.2650</td>\n",
       "      <td>0.4087</td>\n",
       "      <td>0.12400</td>\n",
       "    </tr>\n",
       "    <tr>\n",
       "      <th>568</th>\n",
       "      <td>0</td>\n",
       "      <td>7.76</td>\n",
       "      <td>24.54</td>\n",
       "      <td>47.92</td>\n",
       "      <td>181.0</td>\n",
       "      <td>0.05263</td>\n",
       "      <td>0.04362</td>\n",
       "      <td>0.00000</td>\n",
       "      <td>0.00000</td>\n",
       "      <td>0.1587</td>\n",
       "      <td>0.05884</td>\n",
       "      <td>0.3857</td>\n",
       "      <td>1.4280</td>\n",
       "      <td>2.548</td>\n",
       "      <td>19.15</td>\n",
       "      <td>0.007189</td>\n",
       "      <td>0.00466</td>\n",
       "      <td>0.00000</td>\n",
       "      <td>0.00000</td>\n",
       "      <td>0.02676</td>\n",
       "      <td>0.002783</td>\n",
       "      <td>9.456</td>\n",
       "      <td>30.37</td>\n",
       "      <td>59.16</td>\n",
       "      <td>268.6</td>\n",
       "      <td>0.08996</td>\n",
       "      <td>0.06444</td>\n",
       "      <td>0.0000</td>\n",
       "      <td>0.0000</td>\n",
       "      <td>0.2871</td>\n",
       "      <td>0.07039</td>\n",
       "    </tr>\n",
       "  </tbody>\n",
       "</table>\n",
       "<p>569 rows × 31 columns</p>\n",
       "</div>"
      ],
      "text/plain": [
       "     Diagnosis  MeanRadius  ...  WorstSymmetry  WorstFractalDimension\n",
       "0            1       17.99  ...         0.4601                0.11890\n",
       "1            1       20.57  ...         0.2750                0.08902\n",
       "2            1       19.69  ...         0.3613                0.08758\n",
       "3            1       11.42  ...         0.6638                0.17300\n",
       "4            1       20.29  ...         0.2364                0.07678\n",
       "..         ...         ...  ...            ...                    ...\n",
       "564          1       21.56  ...         0.2060                0.07115\n",
       "565          1       20.13  ...         0.2572                0.06637\n",
       "566          1       16.60  ...         0.2218                0.07820\n",
       "567          1       20.60  ...         0.4087                0.12400\n",
       "568          0        7.76  ...         0.2871                0.07039\n",
       "\n",
       "[569 rows x 31 columns]"
      ]
     },
     "execution_count": 16,
     "metadata": {
      "tags": []
     },
     "output_type": "execute_result"
    }
   ],
   "source": [
    "df"
   ]
  },
  {
   "cell_type": "code",
   "execution_count": 0,
   "metadata": {
    "colab": {},
    "colab_type": "code",
    "id": "eLPmK9xEKsFI"
   },
   "outputs": [],
   "source": [
    "# Creating Target Vector\n",
    "y = df.Diagnosis"
   ]
  },
  {
   "cell_type": "code",
   "execution_count": 0,
   "metadata": {
    "colab": {},
    "colab_type": "code",
    "id": "770pIHGNKsFM"
   },
   "outputs": [],
   "source": [
    "# Creating Features Dataframe\n",
    "X = df.drop(['Diagnosis'], axis=1)"
   ]
  },
  {
   "cell_type": "code",
   "execution_count": 19,
   "metadata": {
    "colab": {
     "base_uri": "https://localhost:8080/",
     "height": 34
    },
    "colab_type": "code",
    "id": "zvkKuoleKsFP",
    "outputId": "b587c00f-711a-408d-e91d-a8dadf1ddd1b"
   },
   "outputs": [
    {
     "data": {
      "text/plain": [
       "((569, 30), (569,))"
      ]
     },
     "execution_count": 19,
     "metadata": {
      "tags": []
     },
     "output_type": "execute_result"
    }
   ],
   "source": [
    "# Shape of X, y\n",
    "X.shape, y.shape"
   ]
  },
  {
   "cell_type": "code",
   "execution_count": 0,
   "metadata": {
    "colab": {},
    "colab_type": "code",
    "id": "WmBeZ6XFKsFS"
   },
   "outputs": [],
   "source": [
    "# Splitting X, y with a test size of 20%\n",
    "X_train, X_test, y_train, y_test = train_test_split(X, y, test_size = 0.20, random_state=0)"
   ]
  },
  {
   "cell_type": "code",
   "execution_count": 21,
   "metadata": {
    "colab": {
     "base_uri": "https://localhost:8080/",
     "height": 34
    },
    "colab_type": "code",
    "id": "7mnCPk0xKsFV",
    "outputId": "c143c76b-4541-4c05-92ba-1426a83b1f10"
   },
   "outputs": [
    {
     "data": {
      "text/plain": [
       "((455, 30), (114, 30), (455,), (114,))"
      ]
     },
     "execution_count": 21,
     "metadata": {
      "tags": []
     },
     "output_type": "execute_result"
    }
   ],
   "source": [
    "X_train.shape , X_test.shape , y_train.shape, y_test.shape"
   ]
  },
  {
   "cell_type": "code",
   "execution_count": 0,
   "metadata": {
    "colab": {},
    "colab_type": "code",
    "id": "cBrx1ix7KsFY"
   },
   "outputs": [],
   "source": [
    "# Standardising Features\n",
    "scaler = StandardScaler()\n",
    "X_train = scaler.fit_transform(X_train)\n",
    "X_test = scaler.transform(X_test)"
   ]
  },
  {
   "cell_type": "markdown",
   "metadata": {
    "colab_type": "text",
    "id": "lcLW0G17MLY9"
   },
   "source": [
    "Classification using all Features"
   ]
  },
  {
   "cell_type": "code",
   "execution_count": 23,
   "metadata": {
    "colab": {
     "base_uri": "https://localhost:8080/",
     "height": 221
    },
    "colab_type": "code",
    "id": "Dn7LhQFKKsFe",
    "outputId": "a89cf2bc-9f08-42e0-8324-137a024ba236"
   },
   "outputs": [
    {
     "name": "stdout",
     "output_type": "stream",
     "text": [
      "Perceptron\n",
      "\n",
      "[[64  3]\n",
      " [ 3 44]]\n",
      "\n",
      "Accuracy Score:    0.9473684210526315\n",
      "Precision Score:   0.9361702127659575\n",
      "Recall Score:      0.9361702127659575\n",
      "Kappa Score:       0.8913940933629724\n",
      "F1 Score:          0.9361702127659575\n",
      "CPU times: user 13.3 ms, sys: 2.17 ms, total: 15.5 ms\n",
      "Wall time: 24.9 ms\n"
     ]
    }
   ],
   "source": [
    "%%time\n",
    "runPT(X_train, X_test, y_train, y_test)"
   ]
  },
  {
   "cell_type": "code",
   "execution_count": 24,
   "metadata": {
    "colab": {
     "base_uri": "https://localhost:8080/",
     "height": 221
    },
    "colab_type": "code",
    "id": "H7ePnipJKsFg",
    "outputId": "72e3f8c4-c8c2-4616-9dd2-83a38570a13b"
   },
   "outputs": [
    {
     "name": "stdout",
     "output_type": "stream",
     "text": [
      "Support Vector Machine - Classifier (SVC)\n",
      "\n",
      "[[67  0]\n",
      " [ 2 45]]\n",
      "\n",
      "Accuracy Score:    0.9824561403508771\n",
      "Precision Score:   1.0\n",
      "Recall Score:      0.9574468085106383\n",
      "Kappa Score:       0.9635666347075743\n",
      "F1 Score:          0.9782608695652174\n",
      "CPU times: user 17.7 ms, sys: 1.95 ms, total: 19.6 ms\n",
      "Wall time: 20.3 ms\n"
     ]
    }
   ],
   "source": [
    "%%time\n",
    "runSVC(X_train, X_test, y_train, y_test)"
   ]
  },
  {
   "cell_type": "code",
   "execution_count": 25,
   "metadata": {
    "colab": {
     "base_uri": "https://localhost:8080/",
     "height": 221
    },
    "colab_type": "code",
    "id": "FRxhAtR0KsFj",
    "outputId": "dbe14a52-8d38-430c-ad4d-8e2a605729b2"
   },
   "outputs": [
    {
     "name": "stdout",
     "output_type": "stream",
     "text": [
      "K-Nearest Neighbors Classifier\n",
      "\n",
      "[[67  0]\n",
      " [ 5 42]]\n",
      "\n",
      "Accuracy Score:    0.956140350877193\n",
      "Precision Score:   1.0\n",
      "Recall Score:      0.8936170212765957\n",
      "Kappa Score:       0.9080348499515973\n",
      "F1 Score:          0.9438202247191011\n",
      "CPU times: user 22.2 ms, sys: 1.89 ms, total: 24.1 ms\n",
      "Wall time: 25.2 ms\n"
     ]
    }
   ],
   "source": [
    "%%time\n",
    "runKNN(X_train, X_test, y_train, y_test)"
   ]
  },
  {
   "cell_type": "code",
   "execution_count": 26,
   "metadata": {
    "colab": {
     "base_uri": "https://localhost:8080/",
     "height": 221
    },
    "colab_type": "code",
    "id": "i15TZbioKsFl",
    "outputId": "2c6bc6f0-5b9c-4fc3-cae8-27ef30ddb66a"
   },
   "outputs": [
    {
     "name": "stdout",
     "output_type": "stream",
     "text": [
      "Gaussian Naive Bayes\n",
      "\n",
      "[[61  6]\n",
      " [ 5 42]]\n",
      "\n",
      "Accuracy Score:    0.9035087719298246\n",
      "Precision Score:   0.875\n",
      "Recall Score:      0.8936170212765957\n",
      "Kappa Score:       0.8015194681861348\n",
      "F1 Score:          0.8842105263157894\n",
      "CPU times: user 10.3 ms, sys: 1.56 ms, total: 11.9 ms\n",
      "Wall time: 15.5 ms\n"
     ]
    }
   ],
   "source": [
    "%%time\n",
    "runGNB(X_train, X_test, y_train, y_test)"
   ]
  },
  {
   "cell_type": "code",
   "execution_count": 27,
   "metadata": {
    "colab": {
     "base_uri": "https://localhost:8080/",
     "height": 221
    },
    "colab_type": "code",
    "id": "X83dmy4UKsFn",
    "outputId": "581d16d4-0f88-4818-98a7-2b598638bfbc"
   },
   "outputs": [
    {
     "name": "stdout",
     "output_type": "stream",
     "text": [
      "Decision Tree Classifier\n",
      "\n",
      "[[60  7]\n",
      " [ 3 44]]\n",
      "\n",
      "Accuracy Score:    0.9122807017543859\n",
      "Precision Score:   0.8627450980392157\n",
      "Recall Score:      0.9361702127659575\n",
      "Kappa Score:       0.8212605832549389\n",
      "F1 Score:          0.8979591836734694\n",
      "CPU times: user 20.5 ms, sys: 102 µs, total: 20.6 ms\n",
      "Wall time: 25.4 ms\n"
     ]
    }
   ],
   "source": [
    "%%time\n",
    "runDTC(X_train, X_test, y_train, y_test)"
   ]
  },
  {
   "cell_type": "markdown",
   "metadata": {
    "colab_type": "text",
    "id": "-ZeIAcoIMakI"
   },
   "source": [
    "Feature Selection using Recursive Feature Elimination"
   ]
  },
  {
   "cell_type": "code",
   "execution_count": 0,
   "metadata": {
    "colab": {},
    "colab_type": "code",
    "id": "kLFtjY9RKsFr"
   },
   "outputs": [],
   "source": [
    "selectorRFE = RFE(RandomForestClassifier(n_estimators=100, random_state=0, n_jobs=-1), n_features_to_select = 17)\n",
    "selectorRFE = selectorRFE.fit(X_train, y_train)\n",
    "X_train_RFE = selectorRFE.transform(X_train)\n",
    "X_test_RFE = selectorRFE.transform(X_test)"
   ]
  },
  {
   "cell_type": "code",
   "execution_count": 29,
   "metadata": {
    "colab": {
     "base_uri": "https://localhost:8080/",
     "height": 85
    },
    "colab_type": "code",
    "id": "xAkqzePmKsFv",
    "outputId": "95b6fcb6-41cb-4261-f192-2cbf4484e7aa"
   },
   "outputs": [
    {
     "data": {
      "text/plain": [
       "array([ True,  True,  True,  True, False, False,  True,  True, False,\n",
       "       False,  True, False, False,  True, False, False, False, False,\n",
       "       False, False,  True,  True,  True,  True,  True,  True,  True,\n",
       "        True,  True, False])"
      ]
     },
     "execution_count": 29,
     "metadata": {
      "tags": []
     },
     "output_type": "execute_result"
    }
   ],
   "source": [
    "selectorRFE.get_support()"
   ]
  },
  {
   "cell_type": "code",
   "execution_count": 30,
   "metadata": {
    "colab": {
     "base_uri": "https://localhost:8080/",
     "height": 119
    },
    "colab_type": "code",
    "id": "3ZV2m2zZKsFz",
    "outputId": "4fcbf2a3-deeb-452d-b281-716bf4a439c5",
    "scrolled": true
   },
   "outputs": [
    {
     "data": {
      "text/plain": [
       "Index(['MeanRadius', 'MeanTexture', 'MeanPerimeter', 'MeanArea',\n",
       "       'MeanConcavity', 'MeanConcavePoints', 'RadiusSE', 'AreaSE',\n",
       "       'WorstRadius', 'WorstTexture', 'WorstPerimeter', 'WorstArea',\n",
       "       'WorstSmoothness', 'WorstCompactness', 'WorstConcavity',\n",
       "       'WorstConcavePoints', 'WorstSymmetry'],\n",
       "      dtype='object')"
      ]
     },
     "execution_count": 30,
     "metadata": {
      "tags": []
     },
     "output_type": "execute_result"
    }
   ],
   "source": [
    "# Features selected by RFE\n",
    "featuresRFE = X.columns[selectorRFE.get_support()]\n",
    "featuresRFE"
   ]
  },
  {
   "cell_type": "markdown",
   "metadata": {
    "colab_type": "text",
    "id": "jf3PXeLDMexI"
   },
   "source": [
    "Classification using RFE selected Features"
   ]
  },
  {
   "cell_type": "code",
   "execution_count": 31,
   "metadata": {
    "colab": {
     "base_uri": "https://localhost:8080/",
     "height": 221
    },
    "colab_type": "code",
    "id": "vZQlriNLKsF4",
    "outputId": "eecce989-0440-452f-c80b-e8729e7db3c5"
   },
   "outputs": [
    {
     "name": "stdout",
     "output_type": "stream",
     "text": [
      "Perceptron\n",
      "\n",
      "[[64  3]\n",
      " [ 2 45]]\n",
      "\n",
      "Accuracy Score:    0.956140350877193\n",
      "Precision Score:   0.9375\n",
      "Recall Score:      0.9574468085106383\n",
      "Kappa Score:       0.9097815764482431\n",
      "F1 Score:          0.9473684210526315\n",
      "CPU times: user 12.9 ms, sys: 1.09 ms, total: 14 ms\n",
      "Wall time: 15.3 ms\n"
     ]
    }
   ],
   "source": [
    "%%time\n",
    "runPT(X_train_RFE, X_test_RFE, y_train, y_test)"
   ]
  },
  {
   "cell_type": "code",
   "execution_count": 32,
   "metadata": {
    "colab": {
     "base_uri": "https://localhost:8080/",
     "height": 221
    },
    "colab_type": "code",
    "id": "Fg4VnDmGKsF8",
    "outputId": "eeffae16-4b36-4d3d-9a03-291a8778df2e"
   },
   "outputs": [
    {
     "name": "stdout",
     "output_type": "stream",
     "text": [
      "Support Vector Machine - Classifier (SVC)\n",
      "\n",
      "[[66  1]\n",
      " [ 2 45]]\n",
      "\n",
      "Accuracy Score:    0.9736842105263158\n",
      "Precision Score:   0.9782608695652174\n",
      "Recall Score:      0.9574468085106383\n",
      "Kappa Score:       0.9455240522459382\n",
      "F1 Score:          0.967741935483871\n",
      "CPU times: user 15.8 ms, sys: 3.01 ms, total: 18.8 ms\n",
      "Wall time: 21.9 ms\n"
     ]
    }
   ],
   "source": [
    "%%time\n",
    "runSVC(X_train_RFE, X_test_RFE, y_train, y_test)"
   ]
  },
  {
   "cell_type": "code",
   "execution_count": 33,
   "metadata": {
    "colab": {
     "base_uri": "https://localhost:8080/",
     "height": 221
    },
    "colab_type": "code",
    "id": "hnNmehVDKsGA",
    "outputId": "6beb232d-6396-44a4-c7e6-78cd7fb15881"
   },
   "outputs": [
    {
     "name": "stdout",
     "output_type": "stream",
     "text": [
      "K-Nearest Neighbors Classifier\n",
      "\n",
      "[[65  2]\n",
      " [ 3 44]]\n",
      "\n",
      "Accuracy Score:    0.956140350877193\n",
      "Precision Score:   0.9565217391304348\n",
      "Recall Score:      0.9361702127659575\n",
      "Kappa Score:       0.9092067537432303\n",
      "F1 Score:          0.9462365591397849\n",
      "CPU times: user 15.5 ms, sys: 878 µs, total: 16.4 ms\n",
      "Wall time: 20.3 ms\n"
     ]
    }
   ],
   "source": [
    "%%time\n",
    "runKNN(X_train_RFE, X_test_RFE, y_train, y_test)"
   ]
  },
  {
   "cell_type": "code",
   "execution_count": 34,
   "metadata": {
    "colab": {
     "base_uri": "https://localhost:8080/",
     "height": 221
    },
    "colab_type": "code",
    "id": "BQIhZAQ8KsGD",
    "outputId": "aa81e32e-bacb-47be-b1e9-86c28d34f49a",
    "scrolled": true
   },
   "outputs": [
    {
     "name": "stdout",
     "output_type": "stream",
     "text": [
      "Gaussian Naive Bayes\n",
      "\n",
      "[[62  5]\n",
      " [ 3 44]]\n",
      "\n",
      "Accuracy Score:    0.9298245614035088\n",
      "Precision Score:   0.8979591836734694\n",
      "Recall Score:      0.9361702127659575\n",
      "Kappa Score:       0.8561060271378984\n",
      "F1 Score:          0.9166666666666666\n",
      "CPU times: user 9.36 ms, sys: 2.32 ms, total: 11.7 ms\n",
      "Wall time: 14.2 ms\n"
     ]
    }
   ],
   "source": [
    "%%time\n",
    "runGNB(X_train_RFE, X_test_RFE, y_train, y_test)"
   ]
  },
  {
   "cell_type": "code",
   "execution_count": 35,
   "metadata": {
    "colab": {
     "base_uri": "https://localhost:8080/",
     "height": 221
    },
    "colab_type": "code",
    "id": "uSHM1EbyKsGF",
    "outputId": "687a08e6-8707-40d3-ae3c-3099dd1dfa6c"
   },
   "outputs": [
    {
     "name": "stdout",
     "output_type": "stream",
     "text": [
      "Decision Tree Classifier\n",
      "\n",
      "[[62  5]\n",
      " [ 4 43]]\n",
      "\n",
      "Accuracy Score:    0.9210526315789473\n",
      "Precision Score:   0.8958333333333334\n",
      "Recall Score:      0.9148936170212766\n",
      "Kappa Score:       0.8376068376068376\n",
      "F1 Score:          0.9052631578947369\n",
      "CPU times: user 17.7 ms, sys: 0 ns, total: 17.7 ms\n",
      "Wall time: 24.2 ms\n"
     ]
    }
   ],
   "source": [
    "%%time\n",
    "runDTC(X_train_RFE, X_test_RFE, y_train, y_test)"
   ]
  },
  {
   "cell_type": "markdown",
   "metadata": {
    "colab_type": "text",
    "id": "EGbWhwJDMt_5"
   },
   "source": [
    "Feature Selection using LASSO (L1)"
   ]
  },
  {
   "cell_type": "code",
   "execution_count": 0,
   "metadata": {
    "colab": {},
    "colab_type": "code",
    "id": "p0WezqsLKsGI"
   },
   "outputs": [],
   "source": [
    "selectorL1 = SelectFromModel(LogisticRegression(penalty='l1', C=1,solver = 'liblinear'))\n",
    "selectorL1.fit(X_train, y_train)\n",
    "X_train_L1 = selectorL1.transform(X_train)\n",
    "X_test_L1 = selectorL1.transform(X_test)"
   ]
  },
  {
   "cell_type": "code",
   "execution_count": 37,
   "metadata": {
    "colab": {
     "base_uri": "https://localhost:8080/",
     "height": 85
    },
    "colab_type": "code",
    "id": "38o5H4s7KsGN",
    "outputId": "ee0382dc-5cd5-4948-90bd-cd53403ebaa0"
   },
   "outputs": [
    {
     "data": {
      "text/plain": [
       "array([False,  True, False, False, False, False, False,  True,  True,\n",
       "       False,  True, False, False, False, False,  True, False, False,\n",
       "       False,  True,  True,  True,  True,  True,  True, False,  True,\n",
       "        True,  True,  True])"
      ]
     },
     "execution_count": 37,
     "metadata": {
      "tags": []
     },
     "output_type": "execute_result"
    }
   ],
   "source": [
    "selectorL1.get_support()"
   ]
  },
  {
   "cell_type": "code",
   "execution_count": 38,
   "metadata": {
    "colab": {
     "base_uri": "https://localhost:8080/",
     "height": 119
    },
    "colab_type": "code",
    "id": "5ZR3j7XEKsGQ",
    "outputId": "153a242f-c3ef-4b16-95a7-ed459687ccf3"
   },
   "outputs": [
    {
     "data": {
      "text/plain": [
       "array([[ 0.        ,  0.07522344,  0.        ,  0.        ,  0.        ,\n",
       "         0.        ,  0.        ,  0.83679753,  0.17667783,  0.        ,\n",
       "         2.91928428,  0.        ,  0.        ,  0.        ,  0.        ,\n",
       "        -0.63882566,  0.        ,  0.        ,  0.        , -0.63291044,\n",
       "         1.02911797,  1.39916959,  0.24759434,  2.86623379,  0.27295787,\n",
       "         0.        ,  0.90544923,  1.70636249,  0.50305464,  0.16807346]])"
      ]
     },
     "execution_count": 38,
     "metadata": {
      "tags": []
     },
     "output_type": "execute_result"
    }
   ],
   "source": [
    "selectorL1.estimator_.coef_"
   ]
  },
  {
   "cell_type": "code",
   "execution_count": 39,
   "metadata": {
    "colab": {
     "base_uri": "https://localhost:8080/",
     "height": 102
    },
    "colab_type": "code",
    "id": "qoRysdXIKsGT",
    "outputId": "3f9f9226-9484-48e5-9593-56ae25919ff9"
   },
   "outputs": [
    {
     "data": {
      "text/plain": [
       "Index(['MeanTexture', 'MeanConcavePoints', 'MeanSymmetry', 'RadiusSE',\n",
       "       'CompactnessSE', 'FractalDimensionSE', 'WorstRadius', 'WorstTexture',\n",
       "       'WorstPerimeter', 'WorstArea', 'WorstSmoothness', 'WorstConcavity',\n",
       "       'WorstConcavePoints', 'WorstSymmetry', 'WorstFractalDimension'],\n",
       "      dtype='object')"
      ]
     },
     "execution_count": 39,
     "metadata": {
      "tags": []
     },
     "output_type": "execute_result"
    }
   ],
   "source": [
    "# Features selected by LASSO (L1)\n",
    "featuresL1 = X.columns[selectorL1.get_support()]\n",
    "featuresL1"
   ]
  },
  {
   "cell_type": "markdown",
   "metadata": {
    "colab_type": "text",
    "id": "LESOFb5_M6Ny"
   },
   "source": [
    "Classification using LASSO (L1) selected Features"
   ]
  },
  {
   "cell_type": "code",
   "execution_count": 40,
   "metadata": {
    "colab": {
     "base_uri": "https://localhost:8080/",
     "height": 221
    },
    "colab_type": "code",
    "id": "2dpeMpO-KsGZ",
    "outputId": "df0035e5-3973-4788-bb43-177e9bb7d546"
   },
   "outputs": [
    {
     "name": "stdout",
     "output_type": "stream",
     "text": [
      "Perceptron\n",
      "\n",
      "[[63  4]\n",
      " [ 3 44]]\n",
      "\n",
      "Accuracy Score:    0.9385964912280702\n",
      "Precision Score:   0.9166666666666666\n",
      "Recall Score:      0.9361702127659575\n",
      "Kappa Score:       0.8736942070275404\n",
      "F1 Score:          0.9263157894736843\n",
      "CPU times: user 13.3 ms, sys: 79 µs, total: 13.4 ms\n",
      "Wall time: 14.9 ms\n"
     ]
    }
   ],
   "source": [
    "%%time\n",
    "runPT(X_train_L1, X_test_L1, y_train, y_test)"
   ]
  },
  {
   "cell_type": "code",
   "execution_count": 41,
   "metadata": {
    "colab": {
     "base_uri": "https://localhost:8080/",
     "height": 221
    },
    "colab_type": "code",
    "id": "fIkR1MZiKsGd",
    "outputId": "3586ef84-bdbd-4115-c15c-8206281b8595"
   },
   "outputs": [
    {
     "name": "stdout",
     "output_type": "stream",
     "text": [
      "Support Vector Machine - Classifier (SVC)\n",
      "\n",
      "[[65  2]\n",
      " [ 3 44]]\n",
      "\n",
      "Accuracy Score:    0.956140350877193\n",
      "Precision Score:   0.9565217391304348\n",
      "Recall Score:      0.9361702127659575\n",
      "Kappa Score:       0.9092067537432303\n",
      "F1 Score:          0.9462365591397849\n",
      "CPU times: user 14.5 ms, sys: 874 µs, total: 15.3 ms\n",
      "Wall time: 17.4 ms\n"
     ]
    }
   ],
   "source": [
    "%%time\n",
    "runSVC(X_train_L1, X_test_L1, y_train, y_test)"
   ]
  },
  {
   "cell_type": "code",
   "execution_count": 42,
   "metadata": {
    "colab": {
     "base_uri": "https://localhost:8080/",
     "height": 221
    },
    "colab_type": "code",
    "id": "r11x7M_mKsGh",
    "outputId": "e4227822-3114-4445-f25b-df7450fc0290"
   },
   "outputs": [
    {
     "name": "stdout",
     "output_type": "stream",
     "text": [
      "K-Nearest Neighbors Classifier\n",
      "\n",
      "[[67  0]\n",
      " [ 4 43]]\n",
      "\n",
      "Accuracy Score:    0.9649122807017544\n",
      "Precision Score:   1.0\n",
      "Recall Score:      0.9148936170212766\n",
      "Kappa Score:       0.9266645223544548\n",
      "F1 Score:          0.9555555555555556\n",
      "CPU times: user 18.7 ms, sys: 0 ns, total: 18.7 ms\n",
      "Wall time: 18 ms\n"
     ]
    }
   ],
   "source": [
    "%%time\n",
    "runKNN(X_train_L1, X_test_L1, y_train, y_test)"
   ]
  },
  {
   "cell_type": "code",
   "execution_count": 43,
   "metadata": {
    "colab": {
     "base_uri": "https://localhost:8080/",
     "height": 221
    },
    "colab_type": "code",
    "id": "7HfCJX-rKsGl",
    "outputId": "651101f0-9303-49cf-ef7b-c17e60e6f47e"
   },
   "outputs": [
    {
     "name": "stdout",
     "output_type": "stream",
     "text": [
      "Gaussian Naive Bayes\n",
      "\n",
      "[[65  2]\n",
      " [ 3 44]]\n",
      "\n",
      "Accuracy Score:    0.956140350877193\n",
      "Precision Score:   0.9565217391304348\n",
      "Recall Score:      0.9361702127659575\n",
      "Kappa Score:       0.9092067537432303\n",
      "F1 Score:          0.9462365591397849\n",
      "CPU times: user 10.4 ms, sys: 2.07 ms, total: 12.5 ms\n",
      "Wall time: 17.6 ms\n"
     ]
    }
   ],
   "source": [
    "%%time\n",
    "runGNB(X_train_L1, X_test_L1, y_train, y_test)"
   ]
  },
  {
   "cell_type": "code",
   "execution_count": 44,
   "metadata": {
    "colab": {
     "base_uri": "https://localhost:8080/",
     "height": 221
    },
    "colab_type": "code",
    "id": "4Mq-Mk1jKsGp",
    "outputId": "e28f265b-7532-4567-c951-ab1d26f502cc"
   },
   "outputs": [
    {
     "name": "stdout",
     "output_type": "stream",
     "text": [
      "Decision Tree Classifier\n",
      "\n",
      "[[62  5]\n",
      " [ 3 44]]\n",
      "\n",
      "Accuracy Score:    0.9298245614035088\n",
      "Precision Score:   0.8979591836734694\n",
      "Recall Score:      0.9361702127659575\n",
      "Kappa Score:       0.8561060271378984\n",
      "F1 Score:          0.9166666666666666\n",
      "CPU times: user 17.1 ms, sys: 0 ns, total: 17.1 ms\n",
      "Wall time: 24 ms\n"
     ]
    }
   ],
   "source": [
    "%%time\n",
    "runDTC(X_train_L1, X_test_L1, y_train, y_test)"
   ]
  },
  {
   "cell_type": "markdown",
   "metadata": {
    "colab_type": "text",
    "id": "U17rGFIMNHRx"
   },
   "source": [
    "Feature Selection with Extra Trees Classifier"
   ]
  },
  {
   "cell_type": "code",
   "execution_count": 0,
   "metadata": {
    "colab": {},
    "colab_type": "code",
    "id": "Okp7PDq0KsGs"
   },
   "outputs": [],
   "source": [
    "selectorETC = SelectFromModel(ExtraTreesClassifier(n_estimators=100))\n",
    "selectorETC.fit(X_train, y_train)\n",
    "X_train_ETC = selectorETC.transform(X_train)\n",
    "X_test_ETC = selectorETC.transform(X_test)"
   ]
  },
  {
   "cell_type": "code",
   "execution_count": 46,
   "metadata": {
    "colab": {
     "base_uri": "https://localhost:8080/",
     "height": 85
    },
    "colab_type": "code",
    "id": "lfNH9K1lKsGv",
    "outputId": "95d7043d-e61d-4fe4-c489-88669a16b94d"
   },
   "outputs": [
    {
     "data": {
      "text/plain": [
       "array([ True, False,  True,  True, False, False,  True,  True, False,\n",
       "       False, False, False, False,  True, False, False, False, False,\n",
       "       False, False,  True, False,  True,  True, False, False,  True,\n",
       "        True, False, False])"
      ]
     },
     "execution_count": 46,
     "metadata": {
      "tags": []
     },
     "output_type": "execute_result"
    }
   ],
   "source": [
    "selectorETC.get_support()"
   ]
  },
  {
   "cell_type": "code",
   "execution_count": 47,
   "metadata": {
    "colab": {
     "base_uri": "https://localhost:8080/",
     "height": 85
    },
    "colab_type": "code",
    "id": "BwCwuvmqKsGy",
    "outputId": "69c3ddc4-f7c4-4a53-c0ba-ec05f05372f8"
   },
   "outputs": [
    {
     "data": {
      "text/plain": [
       "Index(['MeanRadius', 'MeanPerimeter', 'MeanArea', 'MeanConcavity',\n",
       "       'MeanConcavePoints', 'AreaSE', 'WorstRadius', 'WorstPerimeter',\n",
       "       'WorstArea', 'WorstConcavity', 'WorstConcavePoints'],\n",
       "      dtype='object')"
      ]
     },
     "execution_count": 47,
     "metadata": {
      "tags": []
     },
     "output_type": "execute_result"
    }
   ],
   "source": [
    "# Features selected by ETC\n",
    "featuresETC = X.columns[selectorETC.get_support()]\n",
    "featuresETC"
   ]
  },
  {
   "cell_type": "markdown",
   "metadata": {
    "colab_type": "text",
    "id": "k_sucDigNO3E"
   },
   "source": [
    "Classification using ETC selected Features"
   ]
  },
  {
   "cell_type": "code",
   "execution_count": 48,
   "metadata": {
    "colab": {
     "base_uri": "https://localhost:8080/",
     "height": 221
    },
    "colab_type": "code",
    "id": "-PCX_z-jKsG3",
    "outputId": "0453f168-5548-449f-89aa-55400fa0687b"
   },
   "outputs": [
    {
     "name": "stdout",
     "output_type": "stream",
     "text": [
      "Perceptron\n",
      "\n",
      "[[64  3]\n",
      " [ 5 42]]\n",
      "\n",
      "Accuracy Score:    0.9298245614035088\n",
      "Precision Score:   0.9333333333333333\n",
      "Recall Score:      0.8936170212765957\n",
      "Kappa Score:       0.8542665388302972\n",
      "F1 Score:          0.9130434782608695\n",
      "CPU times: user 11.3 ms, sys: 1.04 ms, total: 12.3 ms\n",
      "Wall time: 14.4 ms\n"
     ]
    }
   ],
   "source": [
    "%%time\n",
    "runPT(X_train_ETC, X_test_ETC, y_train, y_test)"
   ]
  },
  {
   "cell_type": "code",
   "execution_count": 49,
   "metadata": {
    "colab": {
     "base_uri": "https://localhost:8080/",
     "height": 221
    },
    "colab_type": "code",
    "id": "8mC-Hp6kKsG8",
    "outputId": "8d6370f3-1167-453b-d905-069e7c27ba7c"
   },
   "outputs": [
    {
     "name": "stdout",
     "output_type": "stream",
     "text": [
      "Support Vector Machine - Classifier (SVC)\n",
      "\n",
      "[[62  5]\n",
      " [ 4 43]]\n",
      "\n",
      "Accuracy Score:    0.9210526315789473\n",
      "Precision Score:   0.8958333333333334\n",
      "Recall Score:      0.9148936170212766\n",
      "Kappa Score:       0.8376068376068376\n",
      "F1 Score:          0.9052631578947369\n",
      "CPU times: user 12 ms, sys: 3.16 ms, total: 15.2 ms\n",
      "Wall time: 17 ms\n"
     ]
    }
   ],
   "source": [
    "%%time\n",
    "runSVC(X_train_ETC, X_test_ETC, y_train, y_test)"
   ]
  },
  {
   "cell_type": "code",
   "execution_count": 50,
   "metadata": {
    "colab": {
     "base_uri": "https://localhost:8080/",
     "height": 221
    },
    "colab_type": "code",
    "id": "cY0arpENKsG-",
    "outputId": "1eb9e80c-6688-4247-f9a1-98c2fb5a3960"
   },
   "outputs": [
    {
     "name": "stdout",
     "output_type": "stream",
     "text": [
      "K-Nearest Neighbors Classifier\n",
      "\n",
      "[[62  5]\n",
      " [ 4 43]]\n",
      "\n",
      "Accuracy Score:    0.9210526315789473\n",
      "Precision Score:   0.8958333333333334\n",
      "Recall Score:      0.9148936170212766\n",
      "Kappa Score:       0.8376068376068376\n",
      "F1 Score:          0.9052631578947369\n",
      "CPU times: user 19.5 ms, sys: 0 ns, total: 19.5 ms\n",
      "Wall time: 22.4 ms\n"
     ]
    }
   ],
   "source": [
    "%%time\n",
    "runKNN(X_train_ETC, X_test_ETC, y_train, y_test)"
   ]
  },
  {
   "cell_type": "code",
   "execution_count": 51,
   "metadata": {
    "colab": {
     "base_uri": "https://localhost:8080/",
     "height": 221
    },
    "colab_type": "code",
    "id": "zCE4j_oIKsHB",
    "outputId": "a20f7b34-fa55-41c5-e81c-1a315ab855ad"
   },
   "outputs": [
    {
     "name": "stdout",
     "output_type": "stream",
     "text": [
      "Gaussian Naive Bayes\n",
      "\n",
      "[[64  3]\n",
      " [ 3 44]]\n",
      "\n",
      "Accuracy Score:    0.9473684210526315\n",
      "Precision Score:   0.9361702127659575\n",
      "Recall Score:      0.9361702127659575\n",
      "Kappa Score:       0.8913940933629724\n",
      "F1 Score:          0.9361702127659575\n",
      "CPU times: user 11.2 ms, sys: 1.44 ms, total: 12.6 ms\n",
      "Wall time: 17.4 ms\n"
     ]
    }
   ],
   "source": [
    "%%time\n",
    "runGNB(X_train_ETC, X_test_ETC, y_train, y_test)"
   ]
  },
  {
   "cell_type": "code",
   "execution_count": 52,
   "metadata": {
    "colab": {
     "base_uri": "https://localhost:8080/",
     "height": 221
    },
    "colab_type": "code",
    "id": "WXFmjs9RKsHE",
    "outputId": "4d5397ee-4067-4ef6-ecd2-a6c279b8ca75"
   },
   "outputs": [
    {
     "name": "stdout",
     "output_type": "stream",
     "text": [
      "Decision Tree Classifier\n",
      "\n",
      "[[64  3]\n",
      " [ 3 44]]\n",
      "\n",
      "Accuracy Score:    0.9473684210526315\n",
      "Precision Score:   0.9361702127659575\n",
      "Recall Score:      0.9361702127659575\n",
      "Kappa Score:       0.8913940933629724\n",
      "F1 Score:          0.9361702127659575\n",
      "CPU times: user 14.5 ms, sys: 1.93 ms, total: 16.4 ms\n",
      "Wall time: 20.9 ms\n"
     ]
    }
   ],
   "source": [
    "%%time\n",
    "runDTC(X_train_ETC, X_test_ETC, y_train, y_test)"
   ]
  },
  {
   "cell_type": "markdown",
   "metadata": {
    "colab_type": "text",
    "id": "kkgZBQ_CP5I9"
   },
   "source": [
    "CNN Preprocessing"
   ]
  },
  {
   "cell_type": "code",
   "execution_count": 53,
   "metadata": {
    "colab": {
     "base_uri": "https://localhost:8080/",
     "height": 153
    },
    "colab_type": "code",
    "id": "zxl8_wiGP-uZ",
    "outputId": "5c5c70f9-e33b-4428-8d23-b96e67f90ef3"
   },
   "outputs": [
    {
     "data": {
      "text/plain": [
       "((455, 30),\n",
       " (114, 30),\n",
       " (455, 17),\n",
       " (114, 17),\n",
       " (455, 15),\n",
       " (114, 15),\n",
       " (455, 11),\n",
       " (114, 11))"
      ]
     },
     "execution_count": 53,
     "metadata": {
      "tags": []
     },
     "output_type": "execute_result"
    }
   ],
   "source": [
    "X_train.shape, X_test.shape, X_train_RFE.shape, X_test_RFE.shape, X_train_L1.shape, X_test_L1.shape, X_train_ETC.shape, X_test_ETC.shape"
   ]
  },
  {
   "cell_type": "code",
   "execution_count": 0,
   "metadata": {
    "colab": {},
    "colab_type": "code",
    "id": "EYdiCCzgQpz-"
   },
   "outputs": [],
   "source": [
    "X_train = X_train.reshape(455, 30, 1)\n",
    "X_test = X_test.reshape(114, 30, 1)"
   ]
  },
  {
   "cell_type": "code",
   "execution_count": 0,
   "metadata": {
    "colab": {},
    "colab_type": "code",
    "id": "i_jVVOX3REXK"
   },
   "outputs": [],
   "source": [
    "X_train_RFE = X_train_RFE.reshape(455, 17, 1)\n",
    "X_test_RFE = X_test_RFE.reshape(114, 17, 1)"
   ]
  },
  {
   "cell_type": "code",
   "execution_count": 0,
   "metadata": {
    "colab": {},
    "colab_type": "code",
    "id": "Wtplub11RLUJ"
   },
   "outputs": [],
   "source": [
    "X_train_L1 = X_train_L1.reshape(455, 15, 1)\n",
    "X_test_L1 = X_test_L1.reshape(114, 15, 1)"
   ]
  },
  {
   "cell_type": "code",
   "execution_count": 0,
   "metadata": {
    "colab": {},
    "colab_type": "code",
    "id": "a2snisuQRQ-r"
   },
   "outputs": [],
   "source": [
    "X_train_ETC = X_train_ETC.reshape(455, 11, 1)\n",
    "X_test_ETC = X_test_ETC.reshape(114, 11, 1)"
   ]
  },
  {
   "cell_type": "code",
   "execution_count": 58,
   "metadata": {
    "colab": {
     "base_uri": "https://localhost:8080/",
     "height": 153
    },
    "colab_type": "code",
    "id": "D7gTQIFdRg3M",
    "outputId": "ebd1946b-4c7c-4148-e640-7a1190a9d499"
   },
   "outputs": [
    {
     "data": {
      "text/plain": [
       "((455, 30, 1),\n",
       " (114, 30, 1),\n",
       " (455, 17, 1),\n",
       " (114, 17, 1),\n",
       " (455, 15, 1),\n",
       " (114, 15, 1),\n",
       " (455, 11, 1),\n",
       " (114, 11, 1))"
      ]
     },
     "execution_count": 58,
     "metadata": {
      "tags": []
     },
     "output_type": "execute_result"
    }
   ],
   "source": [
    "X_train.shape, X_test.shape, X_train_RFE.shape, X_test_RFE.shape, X_train_L1.shape, X_test_L1.shape, X_train_ETC.shape, X_test_ETC.shape"
   ]
  },
  {
   "cell_type": "markdown",
   "metadata": {
    "colab_type": "text",
    "id": "ooVlSXelSu9L"
   },
   "source": [
    "CNN using all Features"
   ]
  },
  {
   "cell_type": "code",
   "execution_count": 0,
   "metadata": {
    "colab": {},
    "colab_type": "code",
    "id": "hOf_DqEJUern"
   },
   "outputs": [],
   "source": [
    "model = CNN(30, 100)"
   ]
  },
  {
   "cell_type": "code",
   "execution_count": 60,
   "metadata": {
    "colab": {
     "base_uri": "https://localhost:8080/",
     "height": 1000
    },
    "colab_type": "code",
    "id": "OQ8N0o26Ugoz",
    "outputId": "359fadac-ecb3-4050-811e-b1184f58f0b4"
   },
   "outputs": [
    {
     "name": "stdout",
     "output_type": "stream",
     "text": [
      "Epoch 1/100\n",
      "15/15 [==============================] - 0s 27ms/step - loss: 0.2251 - accuracy: 0.8967 - val_loss: 0.1162 - val_accuracy: 0.9474\n",
      "Epoch 2/100\n",
      "15/15 [==============================] - 0s 10ms/step - loss: 0.1077 - accuracy: 0.9582 - val_loss: 0.0907 - val_accuracy: 0.9737\n",
      "Epoch 3/100\n",
      "15/15 [==============================] - 0s 10ms/step - loss: 0.0968 - accuracy: 0.9648 - val_loss: 0.1113 - val_accuracy: 0.9474\n",
      "Epoch 4/100\n",
      "15/15 [==============================] - 0s 10ms/step - loss: 0.0968 - accuracy: 0.9626 - val_loss: 0.0856 - val_accuracy: 0.9561\n",
      "Epoch 5/100\n",
      "15/15 [==============================] - 0s 9ms/step - loss: 0.1034 - accuracy: 0.9582 - val_loss: 0.0848 - val_accuracy: 0.9561\n",
      "Epoch 6/100\n",
      "15/15 [==============================] - 0s 9ms/step - loss: 0.0807 - accuracy: 0.9736 - val_loss: 0.0925 - val_accuracy: 0.9474\n",
      "Epoch 7/100\n",
      "15/15 [==============================] - 0s 10ms/step - loss: 0.1130 - accuracy: 0.9560 - val_loss: 0.0747 - val_accuracy: 0.9561\n",
      "Epoch 8/100\n",
      "15/15 [==============================] - 0s 11ms/step - loss: 0.1318 - accuracy: 0.9495 - val_loss: 0.0610 - val_accuracy: 0.9649\n",
      "Epoch 9/100\n",
      "15/15 [==============================] - 0s 9ms/step - loss: 0.0752 - accuracy: 0.9692 - val_loss: 0.0771 - val_accuracy: 0.9561\n",
      "Epoch 10/100\n",
      "15/15 [==============================] - 0s 10ms/step - loss: 0.0784 - accuracy: 0.9736 - val_loss: 0.0552 - val_accuracy: 0.9737\n",
      "Epoch 11/100\n",
      "15/15 [==============================] - 0s 9ms/step - loss: 0.1127 - accuracy: 0.9604 - val_loss: 0.0631 - val_accuracy: 0.9737\n",
      "Epoch 12/100\n",
      "15/15 [==============================] - 0s 9ms/step - loss: 0.0900 - accuracy: 0.9714 - val_loss: 0.0878 - val_accuracy: 0.9474\n",
      "Epoch 13/100\n",
      "15/15 [==============================] - 0s 10ms/step - loss: 0.0827 - accuracy: 0.9626 - val_loss: 0.0657 - val_accuracy: 0.9737\n",
      "Epoch 14/100\n",
      "15/15 [==============================] - 0s 9ms/step - loss: 0.0677 - accuracy: 0.9714 - val_loss: 0.0565 - val_accuracy: 0.9825\n",
      "Epoch 15/100\n",
      "15/15 [==============================] - 0s 10ms/step - loss: 0.0477 - accuracy: 0.9868 - val_loss: 0.0644 - val_accuracy: 0.9825\n",
      "Epoch 16/100\n",
      "15/15 [==============================] - 0s 10ms/step - loss: 0.0711 - accuracy: 0.9714 - val_loss: 0.0443 - val_accuracy: 0.9737\n",
      "Epoch 17/100\n",
      "15/15 [==============================] - 0s 10ms/step - loss: 0.0606 - accuracy: 0.9802 - val_loss: 0.0454 - val_accuracy: 0.9737\n",
      "Epoch 18/100\n",
      "15/15 [==============================] - 0s 9ms/step - loss: 0.0637 - accuracy: 0.9758 - val_loss: 0.0437 - val_accuracy: 0.9737\n",
      "Epoch 19/100\n",
      "15/15 [==============================] - 0s 9ms/step - loss: 0.0739 - accuracy: 0.9758 - val_loss: 0.0396 - val_accuracy: 0.9825\n",
      "Epoch 20/100\n",
      "15/15 [==============================] - 0s 9ms/step - loss: 0.0773 - accuracy: 0.9714 - val_loss: 0.0488 - val_accuracy: 0.9737\n",
      "Epoch 21/100\n",
      "15/15 [==============================] - 0s 10ms/step - loss: 0.0693 - accuracy: 0.9780 - val_loss: 0.0510 - val_accuracy: 0.9825\n",
      "Epoch 22/100\n",
      "15/15 [==============================] - 0s 9ms/step - loss: 0.0565 - accuracy: 0.9824 - val_loss: 0.0402 - val_accuracy: 0.9825\n",
      "Epoch 23/100\n",
      "15/15 [==============================] - 0s 10ms/step - loss: 0.0724 - accuracy: 0.9758 - val_loss: 0.0359 - val_accuracy: 0.9825\n",
      "Epoch 24/100\n",
      "15/15 [==============================] - 0s 9ms/step - loss: 0.0734 - accuracy: 0.9648 - val_loss: 0.0399 - val_accuracy: 0.9912\n",
      "Epoch 25/100\n",
      "15/15 [==============================] - 0s 9ms/step - loss: 0.1087 - accuracy: 0.9582 - val_loss: 0.0330 - val_accuracy: 0.9912\n",
      "Epoch 26/100\n",
      "15/15 [==============================] - 0s 10ms/step - loss: 0.0570 - accuracy: 0.9736 - val_loss: 0.0356 - val_accuracy: 0.9912\n",
      "Epoch 27/100\n",
      "15/15 [==============================] - 0s 10ms/step - loss: 0.0591 - accuracy: 0.9714 - val_loss: 0.0440 - val_accuracy: 0.9912\n",
      "Epoch 28/100\n",
      "15/15 [==============================] - 0s 10ms/step - loss: 0.0576 - accuracy: 0.9758 - val_loss: 0.0369 - val_accuracy: 0.9912\n",
      "Epoch 29/100\n",
      "15/15 [==============================] - 0s 10ms/step - loss: 0.0617 - accuracy: 0.9846 - val_loss: 0.0416 - val_accuracy: 0.9825\n",
      "Epoch 30/100\n",
      "15/15 [==============================] - 0s 10ms/step - loss: 0.0712 - accuracy: 0.9758 - val_loss: 0.0361 - val_accuracy: 1.0000\n",
      "Epoch 31/100\n",
      "15/15 [==============================] - 0s 11ms/step - loss: 0.0807 - accuracy: 0.9626 - val_loss: 0.0375 - val_accuracy: 0.9912\n",
      "Epoch 32/100\n",
      "15/15 [==============================] - 0s 9ms/step - loss: 0.0569 - accuracy: 0.9802 - val_loss: 0.0410 - val_accuracy: 0.9912\n",
      "Epoch 33/100\n",
      "15/15 [==============================] - 0s 9ms/step - loss: 0.0765 - accuracy: 0.9648 - val_loss: 0.0459 - val_accuracy: 0.9912\n",
      "Epoch 34/100\n",
      "15/15 [==============================] - 0s 10ms/step - loss: 0.0661 - accuracy: 0.9758 - val_loss: 0.0384 - val_accuracy: 1.0000\n",
      "Epoch 35/100\n",
      "15/15 [==============================] - 0s 10ms/step - loss: 0.1149 - accuracy: 0.9560 - val_loss: 0.0408 - val_accuracy: 0.9912\n",
      "Epoch 36/100\n",
      "15/15 [==============================] - 0s 10ms/step - loss: 0.0793 - accuracy: 0.9692 - val_loss: 0.0584 - val_accuracy: 0.9737\n",
      "Epoch 37/100\n",
      "15/15 [==============================] - 0s 9ms/step - loss: 0.0632 - accuracy: 0.9780 - val_loss: 0.0720 - val_accuracy: 0.9561\n",
      "Epoch 38/100\n",
      "15/15 [==============================] - 0s 10ms/step - loss: 0.0625 - accuracy: 0.9714 - val_loss: 0.0649 - val_accuracy: 0.9737\n",
      "Epoch 39/100\n",
      "15/15 [==============================] - 0s 9ms/step - loss: 0.0488 - accuracy: 0.9868 - val_loss: 0.0622 - val_accuracy: 0.9737\n",
      "Epoch 40/100\n",
      "15/15 [==============================] - 0s 9ms/step - loss: 0.0743 - accuracy: 0.9758 - val_loss: 0.0475 - val_accuracy: 0.9737\n",
      "Epoch 41/100\n",
      "15/15 [==============================] - 0s 9ms/step - loss: 0.0601 - accuracy: 0.9692 - val_loss: 0.0426 - val_accuracy: 0.9825\n",
      "Epoch 42/100\n",
      "15/15 [==============================] - 0s 10ms/step - loss: 0.0609 - accuracy: 0.9736 - val_loss: 0.0422 - val_accuracy: 0.9737\n",
      "Epoch 43/100\n",
      "15/15 [==============================] - 0s 9ms/step - loss: 0.0573 - accuracy: 0.9802 - val_loss: 0.0478 - val_accuracy: 0.9825\n",
      "Epoch 44/100\n",
      "15/15 [==============================] - 0s 10ms/step - loss: 0.0515 - accuracy: 0.9846 - val_loss: 0.0606 - val_accuracy: 0.9737\n",
      "Epoch 45/100\n",
      "15/15 [==============================] - 0s 9ms/step - loss: 0.0623 - accuracy: 0.9824 - val_loss: 0.0504 - val_accuracy: 0.9737\n",
      "Epoch 46/100\n",
      "15/15 [==============================] - 0s 9ms/step - loss: 0.0656 - accuracy: 0.9758 - val_loss: 0.0474 - val_accuracy: 0.9912\n",
      "Epoch 47/100\n",
      "15/15 [==============================] - 0s 9ms/step - loss: 0.0563 - accuracy: 0.9780 - val_loss: 0.0460 - val_accuracy: 0.9912\n",
      "Epoch 48/100\n",
      "15/15 [==============================] - 0s 10ms/step - loss: 0.0529 - accuracy: 0.9824 - val_loss: 0.0567 - val_accuracy: 0.9561\n",
      "Epoch 49/100\n",
      "15/15 [==============================] - 0s 10ms/step - loss: 0.0632 - accuracy: 0.9780 - val_loss: 0.0601 - val_accuracy: 0.9649\n",
      "Epoch 50/100\n",
      "15/15 [==============================] - 0s 9ms/step - loss: 0.0545 - accuracy: 0.9802 - val_loss: 0.0661 - val_accuracy: 0.9561\n",
      "Epoch 51/100\n",
      "15/15 [==============================] - 0s 9ms/step - loss: 0.0558 - accuracy: 0.9824 - val_loss: 0.0549 - val_accuracy: 0.9561\n",
      "Epoch 52/100\n",
      "15/15 [==============================] - 0s 10ms/step - loss: 0.0474 - accuracy: 0.9846 - val_loss: 0.0495 - val_accuracy: 0.9649\n",
      "Epoch 53/100\n",
      "15/15 [==============================] - 0s 10ms/step - loss: 0.0768 - accuracy: 0.9802 - val_loss: 0.0448 - val_accuracy: 0.9737\n",
      "Epoch 54/100\n",
      "15/15 [==============================] - 0s 10ms/step - loss: 0.0443 - accuracy: 0.9868 - val_loss: 0.0383 - val_accuracy: 0.9825\n",
      "Epoch 55/100\n",
      "15/15 [==============================] - 0s 10ms/step - loss: 0.0430 - accuracy: 0.9824 - val_loss: 0.0388 - val_accuracy: 0.9912\n",
      "Epoch 56/100\n",
      "15/15 [==============================] - 0s 9ms/step - loss: 0.0599 - accuracy: 0.9780 - val_loss: 0.0552 - val_accuracy: 0.9825\n",
      "Epoch 57/100\n",
      "15/15 [==============================] - 0s 9ms/step - loss: 0.0492 - accuracy: 0.9802 - val_loss: 0.0445 - val_accuracy: 0.9912\n",
      "Epoch 58/100\n",
      "15/15 [==============================] - 0s 9ms/step - loss: 0.0488 - accuracy: 0.9846 - val_loss: 0.0566 - val_accuracy: 0.9737\n",
      "Epoch 59/100\n",
      "15/15 [==============================] - 0s 9ms/step - loss: 0.0628 - accuracy: 0.9758 - val_loss: 0.0523 - val_accuracy: 0.9737\n",
      "Epoch 60/100\n",
      "15/15 [==============================] - 0s 10ms/step - loss: 0.0856 - accuracy: 0.9692 - val_loss: 0.0434 - val_accuracy: 0.9825\n",
      "Epoch 61/100\n",
      "15/15 [==============================] - 0s 9ms/step - loss: 0.0673 - accuracy: 0.9758 - val_loss: 0.0582 - val_accuracy: 0.9737\n",
      "Epoch 62/100\n",
      "15/15 [==============================] - 0s 9ms/step - loss: 0.0469 - accuracy: 0.9846 - val_loss: 0.0557 - val_accuracy: 0.9737\n",
      "Epoch 63/100\n",
      "15/15 [==============================] - 0s 10ms/step - loss: 0.0500 - accuracy: 0.9846 - val_loss: 0.0475 - val_accuracy: 0.9649\n",
      "Epoch 64/100\n",
      "15/15 [==============================] - 0s 9ms/step - loss: 0.0652 - accuracy: 0.9780 - val_loss: 0.0450 - val_accuracy: 0.9825\n",
      "Epoch 65/100\n",
      "15/15 [==============================] - 0s 9ms/step - loss: 0.0487 - accuracy: 0.9846 - val_loss: 0.0424 - val_accuracy: 0.9825\n",
      "Epoch 66/100\n",
      "15/15 [==============================] - 0s 10ms/step - loss: 0.0840 - accuracy: 0.9648 - val_loss: 0.0416 - val_accuracy: 0.9825\n",
      "Epoch 67/100\n",
      "15/15 [==============================] - 0s 9ms/step - loss: 0.0556 - accuracy: 0.9758 - val_loss: 0.0401 - val_accuracy: 0.9912\n",
      "Epoch 68/100\n",
      "15/15 [==============================] - 0s 9ms/step - loss: 0.0444 - accuracy: 0.9780 - val_loss: 0.0402 - val_accuracy: 0.9912\n",
      "Epoch 69/100\n",
      "15/15 [==============================] - 0s 9ms/step - loss: 0.0535 - accuracy: 0.9846 - val_loss: 0.0389 - val_accuracy: 0.9912\n",
      "Epoch 70/100\n",
      "15/15 [==============================] - 0s 9ms/step - loss: 0.0596 - accuracy: 0.9758 - val_loss: 0.0383 - val_accuracy: 0.9825\n",
      "Epoch 71/100\n",
      "15/15 [==============================] - 0s 11ms/step - loss: 0.0541 - accuracy: 0.9758 - val_loss: 0.0389 - val_accuracy: 0.9825\n",
      "Epoch 72/100\n",
      "15/15 [==============================] - 0s 11ms/step - loss: 0.0341 - accuracy: 0.9890 - val_loss: 0.0408 - val_accuracy: 0.9825\n",
      "Epoch 73/100\n",
      "15/15 [==============================] - 0s 10ms/step - loss: 0.0296 - accuracy: 0.9890 - val_loss: 0.0390 - val_accuracy: 0.9912\n",
      "Epoch 74/100\n",
      "15/15 [==============================] - 0s 9ms/step - loss: 0.0416 - accuracy: 0.9846 - val_loss: 0.0385 - val_accuracy: 0.9825\n",
      "Epoch 75/100\n",
      "15/15 [==============================] - 0s 10ms/step - loss: 0.0360 - accuracy: 0.9868 - val_loss: 0.0350 - val_accuracy: 0.9912\n",
      "Epoch 76/100\n",
      "15/15 [==============================] - 0s 10ms/step - loss: 0.0466 - accuracy: 0.9824 - val_loss: 0.0349 - val_accuracy: 0.9912\n",
      "Epoch 77/100\n",
      "15/15 [==============================] - 0s 10ms/step - loss: 0.0329 - accuracy: 0.9890 - val_loss: 0.0329 - val_accuracy: 0.9912\n",
      "Epoch 78/100\n",
      "15/15 [==============================] - 0s 9ms/step - loss: 0.0552 - accuracy: 0.9780 - val_loss: 0.0407 - val_accuracy: 0.9825\n",
      "Epoch 79/100\n",
      "15/15 [==============================] - 0s 10ms/step - loss: 0.0402 - accuracy: 0.9868 - val_loss: 0.0399 - val_accuracy: 0.9737\n",
      "Epoch 80/100\n",
      "15/15 [==============================] - 0s 9ms/step - loss: 0.0474 - accuracy: 0.9802 - val_loss: 0.0348 - val_accuracy: 0.9825\n",
      "Epoch 81/100\n",
      "15/15 [==============================] - 0s 10ms/step - loss: 0.0688 - accuracy: 0.9692 - val_loss: 0.0376 - val_accuracy: 0.9825\n",
      "Epoch 82/100\n",
      "15/15 [==============================] - 0s 9ms/step - loss: 0.0527 - accuracy: 0.9824 - val_loss: 0.0640 - val_accuracy: 0.9825\n",
      "Epoch 83/100\n",
      "15/15 [==============================] - 0s 9ms/step - loss: 0.0453 - accuracy: 0.9846 - val_loss: 0.0538 - val_accuracy: 0.9825\n",
      "Epoch 84/100\n",
      "15/15 [==============================] - 0s 9ms/step - loss: 0.0360 - accuracy: 0.9868 - val_loss: 0.0412 - val_accuracy: 0.9912\n",
      "Epoch 85/100\n",
      "15/15 [==============================] - 0s 9ms/step - loss: 0.0460 - accuracy: 0.9758 - val_loss: 0.0365 - val_accuracy: 0.9912\n",
      "Epoch 86/100\n",
      "15/15 [==============================] - 0s 10ms/step - loss: 0.0705 - accuracy: 0.9736 - val_loss: 0.0424 - val_accuracy: 0.9825\n",
      "Epoch 87/100\n",
      "15/15 [==============================] - 0s 9ms/step - loss: 0.0677 - accuracy: 0.9736 - val_loss: 0.0383 - val_accuracy: 0.9912\n",
      "Epoch 88/100\n",
      "15/15 [==============================] - 0s 10ms/step - loss: 0.0540 - accuracy: 0.9802 - val_loss: 0.0343 - val_accuracy: 1.0000\n",
      "Epoch 89/100\n",
      "15/15 [==============================] - 0s 9ms/step - loss: 0.0613 - accuracy: 0.9780 - val_loss: 0.0327 - val_accuracy: 1.0000\n",
      "Epoch 90/100\n",
      "15/15 [==============================] - 0s 9ms/step - loss: 0.0535 - accuracy: 0.9824 - val_loss: 0.0350 - val_accuracy: 0.9912\n",
      "Epoch 91/100\n",
      "15/15 [==============================] - 0s 10ms/step - loss: 0.0331 - accuracy: 0.9890 - val_loss: 0.0378 - val_accuracy: 0.9912\n",
      "Epoch 92/100\n",
      "15/15 [==============================] - 0s 9ms/step - loss: 0.0524 - accuracy: 0.9824 - val_loss: 0.0359 - val_accuracy: 0.9912\n",
      "Epoch 93/100\n",
      "15/15 [==============================] - 0s 9ms/step - loss: 0.0517 - accuracy: 0.9846 - val_loss: 0.0349 - val_accuracy: 0.9912\n",
      "Epoch 94/100\n",
      "15/15 [==============================] - 0s 11ms/step - loss: 0.0702 - accuracy: 0.9670 - val_loss: 0.0380 - val_accuracy: 0.9912\n",
      "Epoch 95/100\n",
      "15/15 [==============================] - 0s 10ms/step - loss: 0.0504 - accuracy: 0.9802 - val_loss: 0.0303 - val_accuracy: 1.0000\n",
      "Epoch 96/100\n",
      "15/15 [==============================] - 0s 10ms/step - loss: 0.0412 - accuracy: 0.9758 - val_loss: 0.0295 - val_accuracy: 1.0000\n",
      "Epoch 97/100\n",
      "15/15 [==============================] - 0s 9ms/step - loss: 0.0883 - accuracy: 0.9560 - val_loss: 0.0309 - val_accuracy: 1.0000\n",
      "Epoch 98/100\n",
      "15/15 [==============================] - 0s 9ms/step - loss: 0.0351 - accuracy: 0.9890 - val_loss: 0.0288 - val_accuracy: 1.0000\n",
      "Epoch 99/100\n",
      "15/15 [==============================] - 0s 9ms/step - loss: 0.0371 - accuracy: 0.9868 - val_loss: 0.0279 - val_accuracy: 0.9912\n",
      "Epoch 100/100\n",
      "15/15 [==============================] - 0s 9ms/step - loss: 0.0675 - accuracy: 0.9648 - val_loss: 0.0377 - val_accuracy: 0.9912\n"
     ]
    }
   ],
   "source": [
    "history = model.fit(X_train, y_train, epochs = 100, validation_data=(X_test, y_test), verbose = 1)"
   ]
  },
  {
   "cell_type": "code",
   "execution_count": 61,
   "metadata": {
    "colab": {
     "base_uri": "https://localhost:8080/",
     "height": 573
    },
    "colab_type": "code",
    "id": "W_25Vfv0eYKS",
    "outputId": "af763ebc-aa12-4998-a5fd-838c30527040"
   },
   "outputs": [
    {
     "data": {
      "image/png": "[encoded data removed]",
      "text/plain": [
       "<Figure size 432x288 with 1 Axes>"
      ]
     },
     "metadata": {
      "needs_background": "light",
      "tags": []
     },
     "output_type": "display_data"
    },
    {
     "data": {
      "image/png": "[encoded data removed]",
      "text/plain": [
       "<Figure size 432x288 with 1 Axes>"
      ]
     },
     "metadata": {
      "needs_background": "light",
      "tags": []
     },
     "output_type": "display_data"
    }
   ],
   "source": [
    "plotLC(history, 100)"
   ]
  },
  {
   "cell_type": "code",
   "execution_count": 62,
   "metadata": {
    "colab": {
     "base_uri": "https://localhost:8080/",
     "height": 258
    },
    "colab_type": "code",
    "id": "8k6XgOcFkRM3",
    "outputId": "520442a9-263e-4066-ed90-a9ec68416546"
   },
   "outputs": [
    {
     "name": "stdout",
     "output_type": "stream",
     "text": [
      "WARNING:tensorflow:From <ipython-input-10-1382d32a287b>:2: Sequential.predict_classes (from tensorflow.python.keras.engine.sequential) is deprecated and will be removed after 2021-01-01.\n",
      "Instructions for updating:\n",
      "Please use instead:* `np.argmax(model.predict(x), axis=-1)`,   if your model does multi-class classification   (e.g. if it uses a `softmax` last-layer activation).* `(model.predict(x) > 0.5).astype(\"int32\")`,   if your model does binary classification   (e.g. if it uses a `sigmoid` last-layer activation).\n",
      "Convolutional Neural Network\n",
      "\n",
      "[[67  0]\n",
      " [ 1 46]]\n",
      "\n",
      "Accuracy Score:    0.9912280701754386\n",
      "Precision Score:   1.0\n",
      "Recall Score:      0.9787234042553191\n",
      "Kappa Score:       0.9818413507486461\n",
      "F1 Score:          0.989247311827957\n"
     ]
    }
   ],
   "source": [
    "CNNMetrics(model, X_test, y_test)"
   ]
  },
  {
   "cell_type": "markdown",
   "metadata": {
    "colab_type": "text",
    "id": "O7-K_O3sN7x2"
   },
   "source": [
    "CNN using RFE selected Features"
   ]
  },
  {
   "cell_type": "code",
   "execution_count": 0,
   "metadata": {
    "colab": {},
    "colab_type": "code",
    "id": "Ygj8nAAvY_RV"
   },
   "outputs": [],
   "source": [
    "modelRFE = CNN(17, 100)"
   ]
  },
  {
   "cell_type": "code",
   "execution_count": 64,
   "metadata": {
    "colab": {
     "base_uri": "https://localhost:8080/",
     "height": 1000
    },
    "colab_type": "code",
    "id": "wV3hdg79VZLy",
    "outputId": "135bdc6e-4336-478b-8073-6f67096a4de7"
   },
   "outputs": [
    {
     "name": "stdout",
     "output_type": "stream",
     "text": [
      "Epoch 1/100\n",
      "15/15 [==============================] - 0s 15ms/step - loss: 0.2447 - accuracy: 0.9033 - val_loss: 0.0962 - val_accuracy: 0.9825\n",
      "Epoch 2/100\n",
      "15/15 [==============================] - 0s 7ms/step - loss: 0.2294 - accuracy: 0.9253 - val_loss: 0.0959 - val_accuracy: 0.9737\n",
      "Epoch 3/100\n",
      "15/15 [==============================] - 0s 7ms/step - loss: 0.1602 - accuracy: 0.9429 - val_loss: 0.1082 - val_accuracy: 0.9561\n",
      "Epoch 4/100\n",
      "15/15 [==============================] - 0s 7ms/step - loss: 0.1573 - accuracy: 0.9538 - val_loss: 0.1095 - val_accuracy: 0.9561\n",
      "Epoch 5/100\n",
      "15/15 [==============================] - 0s 7ms/step - loss: 0.1350 - accuracy: 0.9429 - val_loss: 0.0868 - val_accuracy: 0.9737\n",
      "Epoch 6/100\n",
      "15/15 [==============================] - 0s 7ms/step - loss: 0.1035 - accuracy: 0.9670 - val_loss: 0.0856 - val_accuracy: 0.9737\n",
      "Epoch 7/100\n",
      "15/15 [==============================] - 0s 7ms/step - loss: 0.0947 - accuracy: 0.9670 - val_loss: 0.0819 - val_accuracy: 0.9737\n",
      "Epoch 8/100\n",
      "15/15 [==============================] - 0s 7ms/step - loss: 0.0738 - accuracy: 0.9736 - val_loss: 0.0741 - val_accuracy: 0.9737\n",
      "Epoch 9/100\n",
      "15/15 [==============================] - 0s 7ms/step - loss: 0.1352 - accuracy: 0.9495 - val_loss: 0.0756 - val_accuracy: 0.9737\n",
      "Epoch 10/100\n",
      "15/15 [==============================] - 0s 7ms/step - loss: 0.1025 - accuracy: 0.9670 - val_loss: 0.0688 - val_accuracy: 0.9825\n",
      "Epoch 11/100\n",
      "15/15 [==============================] - 0s 7ms/step - loss: 0.1794 - accuracy: 0.9319 - val_loss: 0.0712 - val_accuracy: 0.9737\n",
      "Epoch 12/100\n",
      "15/15 [==============================] - 0s 7ms/step - loss: 0.1153 - accuracy: 0.9582 - val_loss: 0.0845 - val_accuracy: 0.9649\n",
      "Epoch 13/100\n",
      "15/15 [==============================] - 0s 7ms/step - loss: 0.1037 - accuracy: 0.9692 - val_loss: 0.0710 - val_accuracy: 0.9737\n",
      "Epoch 14/100\n",
      "15/15 [==============================] - 0s 7ms/step - loss: 0.0909 - accuracy: 0.9626 - val_loss: 0.0692 - val_accuracy: 0.9737\n",
      "Epoch 15/100\n",
      "15/15 [==============================] - 0s 7ms/step - loss: 0.1297 - accuracy: 0.9451 - val_loss: 0.0623 - val_accuracy: 0.9825\n",
      "Epoch 16/100\n",
      "15/15 [==============================] - 0s 8ms/step - loss: 0.1384 - accuracy: 0.9341 - val_loss: 0.0608 - val_accuracy: 0.9737\n",
      "Epoch 17/100\n",
      "15/15 [==============================] - 0s 7ms/step - loss: 0.0899 - accuracy: 0.9714 - val_loss: 0.0641 - val_accuracy: 0.9737\n",
      "Epoch 18/100\n",
      "15/15 [==============================] - 0s 7ms/step - loss: 0.0904 - accuracy: 0.9692 - val_loss: 0.0631 - val_accuracy: 0.9825\n",
      "Epoch 19/100\n",
      "15/15 [==============================] - 0s 8ms/step - loss: 0.1160 - accuracy: 0.9560 - val_loss: 0.0578 - val_accuracy: 0.9737\n",
      "Epoch 20/100\n",
      "15/15 [==============================] - 0s 7ms/step - loss: 0.0928 - accuracy: 0.9714 - val_loss: 0.0539 - val_accuracy: 0.9825\n",
      "Epoch 21/100\n",
      "15/15 [==============================] - 0s 8ms/step - loss: 0.0832 - accuracy: 0.9626 - val_loss: 0.0558 - val_accuracy: 0.9825\n",
      "Epoch 22/100\n",
      "15/15 [==============================] - 0s 8ms/step - loss: 0.1197 - accuracy: 0.9451 - val_loss: 0.0579 - val_accuracy: 0.9737\n",
      "Epoch 23/100\n",
      "15/15 [==============================] - 0s 8ms/step - loss: 0.0892 - accuracy: 0.9736 - val_loss: 0.0586 - val_accuracy: 0.9737\n",
      "Epoch 24/100\n",
      "15/15 [==============================] - 0s 8ms/step - loss: 0.1394 - accuracy: 0.9473 - val_loss: 0.0551 - val_accuracy: 0.9737\n",
      "Epoch 25/100\n",
      "15/15 [==============================] - 0s 8ms/step - loss: 0.1300 - accuracy: 0.9626 - val_loss: 0.0515 - val_accuracy: 0.9737\n",
      "Epoch 26/100\n",
      "15/15 [==============================] - 0s 8ms/step - loss: 0.1096 - accuracy: 0.9582 - val_loss: 0.0558 - val_accuracy: 0.9737\n",
      "Epoch 27/100\n",
      "15/15 [==============================] - 0s 7ms/step - loss: 0.1121 - accuracy: 0.9582 - val_loss: 0.0489 - val_accuracy: 0.9737\n",
      "Epoch 28/100\n",
      "15/15 [==============================] - 0s 7ms/step - loss: 0.0731 - accuracy: 0.9824 - val_loss: 0.0443 - val_accuracy: 0.9825\n",
      "Epoch 29/100\n",
      "15/15 [==============================] - 0s 7ms/step - loss: 0.1258 - accuracy: 0.9582 - val_loss: 0.0410 - val_accuracy: 0.9825\n",
      "Epoch 30/100\n",
      "15/15 [==============================] - 0s 7ms/step - loss: 0.0843 - accuracy: 0.9692 - val_loss: 0.0446 - val_accuracy: 0.9825\n",
      "Epoch 31/100\n",
      "15/15 [==============================] - 0s 7ms/step - loss: 0.0895 - accuracy: 0.9560 - val_loss: 0.0489 - val_accuracy: 0.9825\n",
      "Epoch 32/100\n",
      "15/15 [==============================] - 0s 7ms/step - loss: 0.0901 - accuracy: 0.9626 - val_loss: 0.0511 - val_accuracy: 0.9825\n",
      "Epoch 33/100\n",
      "15/15 [==============================] - 0s 8ms/step - loss: 0.0859 - accuracy: 0.9648 - val_loss: 0.0655 - val_accuracy: 0.9649\n",
      "Epoch 34/100\n",
      "15/15 [==============================] - 0s 7ms/step - loss: 0.0723 - accuracy: 0.9714 - val_loss: 0.0597 - val_accuracy: 0.9737\n",
      "Epoch 35/100\n",
      "15/15 [==============================] - 0s 7ms/step - loss: 0.0940 - accuracy: 0.9714 - val_loss: 0.0571 - val_accuracy: 0.9737\n",
      "Epoch 36/100\n",
      "15/15 [==============================] - 0s 7ms/step - loss: 0.0716 - accuracy: 0.9802 - val_loss: 0.0618 - val_accuracy: 0.9737\n",
      "Epoch 37/100\n",
      "15/15 [==============================] - 0s 8ms/step - loss: 0.0735 - accuracy: 0.9736 - val_loss: 0.0512 - val_accuracy: 0.9737\n",
      "Epoch 38/100\n",
      "15/15 [==============================] - 0s 9ms/step - loss: 0.0975 - accuracy: 0.9670 - val_loss: 0.0446 - val_accuracy: 0.9825\n",
      "Epoch 39/100\n",
      "15/15 [==============================] - 0s 8ms/step - loss: 0.1112 - accuracy: 0.9560 - val_loss: 0.0391 - val_accuracy: 0.9912\n",
      "Epoch 40/100\n",
      "15/15 [==============================] - 0s 7ms/step - loss: 0.0838 - accuracy: 0.9670 - val_loss: 0.0421 - val_accuracy: 0.9825\n",
      "Epoch 41/100\n",
      "15/15 [==============================] - 0s 7ms/step - loss: 0.0885 - accuracy: 0.9758 - val_loss: 0.0456 - val_accuracy: 0.9825\n",
      "Epoch 42/100\n",
      "15/15 [==============================] - 0s 7ms/step - loss: 0.1090 - accuracy: 0.9626 - val_loss: 0.0436 - val_accuracy: 0.9825\n",
      "Epoch 43/100\n",
      "15/15 [==============================] - 0s 7ms/step - loss: 0.1247 - accuracy: 0.9538 - val_loss: 0.0480 - val_accuracy: 0.9825\n",
      "Epoch 44/100\n",
      "15/15 [==============================] - 0s 7ms/step - loss: 0.0838 - accuracy: 0.9648 - val_loss: 0.0454 - val_accuracy: 0.9737\n",
      "Epoch 45/100\n",
      "15/15 [==============================] - 0s 8ms/step - loss: 0.0829 - accuracy: 0.9692 - val_loss: 0.0520 - val_accuracy: 0.9737\n",
      "Epoch 46/100\n",
      "15/15 [==============================] - 0s 8ms/step - loss: 0.1014 - accuracy: 0.9604 - val_loss: 0.0620 - val_accuracy: 0.9737\n",
      "Epoch 47/100\n",
      "15/15 [==============================] - 0s 8ms/step - loss: 0.0698 - accuracy: 0.9736 - val_loss: 0.0536 - val_accuracy: 0.9825\n",
      "Epoch 48/100\n",
      "15/15 [==============================] - 0s 8ms/step - loss: 0.0650 - accuracy: 0.9758 - val_loss: 0.0524 - val_accuracy: 0.9737\n",
      "Epoch 49/100\n",
      "15/15 [==============================] - 0s 8ms/step - loss: 0.0929 - accuracy: 0.9692 - val_loss: 0.0553 - val_accuracy: 0.9737\n",
      "Epoch 50/100\n",
      "15/15 [==============================] - 0s 8ms/step - loss: 0.0798 - accuracy: 0.9736 - val_loss: 0.0511 - val_accuracy: 0.9912\n",
      "Epoch 51/100\n",
      "15/15 [==============================] - 0s 7ms/step - loss: 0.1012 - accuracy: 0.9516 - val_loss: 0.0701 - val_accuracy: 0.9649\n",
      "Epoch 52/100\n",
      "15/15 [==============================] - 0s 7ms/step - loss: 0.0987 - accuracy: 0.9626 - val_loss: 0.0622 - val_accuracy: 0.9649\n",
      "Epoch 53/100\n",
      "15/15 [==============================] - 0s 7ms/step - loss: 0.0811 - accuracy: 0.9626 - val_loss: 0.0670 - val_accuracy: 0.9649\n",
      "Epoch 54/100\n",
      "15/15 [==============================] - 0s 7ms/step - loss: 0.0760 - accuracy: 0.9714 - val_loss: 0.0555 - val_accuracy: 0.9737\n",
      "Epoch 55/100\n",
      "15/15 [==============================] - 0s 8ms/step - loss: 0.0789 - accuracy: 0.9802 - val_loss: 0.0559 - val_accuracy: 0.9737\n",
      "Epoch 56/100\n",
      "15/15 [==============================] - 0s 7ms/step - loss: 0.0666 - accuracy: 0.9714 - val_loss: 0.0543 - val_accuracy: 0.9737\n",
      "Epoch 57/100\n",
      "15/15 [==============================] - 0s 7ms/step - loss: 0.1013 - accuracy: 0.9670 - val_loss: 0.0523 - val_accuracy: 0.9737\n",
      "Epoch 58/100\n",
      "15/15 [==============================] - 0s 7ms/step - loss: 0.0853 - accuracy: 0.9538 - val_loss: 0.0546 - val_accuracy: 0.9737\n",
      "Epoch 59/100\n",
      "15/15 [==============================] - 0s 7ms/step - loss: 0.0967 - accuracy: 0.9604 - val_loss: 0.0521 - val_accuracy: 0.9737\n",
      "Epoch 60/100\n",
      "15/15 [==============================] - 0s 8ms/step - loss: 0.0625 - accuracy: 0.9802 - val_loss: 0.0525 - val_accuracy: 0.9737\n",
      "Epoch 61/100\n",
      "15/15 [==============================] - 0s 7ms/step - loss: 0.0828 - accuracy: 0.9758 - val_loss: 0.0531 - val_accuracy: 0.9649\n",
      "Epoch 62/100\n",
      "15/15 [==============================] - 0s 7ms/step - loss: 0.0844 - accuracy: 0.9648 - val_loss: 0.0525 - val_accuracy: 0.9649\n",
      "Epoch 63/100\n",
      "15/15 [==============================] - 0s 7ms/step - loss: 0.0858 - accuracy: 0.9692 - val_loss: 0.0504 - val_accuracy: 0.9825\n",
      "Epoch 64/100\n",
      "15/15 [==============================] - 0s 8ms/step - loss: 0.1227 - accuracy: 0.9560 - val_loss: 0.0528 - val_accuracy: 0.9737\n",
      "Epoch 65/100\n",
      "15/15 [==============================] - 0s 7ms/step - loss: 0.0927 - accuracy: 0.9626 - val_loss: 0.0540 - val_accuracy: 0.9737\n",
      "Epoch 66/100\n",
      "15/15 [==============================] - 0s 8ms/step - loss: 0.0819 - accuracy: 0.9604 - val_loss: 0.0559 - val_accuracy: 0.9649\n",
      "Epoch 67/100\n",
      "15/15 [==============================] - 0s 8ms/step - loss: 0.0616 - accuracy: 0.9802 - val_loss: 0.0568 - val_accuracy: 0.9649\n",
      "Epoch 68/100\n",
      "15/15 [==============================] - 0s 7ms/step - loss: 0.0899 - accuracy: 0.9714 - val_loss: 0.0550 - val_accuracy: 0.9649\n",
      "Epoch 69/100\n",
      "15/15 [==============================] - 0s 8ms/step - loss: 0.0650 - accuracy: 0.9802 - val_loss: 0.0537 - val_accuracy: 0.9825\n",
      "Epoch 70/100\n",
      "15/15 [==============================] - 0s 7ms/step - loss: 0.0503 - accuracy: 0.9846 - val_loss: 0.0546 - val_accuracy: 0.9737\n",
      "Epoch 71/100\n",
      "15/15 [==============================] - 0s 7ms/step - loss: 0.0689 - accuracy: 0.9736 - val_loss: 0.0485 - val_accuracy: 0.9825\n",
      "Epoch 72/100\n",
      "15/15 [==============================] - 0s 8ms/step - loss: 0.0752 - accuracy: 0.9714 - val_loss: 0.0541 - val_accuracy: 0.9737\n",
      "Epoch 73/100\n",
      "15/15 [==============================] - 0s 8ms/step - loss: 0.0769 - accuracy: 0.9648 - val_loss: 0.0608 - val_accuracy: 0.9737\n",
      "Epoch 74/100\n",
      "15/15 [==============================] - 0s 7ms/step - loss: 0.0827 - accuracy: 0.9648 - val_loss: 0.0594 - val_accuracy: 0.9649\n",
      "Epoch 75/100\n",
      "15/15 [==============================] - 0s 7ms/step - loss: 0.0649 - accuracy: 0.9758 - val_loss: 0.0597 - val_accuracy: 0.9649\n",
      "Epoch 76/100\n",
      "15/15 [==============================] - 0s 8ms/step - loss: 0.0577 - accuracy: 0.9802 - val_loss: 0.0567 - val_accuracy: 0.9737\n",
      "Epoch 77/100\n",
      "15/15 [==============================] - 0s 8ms/step - loss: 0.1005 - accuracy: 0.9626 - val_loss: 0.0522 - val_accuracy: 0.9737\n",
      "Epoch 78/100\n",
      "15/15 [==============================] - 0s 7ms/step - loss: 0.0703 - accuracy: 0.9714 - val_loss: 0.0529 - val_accuracy: 0.9737\n",
      "Epoch 79/100\n",
      "15/15 [==============================] - 0s 7ms/step - loss: 0.0667 - accuracy: 0.9714 - val_loss: 0.0568 - val_accuracy: 0.9649\n",
      "Epoch 80/100\n",
      "15/15 [==============================] - 0s 7ms/step - loss: 0.0515 - accuracy: 0.9890 - val_loss: 0.0583 - val_accuracy: 0.9561\n",
      "Epoch 81/100\n",
      "15/15 [==============================] - 0s 7ms/step - loss: 0.0442 - accuracy: 0.9824 - val_loss: 0.0571 - val_accuracy: 0.9649\n",
      "Epoch 82/100\n",
      "15/15 [==============================] - 0s 7ms/step - loss: 0.0460 - accuracy: 0.9802 - val_loss: 0.0567 - val_accuracy: 0.9561\n",
      "Epoch 83/100\n",
      "15/15 [==============================] - 0s 8ms/step - loss: 0.0712 - accuracy: 0.9824 - val_loss: 0.0537 - val_accuracy: 0.9825\n",
      "Epoch 84/100\n",
      "15/15 [==============================] - 0s 7ms/step - loss: 0.1083 - accuracy: 0.9516 - val_loss: 0.0534 - val_accuracy: 0.9737\n",
      "Epoch 85/100\n",
      "15/15 [==============================] - 0s 7ms/step - loss: 0.0732 - accuracy: 0.9714 - val_loss: 0.0515 - val_accuracy: 0.9737\n",
      "Epoch 86/100\n",
      "15/15 [==============================] - 0s 7ms/step - loss: 0.0606 - accuracy: 0.9758 - val_loss: 0.0555 - val_accuracy: 0.9649\n",
      "Epoch 87/100\n",
      "15/15 [==============================] - 0s 7ms/step - loss: 0.0343 - accuracy: 0.9912 - val_loss: 0.0610 - val_accuracy: 0.9649\n",
      "Epoch 88/100\n",
      "15/15 [==============================] - 0s 8ms/step - loss: 0.0514 - accuracy: 0.9802 - val_loss: 0.0583 - val_accuracy: 0.9649\n",
      "Epoch 89/100\n",
      "15/15 [==============================] - 0s 7ms/step - loss: 0.0577 - accuracy: 0.9758 - val_loss: 0.0592 - val_accuracy: 0.9737\n",
      "Epoch 90/100\n",
      "15/15 [==============================] - 0s 7ms/step - loss: 0.0799 - accuracy: 0.9714 - val_loss: 0.0605 - val_accuracy: 0.9737\n",
      "Epoch 91/100\n",
      "15/15 [==============================] - 0s 7ms/step - loss: 0.0636 - accuracy: 0.9802 - val_loss: 0.0593 - val_accuracy: 0.9737\n",
      "Epoch 92/100\n",
      "15/15 [==============================] - 0s 7ms/step - loss: 0.0569 - accuracy: 0.9780 - val_loss: 0.0544 - val_accuracy: 0.9737\n",
      "Epoch 93/100\n",
      "15/15 [==============================] - 0s 7ms/step - loss: 0.0725 - accuracy: 0.9648 - val_loss: 0.0584 - val_accuracy: 0.9825\n",
      "Epoch 94/100\n",
      "15/15 [==============================] - 0s 7ms/step - loss: 0.0763 - accuracy: 0.9714 - val_loss: 0.0656 - val_accuracy: 0.9737\n",
      "Epoch 95/100\n",
      "15/15 [==============================] - 0s 7ms/step - loss: 0.0585 - accuracy: 0.9824 - val_loss: 0.0654 - val_accuracy: 0.9737\n",
      "Epoch 96/100\n",
      "15/15 [==============================] - 0s 7ms/step - loss: 0.0751 - accuracy: 0.9736 - val_loss: 0.0621 - val_accuracy: 0.9737\n",
      "Epoch 97/100\n",
      "15/15 [==============================] - 0s 8ms/step - loss: 0.0569 - accuracy: 0.9780 - val_loss: 0.0606 - val_accuracy: 0.9737\n",
      "Epoch 98/100\n",
      "15/15 [==============================] - 0s 8ms/step - loss: 0.0454 - accuracy: 0.9802 - val_loss: 0.0595 - val_accuracy: 0.9737\n",
      "Epoch 99/100\n",
      "15/15 [==============================] - 0s 8ms/step - loss: 0.0598 - accuracy: 0.9780 - val_loss: 0.0567 - val_accuracy: 0.9649\n",
      "Epoch 100/100\n",
      "15/15 [==============================] - 0s 7ms/step - loss: 0.1057 - accuracy: 0.9626 - val_loss: 0.0565 - val_accuracy: 0.9737\n"
     ]
    }
   ],
   "source": [
    "historyRFE = modelRFE.fit(X_train_RFE, y_train, epochs = 100, validation_data=(X_test_RFE, y_test), verbose = 1)"
   ]
  },
  {
   "cell_type": "code",
   "execution_count": 65,
   "metadata": {
    "colab": {
     "base_uri": "https://localhost:8080/",
     "height": 573
    },
    "colab_type": "code",
    "id": "c7zFBDK8Yqd4",
    "outputId": "c83e548a-bbc4-441b-9103-84646002ce39"
   },
   "outputs": [
    {
     "data": {
      "image/png": "[encoded data removed]",
      "text/plain": [
       "<Figure size 432x288 with 1 Axes>"
      ]
     },
     "metadata": {
      "needs_background": "light",
      "tags": []
     },
     "output_type": "display_data"
    },
    {
     "data": {
      "image/png": "[encoded data removed]",
      "text/plain": [
       "<Figure size 432x288 with 1 Axes>"
      ]
     },
     "metadata": {
      "needs_background": "light",
      "tags": []
     },
     "output_type": "display_data"
    }
   ],
   "source": [
    "plotLC(historyRFE, 100)"
   ]
  },
  {
   "cell_type": "code",
   "execution_count": 67,
   "metadata": {
    "colab": {
     "base_uri": "https://localhost:8080/",
     "height": 187
    },
    "colab_type": "code",
    "id": "RGzaE2MOk7iU",
    "outputId": "391c0f1f-3fdf-4e8a-e9f1-cf836d5b0473"
   },
   "outputs": [
    {
     "name": "stdout",
     "output_type": "stream",
     "text": [
      "Convolutional Neural Network\n",
      "\n",
      "[[67  0]\n",
      " [ 3 44]]\n",
      "\n",
      "Accuracy Score:    0.9736842105263158\n",
      "Precision Score:   1.0\n",
      "Recall Score:      0.9361702127659575\n",
      "Kappa Score:       0.9451747354921449\n",
      "F1 Score:          0.967032967032967\n"
     ]
    }
   ],
   "source": [
    "CNNMetrics(modelRFE, X_test_RFE, y_test)"
   ]
  },
  {
   "cell_type": "markdown",
   "metadata": {
    "colab_type": "text",
    "id": "PvZfPa56OFuS"
   },
   "source": [
    "CNN using LASSO (L1) selected Features"
   ]
  },
  {
   "cell_type": "code",
   "execution_count": 0,
   "metadata": {
    "colab": {},
    "colab_type": "code",
    "id": "fIRZrBpCgOKb"
   },
   "outputs": [],
   "source": [
    "modelL1 = CNN(15, 100)"
   ]
  },
  {
   "cell_type": "code",
   "execution_count": 69,
   "metadata": {
    "colab": {
     "base_uri": "https://localhost:8080/",
     "height": 1000
    },
    "colab_type": "code",
    "id": "LsouCzNfhJJF",
    "outputId": "cb79c93b-fa2b-4da9-ac25-e4ddb9d02b04"
   },
   "outputs": [
    {
     "name": "stdout",
     "output_type": "stream",
     "text": [
      "Epoch 1/100\n",
      "15/15 [==============================] - 0s 16ms/step - loss: 0.2917 - accuracy: 0.8571 - val_loss: 0.1241 - val_accuracy: 0.9211\n",
      "Epoch 2/100\n",
      "15/15 [==============================] - 0s 8ms/step - loss: 0.1489 - accuracy: 0.9582 - val_loss: 0.0950 - val_accuracy: 0.9649\n",
      "Epoch 3/100\n",
      "15/15 [==============================] - 0s 7ms/step - loss: 0.0879 - accuracy: 0.9648 - val_loss: 0.0952 - val_accuracy: 0.9649\n",
      "Epoch 4/100\n",
      "15/15 [==============================] - 0s 7ms/step - loss: 0.1140 - accuracy: 0.9516 - val_loss: 0.1025 - val_accuracy: 0.9561\n",
      "Epoch 5/100\n",
      "15/15 [==============================] - 0s 7ms/step - loss: 0.1190 - accuracy: 0.9604 - val_loss: 0.0959 - val_accuracy: 0.9649\n",
      "Epoch 6/100\n",
      "15/15 [==============================] - 0s 7ms/step - loss: 0.1132 - accuracy: 0.9648 - val_loss: 0.1129 - val_accuracy: 0.9474\n",
      "Epoch 7/100\n",
      "15/15 [==============================] - 0s 7ms/step - loss: 0.0899 - accuracy: 0.9648 - val_loss: 0.1008 - val_accuracy: 0.9474\n",
      "Epoch 8/100\n",
      "15/15 [==============================] - 0s 8ms/step - loss: 0.1007 - accuracy: 0.9626 - val_loss: 0.0697 - val_accuracy: 0.9649\n",
      "Epoch 9/100\n",
      "15/15 [==============================] - 0s 7ms/step - loss: 0.1018 - accuracy: 0.9648 - val_loss: 0.0842 - val_accuracy: 0.9649\n",
      "Epoch 10/100\n",
      "15/15 [==============================] - 0s 7ms/step - loss: 0.0932 - accuracy: 0.9582 - val_loss: 0.1006 - val_accuracy: 0.9474\n",
      "Epoch 11/100\n",
      "15/15 [==============================] - 0s 8ms/step - loss: 0.1065 - accuracy: 0.9582 - val_loss: 0.0949 - val_accuracy: 0.9649\n",
      "Epoch 12/100\n",
      "15/15 [==============================] - 0s 7ms/step - loss: 0.1227 - accuracy: 0.9626 - val_loss: 0.0835 - val_accuracy: 0.9649\n",
      "Epoch 13/100\n",
      "15/15 [==============================] - 0s 8ms/step - loss: 0.1235 - accuracy: 0.9516 - val_loss: 0.1016 - val_accuracy: 0.9474\n",
      "Epoch 14/100\n",
      "15/15 [==============================] - 0s 7ms/step - loss: 0.1049 - accuracy: 0.9626 - val_loss: 0.0937 - val_accuracy: 0.9737\n",
      "Epoch 15/100\n",
      "15/15 [==============================] - 0s 7ms/step - loss: 0.1194 - accuracy: 0.9560 - val_loss: 0.0897 - val_accuracy: 0.9649\n",
      "Epoch 16/100\n",
      "15/15 [==============================] - 0s 7ms/step - loss: 0.0906 - accuracy: 0.9692 - val_loss: 0.1038 - val_accuracy: 0.9561\n",
      "Epoch 17/100\n",
      "15/15 [==============================] - 0s 7ms/step - loss: 0.1050 - accuracy: 0.9648 - val_loss: 0.1054 - val_accuracy: 0.9561\n",
      "Epoch 18/100\n",
      "15/15 [==============================] - 0s 7ms/step - loss: 0.0799 - accuracy: 0.9670 - val_loss: 0.0875 - val_accuracy: 0.9649\n",
      "Epoch 19/100\n",
      "15/15 [==============================] - 0s 7ms/step - loss: 0.0969 - accuracy: 0.9604 - val_loss: 0.0913 - val_accuracy: 0.9737\n",
      "Epoch 20/100\n",
      "15/15 [==============================] - 0s 7ms/step - loss: 0.1297 - accuracy: 0.9473 - val_loss: 0.0741 - val_accuracy: 0.9825\n",
      "Epoch 21/100\n",
      "15/15 [==============================] - 0s 7ms/step - loss: 0.0828 - accuracy: 0.9670 - val_loss: 0.0864 - val_accuracy: 0.9737\n",
      "Epoch 22/100\n",
      "15/15 [==============================] - 0s 7ms/step - loss: 0.0517 - accuracy: 0.9780 - val_loss: 0.0840 - val_accuracy: 0.9649\n",
      "Epoch 23/100\n",
      "15/15 [==============================] - 0s 7ms/step - loss: 0.0807 - accuracy: 0.9802 - val_loss: 0.0741 - val_accuracy: 0.9649\n",
      "Epoch 24/100\n",
      "15/15 [==============================] - 0s 7ms/step - loss: 0.0985 - accuracy: 0.9626 - val_loss: 0.0632 - val_accuracy: 0.9737\n",
      "Epoch 25/100\n",
      "15/15 [==============================] - 0s 7ms/step - loss: 0.1071 - accuracy: 0.9582 - val_loss: 0.0677 - val_accuracy: 0.9649\n",
      "Epoch 26/100\n",
      "15/15 [==============================] - 0s 7ms/step - loss: 0.0812 - accuracy: 0.9670 - val_loss: 0.0652 - val_accuracy: 0.9825\n",
      "Epoch 27/100\n",
      "15/15 [==============================] - 0s 7ms/step - loss: 0.0684 - accuracy: 0.9736 - val_loss: 0.0624 - val_accuracy: 0.9737\n",
      "Epoch 28/100\n",
      "15/15 [==============================] - 0s 7ms/step - loss: 0.1048 - accuracy: 0.9560 - val_loss: 0.0658 - val_accuracy: 0.9649\n",
      "Epoch 29/100\n",
      "15/15 [==============================] - 0s 7ms/step - loss: 0.0773 - accuracy: 0.9758 - val_loss: 0.0755 - val_accuracy: 0.9561\n",
      "Epoch 30/100\n",
      "15/15 [==============================] - 0s 7ms/step - loss: 0.0897 - accuracy: 0.9670 - val_loss: 0.0944 - val_accuracy: 0.9561\n",
      "Epoch 31/100\n",
      "15/15 [==============================] - 0s 7ms/step - loss: 0.0775 - accuracy: 0.9736 - val_loss: 0.0861 - val_accuracy: 0.9561\n",
      "Epoch 32/100\n",
      "15/15 [==============================] - 0s 8ms/step - loss: 0.0458 - accuracy: 0.9890 - val_loss: 0.0842 - val_accuracy: 0.9561\n",
      "Epoch 33/100\n",
      "15/15 [==============================] - 0s 8ms/step - loss: 0.0472 - accuracy: 0.9824 - val_loss: 0.0808 - val_accuracy: 0.9561\n",
      "Epoch 34/100\n",
      "15/15 [==============================] - 0s 7ms/step - loss: 0.0572 - accuracy: 0.9780 - val_loss: 0.0798 - val_accuracy: 0.9561\n",
      "Epoch 35/100\n",
      "15/15 [==============================] - 0s 7ms/step - loss: 0.0865 - accuracy: 0.9692 - val_loss: 0.0714 - val_accuracy: 0.9737\n",
      "Epoch 36/100\n",
      "15/15 [==============================] - 0s 7ms/step - loss: 0.0788 - accuracy: 0.9758 - val_loss: 0.0882 - val_accuracy: 0.9561\n",
      "Epoch 37/100\n",
      "15/15 [==============================] - 0s 7ms/step - loss: 0.0702 - accuracy: 0.9670 - val_loss: 0.0880 - val_accuracy: 0.9561\n",
      "Epoch 38/100\n",
      "15/15 [==============================] - 0s 7ms/step - loss: 0.0811 - accuracy: 0.9648 - val_loss: 0.0794 - val_accuracy: 0.9649\n",
      "Epoch 39/100\n",
      "15/15 [==============================] - 0s 7ms/step - loss: 0.0635 - accuracy: 0.9824 - val_loss: 0.0805 - val_accuracy: 0.9561\n",
      "Epoch 40/100\n",
      "15/15 [==============================] - 0s 7ms/step - loss: 0.0838 - accuracy: 0.9670 - val_loss: 0.0826 - val_accuracy: 0.9561\n",
      "Epoch 41/100\n",
      "15/15 [==============================] - 0s 7ms/step - loss: 0.1099 - accuracy: 0.9648 - val_loss: 0.0912 - val_accuracy: 0.9649\n",
      "Epoch 42/100\n",
      "15/15 [==============================] - 0s 7ms/step - loss: 0.0705 - accuracy: 0.9648 - val_loss: 0.0969 - val_accuracy: 0.9561\n",
      "Epoch 43/100\n",
      "15/15 [==============================] - 0s 7ms/step - loss: 0.0831 - accuracy: 0.9736 - val_loss: 0.0799 - val_accuracy: 0.9561\n",
      "Epoch 44/100\n",
      "15/15 [==============================] - 0s 7ms/step - loss: 0.0855 - accuracy: 0.9670 - val_loss: 0.1033 - val_accuracy: 0.9386\n",
      "Epoch 45/100\n",
      "15/15 [==============================] - 0s 7ms/step - loss: 0.0879 - accuracy: 0.9626 - val_loss: 0.0933 - val_accuracy: 0.9561\n",
      "Epoch 46/100\n",
      "15/15 [==============================] - 0s 7ms/step - loss: 0.0746 - accuracy: 0.9736 - val_loss: 0.1004 - val_accuracy: 0.9561\n",
      "Epoch 47/100\n",
      "15/15 [==============================] - 0s 7ms/step - loss: 0.0714 - accuracy: 0.9758 - val_loss: 0.0841 - val_accuracy: 0.9649\n",
      "Epoch 48/100\n",
      "15/15 [==============================] - 0s 7ms/step - loss: 0.0904 - accuracy: 0.9692 - val_loss: 0.0928 - val_accuracy: 0.9561\n",
      "Epoch 49/100\n",
      "15/15 [==============================] - 0s 7ms/step - loss: 0.0812 - accuracy: 0.9670 - val_loss: 0.0884 - val_accuracy: 0.9561\n",
      "Epoch 50/100\n",
      "15/15 [==============================] - 0s 7ms/step - loss: 0.0911 - accuracy: 0.9648 - val_loss: 0.1003 - val_accuracy: 0.9561\n",
      "Epoch 51/100\n",
      "15/15 [==============================] - 0s 7ms/step - loss: 0.0578 - accuracy: 0.9802 - val_loss: 0.0916 - val_accuracy: 0.9561\n",
      "Epoch 52/100\n",
      "15/15 [==============================] - 0s 7ms/step - loss: 0.0650 - accuracy: 0.9758 - val_loss: 0.0838 - val_accuracy: 0.9561\n",
      "Epoch 53/100\n",
      "15/15 [==============================] - 0s 7ms/step - loss: 0.0680 - accuracy: 0.9714 - val_loss: 0.0816 - val_accuracy: 0.9561\n",
      "Epoch 54/100\n",
      "15/15 [==============================] - 0s 6ms/step - loss: 0.0481 - accuracy: 0.9868 - val_loss: 0.0766 - val_accuracy: 0.9649\n",
      "Epoch 55/100\n",
      "15/15 [==============================] - 0s 7ms/step - loss: 0.0498 - accuracy: 0.9802 - val_loss: 0.0796 - val_accuracy: 0.9561\n",
      "Epoch 56/100\n",
      "15/15 [==============================] - 0s 6ms/step - loss: 0.0669 - accuracy: 0.9758 - val_loss: 0.0839 - val_accuracy: 0.9649\n",
      "Epoch 57/100\n",
      "15/15 [==============================] - 0s 7ms/step - loss: 0.1006 - accuracy: 0.9648 - val_loss: 0.0746 - val_accuracy: 0.9649\n",
      "Epoch 58/100\n",
      "15/15 [==============================] - 0s 7ms/step - loss: 0.1091 - accuracy: 0.9604 - val_loss: 0.0812 - val_accuracy: 0.9561\n",
      "Epoch 59/100\n",
      "15/15 [==============================] - 0s 7ms/step - loss: 0.0785 - accuracy: 0.9692 - val_loss: 0.0875 - val_accuracy: 0.9561\n",
      "Epoch 60/100\n",
      "15/15 [==============================] - 0s 7ms/step - loss: 0.0607 - accuracy: 0.9780 - val_loss: 0.0912 - val_accuracy: 0.9561\n",
      "Epoch 61/100\n",
      "15/15 [==============================] - 0s 7ms/step - loss: 0.0876 - accuracy: 0.9648 - val_loss: 0.0906 - val_accuracy: 0.9561\n",
      "Epoch 62/100\n",
      "15/15 [==============================] - 0s 7ms/step - loss: 0.0751 - accuracy: 0.9670 - val_loss: 0.0934 - val_accuracy: 0.9561\n",
      "Epoch 63/100\n",
      "15/15 [==============================] - 0s 7ms/step - loss: 0.0885 - accuracy: 0.9670 - val_loss: 0.0865 - val_accuracy: 0.9649\n",
      "Epoch 64/100\n",
      "15/15 [==============================] - 0s 7ms/step - loss: 0.0704 - accuracy: 0.9758 - val_loss: 0.0826 - val_accuracy: 0.9561\n",
      "Epoch 65/100\n",
      "15/15 [==============================] - 0s 7ms/step - loss: 0.0479 - accuracy: 0.9780 - val_loss: 0.0890 - val_accuracy: 0.9649\n",
      "Epoch 66/100\n",
      "15/15 [==============================] - 0s 7ms/step - loss: 0.0680 - accuracy: 0.9780 - val_loss: 0.0789 - val_accuracy: 0.9649\n",
      "Epoch 67/100\n",
      "15/15 [==============================] - 0s 7ms/step - loss: 0.0620 - accuracy: 0.9802 - val_loss: 0.0766 - val_accuracy: 0.9649\n",
      "Epoch 68/100\n",
      "15/15 [==============================] - 0s 7ms/step - loss: 0.0630 - accuracy: 0.9758 - val_loss: 0.0830 - val_accuracy: 0.9649\n",
      "Epoch 69/100\n",
      "15/15 [==============================] - 0s 7ms/step - loss: 0.0562 - accuracy: 0.9758 - val_loss: 0.0898 - val_accuracy: 0.9561\n",
      "Epoch 70/100\n",
      "15/15 [==============================] - 0s 7ms/step - loss: 0.1045 - accuracy: 0.9582 - val_loss: 0.0863 - val_accuracy: 0.9561\n",
      "Epoch 71/100\n",
      "15/15 [==============================] - 0s 7ms/step - loss: 0.0918 - accuracy: 0.9670 - val_loss: 0.0754 - val_accuracy: 0.9649\n",
      "Epoch 72/100\n",
      "15/15 [==============================] - 0s 7ms/step - loss: 0.0921 - accuracy: 0.9670 - val_loss: 0.0732 - val_accuracy: 0.9561\n",
      "Epoch 73/100\n",
      "15/15 [==============================] - 0s 7ms/step - loss: 0.0487 - accuracy: 0.9846 - val_loss: 0.0731 - val_accuracy: 0.9561\n",
      "Epoch 74/100\n",
      "15/15 [==============================] - 0s 7ms/step - loss: 0.0344 - accuracy: 0.9890 - val_loss: 0.0750 - val_accuracy: 0.9561\n",
      "Epoch 75/100\n",
      "15/15 [==============================] - 0s 7ms/step - loss: 0.0432 - accuracy: 0.9912 - val_loss: 0.0804 - val_accuracy: 0.9561\n",
      "Epoch 76/100\n",
      "15/15 [==============================] - 0s 7ms/step - loss: 0.0333 - accuracy: 0.9890 - val_loss: 0.0800 - val_accuracy: 0.9561\n",
      "Epoch 77/100\n",
      "15/15 [==============================] - 0s 7ms/step - loss: 0.0560 - accuracy: 0.9802 - val_loss: 0.0804 - val_accuracy: 0.9561\n",
      "Epoch 78/100\n",
      "15/15 [==============================] - 0s 7ms/step - loss: 0.0566 - accuracy: 0.9758 - val_loss: 0.1001 - val_accuracy: 0.9561\n",
      "Epoch 79/100\n",
      "15/15 [==============================] - 0s 7ms/step - loss: 0.0593 - accuracy: 0.9736 - val_loss: 0.0957 - val_accuracy: 0.9561\n",
      "Epoch 80/100\n",
      "15/15 [==============================] - 0s 7ms/step - loss: 0.0613 - accuracy: 0.9758 - val_loss: 0.0917 - val_accuracy: 0.9561\n",
      "Epoch 81/100\n",
      "15/15 [==============================] - 0s 7ms/step - loss: 0.0642 - accuracy: 0.9758 - val_loss: 0.0900 - val_accuracy: 0.9561\n",
      "Epoch 82/100\n",
      "15/15 [==============================] - 0s 7ms/step - loss: 0.0716 - accuracy: 0.9714 - val_loss: 0.0977 - val_accuracy: 0.9561\n",
      "Epoch 83/100\n",
      "15/15 [==============================] - 0s 7ms/step - loss: 0.0581 - accuracy: 0.9802 - val_loss: 0.0993 - val_accuracy: 0.9561\n",
      "Epoch 84/100\n",
      "15/15 [==============================] - 0s 7ms/step - loss: 0.0599 - accuracy: 0.9824 - val_loss: 0.1156 - val_accuracy: 0.9386\n",
      "Epoch 85/100\n",
      "15/15 [==============================] - 0s 7ms/step - loss: 0.0529 - accuracy: 0.9780 - val_loss: 0.1149 - val_accuracy: 0.9474\n",
      "Epoch 86/100\n",
      "15/15 [==============================] - 0s 7ms/step - loss: 0.0621 - accuracy: 0.9714 - val_loss: 0.1031 - val_accuracy: 0.9561\n",
      "Epoch 87/100\n",
      "15/15 [==============================] - 0s 7ms/step - loss: 0.0558 - accuracy: 0.9780 - val_loss: 0.0993 - val_accuracy: 0.9561\n",
      "Epoch 88/100\n",
      "15/15 [==============================] - 0s 7ms/step - loss: 0.0701 - accuracy: 0.9758 - val_loss: 0.0908 - val_accuracy: 0.9561\n",
      "Epoch 89/100\n",
      "15/15 [==============================] - 0s 17ms/step - loss: 0.0491 - accuracy: 0.9802 - val_loss: 0.0896 - val_accuracy: 0.9561\n",
      "Epoch 90/100\n",
      "15/15 [==============================] - 0s 8ms/step - loss: 0.0509 - accuracy: 0.9824 - val_loss: 0.0886 - val_accuracy: 0.9561\n",
      "Epoch 91/100\n",
      "15/15 [==============================] - 0s 7ms/step - loss: 0.0558 - accuracy: 0.9802 - val_loss: 0.0862 - val_accuracy: 0.9561\n",
      "Epoch 92/100\n",
      "15/15 [==============================] - 0s 7ms/step - loss: 0.0422 - accuracy: 0.9802 - val_loss: 0.0870 - val_accuracy: 0.9561\n",
      "Epoch 93/100\n",
      "15/15 [==============================] - 0s 7ms/step - loss: 0.0601 - accuracy: 0.9824 - val_loss: 0.0880 - val_accuracy: 0.9561\n",
      "Epoch 94/100\n",
      "15/15 [==============================] - 0s 7ms/step - loss: 0.0394 - accuracy: 0.9846 - val_loss: 0.0775 - val_accuracy: 0.9561\n",
      "Epoch 95/100\n",
      "15/15 [==============================] - 0s 7ms/step - loss: 0.0834 - accuracy: 0.9692 - val_loss: 0.0803 - val_accuracy: 0.9649\n",
      "Epoch 96/100\n",
      "15/15 [==============================] - 0s 7ms/step - loss: 0.0513 - accuracy: 0.9824 - val_loss: 0.0937 - val_accuracy: 0.9474\n",
      "Epoch 97/100\n",
      "15/15 [==============================] - 0s 7ms/step - loss: 0.1040 - accuracy: 0.9648 - val_loss: 0.1124 - val_accuracy: 0.9649\n",
      "Epoch 98/100\n",
      "15/15 [==============================] - 0s 7ms/step - loss: 0.0744 - accuracy: 0.9670 - val_loss: 0.0861 - val_accuracy: 0.9649\n",
      "Epoch 99/100\n",
      "15/15 [==============================] - 0s 7ms/step - loss: 0.0543 - accuracy: 0.9758 - val_loss: 0.0781 - val_accuracy: 0.9561\n",
      "Epoch 100/100\n",
      "15/15 [==============================] - 0s 7ms/step - loss: 0.0414 - accuracy: 0.9868 - val_loss: 0.0706 - val_accuracy: 0.9561\n"
     ]
    }
   ],
   "source": [
    "historyL1 = modelL1.fit(X_train_L1, y_train, epochs = 100, validation_data=(X_test_L1, y_test), verbose = 1)"
   ]
  },
  {
   "cell_type": "code",
   "execution_count": 70,
   "metadata": {
    "colab": {
     "base_uri": "https://localhost:8080/",
     "height": 573
    },
    "colab_type": "code",
    "id": "Iq4vI3LohTV0",
    "outputId": "8bfb7a75-a565-4ff4-c36e-16fea1cdc4cc"
   },
   "outputs": [
    {
     "data": {
      "image/png": "[encoded data removed]",
      "text/plain": [
       "<Figure size 432x288 with 1 Axes>"
      ]
     },
     "metadata": {
      "needs_background": "light",
      "tags": []
     },
     "output_type": "display_data"
    },
    {
     "data": {
      "image/png": "[encoded data removed]",
      "text/plain": [
       "<Figure size 432x288 with 1 Axes>"
      ]
     },
     "metadata": {
      "needs_background": "light",
      "tags": []
     },
     "output_type": "display_data"
    }
   ],
   "source": [
    "plotLC(historyL1, 100)"
   ]
  },
  {
   "cell_type": "code",
   "execution_count": 71,
   "metadata": {
    "colab": {
     "base_uri": "https://localhost:8080/",
     "height": 187
    },
    "colab_type": "code",
    "id": "NI96CRqolJ-X",
    "outputId": "62c04777-95c1-425d-9adf-c8372fcd3404"
   },
   "outputs": [
    {
     "name": "stdout",
     "output_type": "stream",
     "text": [
      "Convolutional Neural Network\n",
      "\n",
      "[[65  2]\n",
      " [ 3 44]]\n",
      "\n",
      "Accuracy Score:    0.956140350877193\n",
      "Precision Score:   0.9565217391304348\n",
      "Recall Score:      0.9361702127659575\n",
      "Kappa Score:       0.9092067537432303\n",
      "F1 Score:          0.9462365591397849\n"
     ]
    }
   ],
   "source": [
    "CNNMetrics(modelL1, X_test_L1, y_test)"
   ]
  },
  {
   "cell_type": "markdown",
   "metadata": {
    "colab_type": "text",
    "id": "TDkSSbG3OKez"
   },
   "source": [
    "CNN using ETC selected Features"
   ]
  },
  {
   "cell_type": "code",
   "execution_count": 0,
   "metadata": {
    "colab": {},
    "colab_type": "code",
    "id": "DRNSQfRDhT3O"
   },
   "outputs": [],
   "source": [
    "modelETC = CNN(11, 100)"
   ]
  },
  {
   "cell_type": "code",
   "execution_count": 73,
   "metadata": {
    "colab": {
     "base_uri": "https://localhost:8080/",
     "height": 1000
    },
    "colab_type": "code",
    "id": "aKeVNLOAhrr-",
    "outputId": "07dd44cc-f5a9-43b4-ddb7-86b2e3b9950f"
   },
   "outputs": [
    {
     "name": "stdout",
     "output_type": "stream",
     "text": [
      "Epoch 1/100\n",
      "15/15 [==============================] - 0s 14ms/step - loss: 0.3782 - accuracy: 0.8549 - val_loss: 0.1513 - val_accuracy: 0.9386\n",
      "Epoch 2/100\n",
      "15/15 [==============================] - 0s 6ms/step - loss: 0.2205 - accuracy: 0.9297 - val_loss: 0.1966 - val_accuracy: 0.9474\n",
      "Epoch 3/100\n",
      "15/15 [==============================] - 0s 6ms/step - loss: 0.2280 - accuracy: 0.9231 - val_loss: 0.2571 - val_accuracy: 0.9386\n",
      "Epoch 4/100\n",
      "15/15 [==============================] - 0s 6ms/step - loss: 0.2024 - accuracy: 0.9253 - val_loss: 0.1885 - val_accuracy: 0.9474\n",
      "Epoch 5/100\n",
      "15/15 [==============================] - 0s 7ms/step - loss: 0.1798 - accuracy: 0.9319 - val_loss: 0.2004 - val_accuracy: 0.9298\n",
      "Epoch 6/100\n",
      "15/15 [==============================] - 0s 6ms/step - loss: 0.1713 - accuracy: 0.9319 - val_loss: 0.1798 - val_accuracy: 0.9386\n",
      "Epoch 7/100\n",
      "15/15 [==============================] - 0s 6ms/step - loss: 0.1769 - accuracy: 0.9429 - val_loss: 0.1862 - val_accuracy: 0.9298\n",
      "Epoch 8/100\n",
      "15/15 [==============================] - 0s 6ms/step - loss: 0.1341 - accuracy: 0.9495 - val_loss: 0.1931 - val_accuracy: 0.9298\n",
      "Epoch 9/100\n",
      "15/15 [==============================] - 0s 6ms/step - loss: 0.1478 - accuracy: 0.9582 - val_loss: 0.1639 - val_accuracy: 0.9298\n",
      "Epoch 10/100\n",
      "15/15 [==============================] - 0s 6ms/step - loss: 0.1816 - accuracy: 0.9385 - val_loss: 0.1636 - val_accuracy: 0.9298\n",
      "Epoch 11/100\n",
      "15/15 [==============================] - 0s 7ms/step - loss: 0.1645 - accuracy: 0.9363 - val_loss: 0.1574 - val_accuracy: 0.9298\n",
      "Epoch 12/100\n",
      "15/15 [==============================] - 0s 6ms/step - loss: 0.1683 - accuracy: 0.9473 - val_loss: 0.1669 - val_accuracy: 0.9211\n",
      "Epoch 13/100\n",
      "15/15 [==============================] - 0s 7ms/step - loss: 0.1722 - accuracy: 0.9516 - val_loss: 0.1454 - val_accuracy: 0.9298\n",
      "Epoch 14/100\n",
      "15/15 [==============================] - 0s 6ms/step - loss: 0.1811 - accuracy: 0.9341 - val_loss: 0.1364 - val_accuracy: 0.9561\n",
      "Epoch 15/100\n",
      "15/15 [==============================] - 0s 6ms/step - loss: 0.1077 - accuracy: 0.9670 - val_loss: 0.1291 - val_accuracy: 0.9386\n",
      "Epoch 16/100\n",
      "15/15 [==============================] - 0s 7ms/step - loss: 0.1350 - accuracy: 0.9473 - val_loss: 0.1413 - val_accuracy: 0.9386\n",
      "Epoch 17/100\n",
      "15/15 [==============================] - 0s 7ms/step - loss: 0.1211 - accuracy: 0.9516 - val_loss: 0.1364 - val_accuracy: 0.9298\n",
      "Epoch 18/100\n",
      "15/15 [==============================] - 0s 7ms/step - loss: 0.1334 - accuracy: 0.9516 - val_loss: 0.1537 - val_accuracy: 0.9123\n",
      "Epoch 19/100\n",
      "15/15 [==============================] - 0s 7ms/step - loss: 0.1756 - accuracy: 0.9516 - val_loss: 0.1356 - val_accuracy: 0.9561\n",
      "Epoch 20/100\n",
      "15/15 [==============================] - 0s 7ms/step - loss: 0.1671 - accuracy: 0.9429 - val_loss: 0.1495 - val_accuracy: 0.9298\n",
      "Epoch 21/100\n",
      "15/15 [==============================] - 0s 7ms/step - loss: 0.1734 - accuracy: 0.9385 - val_loss: 0.1485 - val_accuracy: 0.9386\n",
      "Epoch 22/100\n",
      "15/15 [==============================] - 0s 6ms/step - loss: 0.1880 - accuracy: 0.9319 - val_loss: 0.1345 - val_accuracy: 0.9298\n",
      "Epoch 23/100\n",
      "15/15 [==============================] - 0s 6ms/step - loss: 0.1655 - accuracy: 0.9297 - val_loss: 0.1466 - val_accuracy: 0.9298\n",
      "Epoch 24/100\n",
      "15/15 [==============================] - 0s 6ms/step - loss: 0.1673 - accuracy: 0.9363 - val_loss: 0.1293 - val_accuracy: 0.9298\n",
      "Epoch 25/100\n",
      "15/15 [==============================] - 0s 6ms/step - loss: 0.1156 - accuracy: 0.9495 - val_loss: 0.1287 - val_accuracy: 0.9298\n",
      "Epoch 26/100\n",
      "15/15 [==============================] - 0s 6ms/step - loss: 0.1445 - accuracy: 0.9495 - val_loss: 0.1547 - val_accuracy: 0.9298\n",
      "Epoch 27/100\n",
      "15/15 [==============================] - 0s 6ms/step - loss: 0.1558 - accuracy: 0.9473 - val_loss: 0.1310 - val_accuracy: 0.9298\n",
      "Epoch 28/100\n",
      "15/15 [==============================] - 0s 6ms/step - loss: 0.1688 - accuracy: 0.9363 - val_loss: 0.1333 - val_accuracy: 0.9298\n",
      "Epoch 29/100\n",
      "15/15 [==============================] - 0s 6ms/step - loss: 0.1470 - accuracy: 0.9473 - val_loss: 0.1889 - val_accuracy: 0.9211\n",
      "Epoch 30/100\n",
      "15/15 [==============================] - 0s 7ms/step - loss: 0.1362 - accuracy: 0.9538 - val_loss: 0.1568 - val_accuracy: 0.9298\n",
      "Epoch 31/100\n",
      "15/15 [==============================] - 0s 6ms/step - loss: 0.1860 - accuracy: 0.9297 - val_loss: 0.1406 - val_accuracy: 0.9298\n",
      "Epoch 32/100\n",
      "15/15 [==============================] - 0s 7ms/step - loss: 0.1472 - accuracy: 0.9407 - val_loss: 0.1326 - val_accuracy: 0.9298\n",
      "Epoch 33/100\n",
      "15/15 [==============================] - 0s 7ms/step - loss: 0.1428 - accuracy: 0.9495 - val_loss: 0.1280 - val_accuracy: 0.9386\n",
      "Epoch 34/100\n",
      "15/15 [==============================] - 0s 7ms/step - loss: 0.1935 - accuracy: 0.9451 - val_loss: 0.1387 - val_accuracy: 0.9298\n",
      "Epoch 35/100\n",
      "15/15 [==============================] - 0s 7ms/step - loss: 0.1337 - accuracy: 0.9451 - val_loss: 0.1327 - val_accuracy: 0.9298\n",
      "Epoch 36/100\n",
      "15/15 [==============================] - 0s 6ms/step - loss: 0.1350 - accuracy: 0.9582 - val_loss: 0.1381 - val_accuracy: 0.9386\n",
      "Epoch 37/100\n",
      "15/15 [==============================] - 0s 6ms/step - loss: 0.1549 - accuracy: 0.9473 - val_loss: 0.1234 - val_accuracy: 0.9649\n",
      "Epoch 38/100\n",
      "15/15 [==============================] - 0s 6ms/step - loss: 0.1435 - accuracy: 0.9516 - val_loss: 0.1327 - val_accuracy: 0.9474\n",
      "Epoch 39/100\n",
      "15/15 [==============================] - 0s 6ms/step - loss: 0.1450 - accuracy: 0.9516 - val_loss: 0.1333 - val_accuracy: 0.9386\n",
      "Epoch 40/100\n",
      "15/15 [==============================] - 0s 7ms/step - loss: 0.1266 - accuracy: 0.9538 - val_loss: 0.1259 - val_accuracy: 0.9386\n",
      "Epoch 41/100\n",
      "15/15 [==============================] - 0s 6ms/step - loss: 0.1577 - accuracy: 0.9385 - val_loss: 0.1314 - val_accuracy: 0.9386\n",
      "Epoch 42/100\n",
      "15/15 [==============================] - 0s 7ms/step - loss: 0.1497 - accuracy: 0.9429 - val_loss: 0.1279 - val_accuracy: 0.9474\n",
      "Epoch 43/100\n",
      "15/15 [==============================] - 0s 6ms/step - loss: 0.1232 - accuracy: 0.9604 - val_loss: 0.1230 - val_accuracy: 0.9561\n",
      "Epoch 44/100\n",
      "15/15 [==============================] - 0s 6ms/step - loss: 0.1414 - accuracy: 0.9560 - val_loss: 0.1382 - val_accuracy: 0.9386\n",
      "Epoch 45/100\n",
      "15/15 [==============================] - 0s 6ms/step - loss: 0.1209 - accuracy: 0.9604 - val_loss: 0.1381 - val_accuracy: 0.9649\n",
      "Epoch 46/100\n",
      "15/15 [==============================] - 0s 6ms/step - loss: 0.1253 - accuracy: 0.9582 - val_loss: 0.1522 - val_accuracy: 0.9386\n",
      "Epoch 47/100\n",
      "15/15 [==============================] - 0s 6ms/step - loss: 0.1656 - accuracy: 0.9407 - val_loss: 0.1433 - val_accuracy: 0.9298\n",
      "Epoch 48/100\n",
      "15/15 [==============================] - 0s 6ms/step - loss: 0.1179 - accuracy: 0.9516 - val_loss: 0.1317 - val_accuracy: 0.9298\n",
      "Epoch 49/100\n",
      "15/15 [==============================] - 0s 6ms/step - loss: 0.1277 - accuracy: 0.9560 - val_loss: 0.1375 - val_accuracy: 0.9298\n",
      "Epoch 50/100\n",
      "15/15 [==============================] - 0s 6ms/step - loss: 0.1472 - accuracy: 0.9451 - val_loss: 0.1427 - val_accuracy: 0.9386\n",
      "Epoch 51/100\n",
      "15/15 [==============================] - 0s 6ms/step - loss: 0.1197 - accuracy: 0.9516 - val_loss: 0.1286 - val_accuracy: 0.9737\n",
      "Epoch 52/100\n",
      "15/15 [==============================] - 0s 7ms/step - loss: 0.1160 - accuracy: 0.9582 - val_loss: 0.1364 - val_accuracy: 0.9561\n",
      "Epoch 53/100\n",
      "15/15 [==============================] - 0s 7ms/step - loss: 0.0997 - accuracy: 0.9604 - val_loss: 0.1369 - val_accuracy: 0.9474\n",
      "Epoch 54/100\n",
      "15/15 [==============================] - 0s 7ms/step - loss: 0.1486 - accuracy: 0.9407 - val_loss: 0.1371 - val_accuracy: 0.9561\n",
      "Epoch 55/100\n",
      "15/15 [==============================] - 0s 7ms/step - loss: 0.1185 - accuracy: 0.9516 - val_loss: 0.1355 - val_accuracy: 0.9474\n",
      "Epoch 56/100\n",
      "15/15 [==============================] - 0s 7ms/step - loss: 0.1437 - accuracy: 0.9560 - val_loss: 0.1275 - val_accuracy: 0.9386\n",
      "Epoch 57/100\n",
      "15/15 [==============================] - 0s 7ms/step - loss: 0.1228 - accuracy: 0.9648 - val_loss: 0.1388 - val_accuracy: 0.9298\n",
      "Epoch 58/100\n",
      "15/15 [==============================] - 0s 7ms/step - loss: 0.1092 - accuracy: 0.9626 - val_loss: 0.1366 - val_accuracy: 0.9298\n",
      "Epoch 59/100\n",
      "15/15 [==============================] - 0s 8ms/step - loss: 0.1183 - accuracy: 0.9538 - val_loss: 0.1248 - val_accuracy: 0.9474\n",
      "Epoch 60/100\n",
      "15/15 [==============================] - 0s 6ms/step - loss: 0.1146 - accuracy: 0.9495 - val_loss: 0.1278 - val_accuracy: 0.9386\n",
      "Epoch 61/100\n",
      "15/15 [==============================] - 0s 6ms/step - loss: 0.1326 - accuracy: 0.9626 - val_loss: 0.1330 - val_accuracy: 0.9474\n",
      "Epoch 62/100\n",
      "15/15 [==============================] - 0s 7ms/step - loss: 0.1256 - accuracy: 0.9538 - val_loss: 0.1278 - val_accuracy: 0.9561\n",
      "Epoch 63/100\n",
      "15/15 [==============================] - 0s 6ms/step - loss: 0.1281 - accuracy: 0.9560 - val_loss: 0.1455 - val_accuracy: 0.9298\n",
      "Epoch 64/100\n",
      "15/15 [==============================] - 0s 6ms/step - loss: 0.1500 - accuracy: 0.9385 - val_loss: 0.1390 - val_accuracy: 0.9474\n",
      "Epoch 65/100\n",
      "15/15 [==============================] - 0s 6ms/step - loss: 0.1666 - accuracy: 0.9407 - val_loss: 0.1436 - val_accuracy: 0.9474\n",
      "Epoch 66/100\n",
      "15/15 [==============================] - 0s 6ms/step - loss: 0.1077 - accuracy: 0.9692 - val_loss: 0.1356 - val_accuracy: 0.9298\n",
      "Epoch 67/100\n",
      "15/15 [==============================] - 0s 6ms/step - loss: 0.1127 - accuracy: 0.9604 - val_loss: 0.1357 - val_accuracy: 0.9386\n",
      "Epoch 68/100\n",
      "15/15 [==============================] - 0s 6ms/step - loss: 0.1150 - accuracy: 0.9495 - val_loss: 0.1384 - val_accuracy: 0.9386\n",
      "Epoch 69/100\n",
      "15/15 [==============================] - 0s 7ms/step - loss: 0.1287 - accuracy: 0.9560 - val_loss: 0.1440 - val_accuracy: 0.9386\n",
      "Epoch 70/100\n",
      "15/15 [==============================] - 0s 6ms/step - loss: 0.1571 - accuracy: 0.9495 - val_loss: 0.1488 - val_accuracy: 0.9474\n",
      "Epoch 71/100\n",
      "15/15 [==============================] - 0s 6ms/step - loss: 0.1012 - accuracy: 0.9626 - val_loss: 0.1414 - val_accuracy: 0.9298\n",
      "Epoch 72/100\n",
      "15/15 [==============================] - 0s 6ms/step - loss: 0.1288 - accuracy: 0.9538 - val_loss: 0.1261 - val_accuracy: 0.9474\n",
      "Epoch 73/100\n",
      "15/15 [==============================] - 0s 6ms/step - loss: 0.1590 - accuracy: 0.9516 - val_loss: 0.1361 - val_accuracy: 0.9474\n",
      "Epoch 74/100\n",
      "15/15 [==============================] - 0s 6ms/step - loss: 0.1319 - accuracy: 0.9538 - val_loss: 0.1137 - val_accuracy: 0.9737\n",
      "Epoch 75/100\n",
      "15/15 [==============================] - 0s 6ms/step - loss: 0.1065 - accuracy: 0.9626 - val_loss: 0.1247 - val_accuracy: 0.9474\n",
      "Epoch 76/100\n",
      "15/15 [==============================] - 0s 6ms/step - loss: 0.1245 - accuracy: 0.9560 - val_loss: 0.1332 - val_accuracy: 0.9649\n",
      "Epoch 77/100\n",
      "15/15 [==============================] - 0s 7ms/step - loss: 0.1379 - accuracy: 0.9538 - val_loss: 0.1245 - val_accuracy: 0.9561\n",
      "Epoch 78/100\n",
      "15/15 [==============================] - 0s 7ms/step - loss: 0.1150 - accuracy: 0.9495 - val_loss: 0.1546 - val_accuracy: 0.9474\n",
      "Epoch 79/100\n",
      "15/15 [==============================] - 0s 6ms/step - loss: 0.1311 - accuracy: 0.9495 - val_loss: 0.1280 - val_accuracy: 0.9561\n",
      "Epoch 80/100\n",
      "15/15 [==============================] - 0s 6ms/step - loss: 0.1357 - accuracy: 0.9626 - val_loss: 0.1193 - val_accuracy: 0.9649\n",
      "Epoch 81/100\n",
      "15/15 [==============================] - 0s 7ms/step - loss: 0.1197 - accuracy: 0.9516 - val_loss: 0.1211 - val_accuracy: 0.9561\n",
      "Epoch 82/100\n",
      "15/15 [==============================] - 0s 6ms/step - loss: 0.1240 - accuracy: 0.9604 - val_loss: 0.1288 - val_accuracy: 0.9561\n",
      "Epoch 83/100\n",
      "15/15 [==============================] - 0s 6ms/step - loss: 0.1205 - accuracy: 0.9604 - val_loss: 0.1223 - val_accuracy: 0.9561\n",
      "Epoch 84/100\n",
      "15/15 [==============================] - 0s 6ms/step - loss: 0.1462 - accuracy: 0.9538 - val_loss: 0.1211 - val_accuracy: 0.9737\n",
      "Epoch 85/100\n",
      "15/15 [==============================] - 0s 6ms/step - loss: 0.1315 - accuracy: 0.9604 - val_loss: 0.1206 - val_accuracy: 0.9649\n",
      "Epoch 86/100\n",
      "15/15 [==============================] - 0s 6ms/step - loss: 0.1467 - accuracy: 0.9516 - val_loss: 0.1311 - val_accuracy: 0.9561\n",
      "Epoch 87/100\n",
      "15/15 [==============================] - 0s 6ms/step - loss: 0.0808 - accuracy: 0.9714 - val_loss: 0.1199 - val_accuracy: 0.9474\n",
      "Epoch 88/100\n",
      "15/15 [==============================] - 0s 7ms/step - loss: 0.1160 - accuracy: 0.9626 - val_loss: 0.1278 - val_accuracy: 0.9298\n",
      "Epoch 89/100\n",
      "15/15 [==============================] - 0s 6ms/step - loss: 0.1159 - accuracy: 0.9582 - val_loss: 0.1435 - val_accuracy: 0.9561\n",
      "Epoch 90/100\n",
      "15/15 [==============================] - 0s 6ms/step - loss: 0.1306 - accuracy: 0.9495 - val_loss: 0.1200 - val_accuracy: 0.9649\n",
      "Epoch 91/100\n",
      "15/15 [==============================] - 0s 6ms/step - loss: 0.1299 - accuracy: 0.9407 - val_loss: 0.1204 - val_accuracy: 0.9737\n",
      "Epoch 92/100\n",
      "15/15 [==============================] - 0s 7ms/step - loss: 0.1450 - accuracy: 0.9516 - val_loss: 0.1136 - val_accuracy: 0.9649\n",
      "Epoch 93/100\n",
      "15/15 [==============================] - 0s 6ms/step - loss: 0.1110 - accuracy: 0.9582 - val_loss: 0.1166 - val_accuracy: 0.9649\n",
      "Epoch 94/100\n",
      "15/15 [==============================] - 0s 6ms/step - loss: 0.1095 - accuracy: 0.9648 - val_loss: 0.1325 - val_accuracy: 0.9561\n",
      "Epoch 95/100\n",
      "15/15 [==============================] - 0s 8ms/step - loss: 0.1091 - accuracy: 0.9582 - val_loss: 0.1146 - val_accuracy: 0.9649\n",
      "Epoch 96/100\n",
      "15/15 [==============================] - 0s 6ms/step - loss: 0.1124 - accuracy: 0.9538 - val_loss: 0.1231 - val_accuracy: 0.9474\n",
      "Epoch 97/100\n",
      "15/15 [==============================] - 0s 6ms/step - loss: 0.1102 - accuracy: 0.9604 - val_loss: 0.1138 - val_accuracy: 0.9649\n",
      "Epoch 98/100\n",
      "15/15 [==============================] - 0s 7ms/step - loss: 0.1063 - accuracy: 0.9582 - val_loss: 0.1155 - val_accuracy: 0.9649\n",
      "Epoch 99/100\n",
      "15/15 [==============================] - 0s 6ms/step - loss: 0.0971 - accuracy: 0.9604 - val_loss: 0.1145 - val_accuracy: 0.9474\n",
      "Epoch 100/100\n",
      "15/15 [==============================] - 0s 6ms/step - loss: 0.1143 - accuracy: 0.9626 - val_loss: 0.0989 - val_accuracy: 0.9737\n"
     ]
    }
   ],
   "source": [
    "historyETC = modelETC.fit(X_train_ETC, y_train, epochs = 100, validation_data=(X_test_ETC, y_test), verbose = 1)"
   ]
  },
  {
   "cell_type": "code",
   "execution_count": 74,
   "metadata": {
    "colab": {
     "base_uri": "https://localhost:8080/",
     "height": 573
    },
    "colab_type": "code",
    "id": "7iNkL0Nrh0aG",
    "outputId": "b912d24e-ed31-40e9-dc4a-07c78fbe3a09"
   },
   "outputs": [
    {
     "data": {
      "image/png": "[encoded data removed]",
      "text/plain": [
       "<Figure size 432x288 with 1 Axes>"
      ]
     },
     "metadata": {
      "needs_background": "light",
      "tags": []
     },
     "output_type": "display_data"
    },
    {
     "data": {
      "image/png": "[encoded data removed]",
      "text/plain": [
       "<Figure size 432x288 with 1 Axes>"
      ]
     },
     "metadata": {
      "needs_background": "light",
      "tags": []
     },
     "output_type": "display_data"
    }
   ],
   "source": [
    "plotLC(historyETC, 100)"
   ]
  },
  {
   "cell_type": "code",
   "execution_count": 75,
   "metadata": {
    "colab": {
     "base_uri": "https://localhost:8080/",
     "height": 187
    },
    "colab_type": "code",
    "id": "PVtSVZ_ulTZ1",
    "outputId": "d00ec79b-a631-4169-ddea-f3ba28f3dc39"
   },
   "outputs": [
    {
     "name": "stdout",
     "output_type": "stream",
     "text": [
      "Convolutional Neural Network\n",
      "\n",
      "[[67  0]\n",
      " [ 3 44]]\n",
      "\n",
      "Accuracy Score:    0.9736842105263158\n",
      "Precision Score:   1.0\n",
      "Recall Score:      0.9361702127659575\n",
      "Kappa Score:       0.9451747354921449\n",
      "F1 Score:          0.967032967032967\n"
     ]
    }
   ],
   "source": [
    "CNNMetrics(modelETC, X_test_ETC, y_test)"
   ]
  }
 ],
 "metadata": {
  "colab": {
   "collapsed_sections": [],
   "name": "WDBC Classification.ipynb",
   "provenance": []
  },
  "kernelspec": {
   "display_name": "Python 3",
   "language": "python",
   "name": "python3"
  },
  "language_info": {
   "codemirror_mode": {
    "name": "ipython",
    "version": 3
   },
   "file_extension": ".py",
   "mimetype": "text/x-python",
   "name": "python",
   "nbconvert_exporter": "python",
   "pygments_lexer": "ipython3",
   "version": "3.7.6"
  }
 },
 "nbformat": 4,
 "nbformat_minor": 0
}
